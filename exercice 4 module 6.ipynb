{
  "nbformat": 4,
  "nbformat_minor": 0,
  "metadata": {
    "colab": {
      "name": "Untitled3.ipynb",
      "provenance": [],
      "authorship_tag": "ABX9TyOhP5ArYZrx8K5zsEF7BImN",
      "include_colab_link": true
    },
    "kernelspec": {
      "name": "ir",
      "display_name": "R"
    }
  },
  "cells": [
    {
      "cell_type": "markdown",
      "metadata": {
        "id": "view-in-github",
        "colab_type": "text"
      },
      "source": [
        "<a href=\"https://colab.research.google.com/github/floredepeint/demo_isds/blob/main/exercice%204%20module%206.ipynb\" target=\"_parent\"><img src=\"https://colab.research.google.com/assets/colab-badge.svg\" alt=\"Open In Colab\"/></a>"
      ]
    },
    {
      "cell_type": "code",
      "metadata": {
        "colab": {
          "base_uri": "https://localhost:8080/"
        },
        "id": "HIRnRKn5FHKW",
        "outputId": "9dabb69c-5705-431f-e1f4-dd46e2b0dc61"
      },
      "source": [
        "#Téléchargement des packages nécessaires\r\n",
        "\r\n",
        "library (tidyverse)\r\n",
        "install.packages(\"rsq\")\r\n",
        "require(rsq)\r\n",
        "library(ggplot2)\r\n",
        "install.packages(\"descr\")\r\n",
        "require(descr)"
      ],
      "execution_count": 21,
      "outputs": [
        {
          "output_type": "stream",
          "text": [
            "Installing package into ‘/usr/local/lib/R/site-library’\n",
            "(as ‘lib’ is unspecified)\n",
            "\n",
            "Installing package into ‘/usr/local/lib/R/site-library’\n",
            "(as ‘lib’ is unspecified)\n",
            "\n"
          ],
          "name": "stderr"
        }
      ]
    },
    {
      "cell_type": "code",
      "metadata": {
        "colab": {
          "base_uri": "https://localhost:8080/",
          "height": 1000
        },
        "id": "v8Q5-araFadm",
        "outputId": "8d69625a-fdf4-45e7-e543-33a575ff7b18"
      },
      "source": [
        "#Ouvrir le fichier\r\n",
        "\r\n",
        "path_to_csv = 'https://github.com/Cours-EDUlib/FAS-ISDS/blob/main/module-6/Exercices/6-4_donnees.csv?raw=true'\r\n",
        "\r\n",
        "bd <- read_csv(path_to_csv)\r\n",
        "bd "
      ],
      "execution_count": 22,
      "outputs": [
        {
          "output_type": "stream",
          "text": [
            "Warning message:\n",
            "“Missing column names filled in: 'X1' [1]”\n",
            "Warning message:\n",
            "“Duplicated column names deduplicated: 'X1' => 'X1_1' [2]”\n",
            "\n",
            "\u001b[36m──\u001b[39m \u001b[1m\u001b[1mColumn specification\u001b[1m\u001b[22m \u001b[36m────────────────────────────────────────────────────────\u001b[39m\n",
            "cols(\n",
            "  X1 = \u001b[32mcol_double()\u001b[39m,\n",
            "  X1_1 = \u001b[32mcol_double()\u001b[39m,\n",
            "  childs = \u001b[32mcol_double()\u001b[39m,\n",
            "  degree = \u001b[32mcol_double()\u001b[39m,\n",
            "  educ = \u001b[32mcol_double()\u001b[39m,\n",
            "  sei = \u001b[32mcol_double()\u001b[39m,\n",
            "  divorce = \u001b[32mcol_double()\u001b[39m\n",
            ")\n",
            "\n",
            "\n"
          ],
          "name": "stderr"
        },
        {
          "output_type": "display_data",
          "data": {
            "text/plain": [
              "     X1   X1_1 childs degree educ sei divorce\n",
              "1     1    1   0      1      12   434 0      \n",
              "2     2    2   0      3      17   389 0      \n",
              "3     3    3   1      4      18   351 0      \n",
              "4     4    4   1      0       6   625 1      \n",
              "5     5    5   1      0       8   171 0      \n",
              "6     6    6   1      3      17   692 1      \n",
              "7     7    7   1      1      12   298 1      \n",
              "8     8    8   1      1      13   377 1      \n",
              "9     9    9   0      1      13   377 0      \n",
              "10   10   10   1      1      13    NA 0      \n",
              "11   11   11   0      4      19   923 0      \n",
              "12   12   12   0      4      16   809 1      \n",
              "13   13   13   0      3      16   764 1      \n",
              "14   14   14   0      1      13   374 1      \n",
              "15   15   15   1      3      16   384 1      \n",
              "16   16   16   0      3      16   389 0      \n",
              "17   17   17   0      1      15   625 0      \n",
              "18   18   18   0      4      19   839 1      \n",
              "19   19   19   0      1      13   171 1      \n",
              "20   20   20   1      1      12   377 0      \n",
              "21   21   21   1      1      12   394 1      \n",
              "22   22   22   1      0       4   275 0      \n",
              "23   23   23   1      1      15   499 1      \n",
              "24   24   24   0      1      12   293 0      \n",
              "25   25   25   1      0      11   293 0      \n",
              "26   26   26   0      1      16   525 1      \n",
              "27   27   27   1      3      20   537 0      \n",
              "28   28   28   0      3      17   763 1      \n",
              "29   29   29   0      3      16   725 0      \n",
              "30   30   30   0      3      16   339 0      \n",
              "⋮    ⋮    ⋮    ⋮      ⋮      ⋮    ⋮   ⋮      \n",
              "2860 2860 2875 1      4      20   879 0      \n",
              "2861 2861 2876 0      4      18   625 0      \n",
              "2862 2862 2877 1      1      13   331 0      \n",
              "2863 2863 2878 1      0      10   397 0      \n",
              "2864 2864 2879 1      1      12   697 1      \n",
              "2865 2865 2880 1      1      12   499 0      \n",
              "2866 2866 2881 0      1      13   389 1      \n",
              "2867 2867 2882 0      2      14   394 0      \n",
              "2868 2868 2883 0      1      16   764 1      \n",
              "2869 2869 2884 1      1      12   485 0      \n",
              "2870 2870 2885 0      1      14   264 0      \n",
              "2871 2871 2886 0      3      16   422 1      \n",
              "2872 2872 2887 1      1      12   507 0      \n",
              "2873 2873 2888 1      1      13   545 0      \n",
              "2874 2874 2889 1      1      12   525 0      \n",
              "2875 2875 2890 1      3      16   622 1      \n",
              "2876 2876 2891 1      1      12   505 0      \n",
              "2877 2877 2892 1      1      12   331 1      \n",
              "2878 2878 2893 1      1      12   381 0      \n",
              "2879 2879 2894 1      1      14   744 0      \n",
              "2880 2880 2895 1      1      13    NA 0      \n",
              "2881 2881 2896 1      1      12   284 1      \n",
              "2882 2882 2897 0      3      16   324 0      \n",
              "2883 2883 2898 0      2      14   286 1      \n",
              "2884 2884 2899 1      1      11   389 1      \n",
              "2885 2885 2900 0      0      11   381 0      \n",
              "2886 2886 2901 1      1      12   384 0      \n",
              "2887 2887 2902 1      1      12   284 0      \n",
              "2888 2888 2903 1      1       9   681 0      \n",
              "2889 2889 2904 1      1      12   324 0      "
            ],
            "text/latex": "A spec\\_tbl\\_df: 2889 × 7\n\\begin{tabular}{lllllll}\n X1 & X1\\_1 & childs & degree & educ & sei & divorce\\\\\n <dbl> & <dbl> & <dbl> & <dbl> & <dbl> & <dbl> & <dbl>\\\\\n\\hline\n\t  1 &  1 & 0 & 1 & 12 & 434 & 0\\\\\n\t  2 &  2 & 0 & 3 & 17 & 389 & 0\\\\\n\t  3 &  3 & 1 & 4 & 18 & 351 & 0\\\\\n\t  4 &  4 & 1 & 0 &  6 & 625 & 1\\\\\n\t  5 &  5 & 1 & 0 &  8 & 171 & 0\\\\\n\t  6 &  6 & 1 & 3 & 17 & 692 & 1\\\\\n\t  7 &  7 & 1 & 1 & 12 & 298 & 1\\\\\n\t  8 &  8 & 1 & 1 & 13 & 377 & 1\\\\\n\t  9 &  9 & 0 & 1 & 13 & 377 & 0\\\\\n\t 10 & 10 & 1 & 1 & 13 &  NA & 0\\\\\n\t 11 & 11 & 0 & 4 & 19 & 923 & 0\\\\\n\t 12 & 12 & 0 & 4 & 16 & 809 & 1\\\\\n\t 13 & 13 & 0 & 3 & 16 & 764 & 1\\\\\n\t 14 & 14 & 0 & 1 & 13 & 374 & 1\\\\\n\t 15 & 15 & 1 & 3 & 16 & 384 & 1\\\\\n\t 16 & 16 & 0 & 3 & 16 & 389 & 0\\\\\n\t 17 & 17 & 0 & 1 & 15 & 625 & 0\\\\\n\t 18 & 18 & 0 & 4 & 19 & 839 & 1\\\\\n\t 19 & 19 & 0 & 1 & 13 & 171 & 1\\\\\n\t 20 & 20 & 1 & 1 & 12 & 377 & 0\\\\\n\t 21 & 21 & 1 & 1 & 12 & 394 & 1\\\\\n\t 22 & 22 & 1 & 0 &  4 & 275 & 0\\\\\n\t 23 & 23 & 1 & 1 & 15 & 499 & 1\\\\\n\t 24 & 24 & 0 & 1 & 12 & 293 & 0\\\\\n\t 25 & 25 & 1 & 0 & 11 & 293 & 0\\\\\n\t 26 & 26 & 0 & 1 & 16 & 525 & 1\\\\\n\t 27 & 27 & 1 & 3 & 20 & 537 & 0\\\\\n\t 28 & 28 & 0 & 3 & 17 & 763 & 1\\\\\n\t 29 & 29 & 0 & 3 & 16 & 725 & 0\\\\\n\t 30 & 30 & 0 & 3 & 16 & 339 & 0\\\\\n\t ⋮ & ⋮ & ⋮ & ⋮ & ⋮ & ⋮ & ⋮\\\\\n\t 2860 & 2875 & 1 & 4 & 20 & 879 & 0\\\\\n\t 2861 & 2876 & 0 & 4 & 18 & 625 & 0\\\\\n\t 2862 & 2877 & 1 & 1 & 13 & 331 & 0\\\\\n\t 2863 & 2878 & 1 & 0 & 10 & 397 & 0\\\\\n\t 2864 & 2879 & 1 & 1 & 12 & 697 & 1\\\\\n\t 2865 & 2880 & 1 & 1 & 12 & 499 & 0\\\\\n\t 2866 & 2881 & 0 & 1 & 13 & 389 & 1\\\\\n\t 2867 & 2882 & 0 & 2 & 14 & 394 & 0\\\\\n\t 2868 & 2883 & 0 & 1 & 16 & 764 & 1\\\\\n\t 2869 & 2884 & 1 & 1 & 12 & 485 & 0\\\\\n\t 2870 & 2885 & 0 & 1 & 14 & 264 & 0\\\\\n\t 2871 & 2886 & 0 & 3 & 16 & 422 & 1\\\\\n\t 2872 & 2887 & 1 & 1 & 12 & 507 & 0\\\\\n\t 2873 & 2888 & 1 & 1 & 13 & 545 & 0\\\\\n\t 2874 & 2889 & 1 & 1 & 12 & 525 & 0\\\\\n\t 2875 & 2890 & 1 & 3 & 16 & 622 & 1\\\\\n\t 2876 & 2891 & 1 & 1 & 12 & 505 & 0\\\\\n\t 2877 & 2892 & 1 & 1 & 12 & 331 & 1\\\\\n\t 2878 & 2893 & 1 & 1 & 12 & 381 & 0\\\\\n\t 2879 & 2894 & 1 & 1 & 14 & 744 & 0\\\\\n\t 2880 & 2895 & 1 & 1 & 13 &  NA & 0\\\\\n\t 2881 & 2896 & 1 & 1 & 12 & 284 & 1\\\\\n\t 2882 & 2897 & 0 & 3 & 16 & 324 & 0\\\\\n\t 2883 & 2898 & 0 & 2 & 14 & 286 & 1\\\\\n\t 2884 & 2899 & 1 & 1 & 11 & 389 & 1\\\\\n\t 2885 & 2900 & 0 & 0 & 11 & 381 & 0\\\\\n\t 2886 & 2901 & 1 & 1 & 12 & 384 & 0\\\\\n\t 2887 & 2902 & 1 & 1 & 12 & 284 & 0\\\\\n\t 2888 & 2903 & 1 & 1 &  9 & 681 & 0\\\\\n\t 2889 & 2904 & 1 & 1 & 12 & 324 & 0\\\\\n\\end{tabular}\n",
            "text/markdown": "\nA spec_tbl_df: 2889 × 7\n\n| X1 &lt;dbl&gt; | X1_1 &lt;dbl&gt; | childs &lt;dbl&gt; | degree &lt;dbl&gt; | educ &lt;dbl&gt; | sei &lt;dbl&gt; | divorce &lt;dbl&gt; |\n|---|---|---|---|---|---|---|\n|  1 |  1 | 0 | 1 | 12 | 434 | 0 |\n|  2 |  2 | 0 | 3 | 17 | 389 | 0 |\n|  3 |  3 | 1 | 4 | 18 | 351 | 0 |\n|  4 |  4 | 1 | 0 |  6 | 625 | 1 |\n|  5 |  5 | 1 | 0 |  8 | 171 | 0 |\n|  6 |  6 | 1 | 3 | 17 | 692 | 1 |\n|  7 |  7 | 1 | 1 | 12 | 298 | 1 |\n|  8 |  8 | 1 | 1 | 13 | 377 | 1 |\n|  9 |  9 | 0 | 1 | 13 | 377 | 0 |\n| 10 | 10 | 1 | 1 | 13 |  NA | 0 |\n| 11 | 11 | 0 | 4 | 19 | 923 | 0 |\n| 12 | 12 | 0 | 4 | 16 | 809 | 1 |\n| 13 | 13 | 0 | 3 | 16 | 764 | 1 |\n| 14 | 14 | 0 | 1 | 13 | 374 | 1 |\n| 15 | 15 | 1 | 3 | 16 | 384 | 1 |\n| 16 | 16 | 0 | 3 | 16 | 389 | 0 |\n| 17 | 17 | 0 | 1 | 15 | 625 | 0 |\n| 18 | 18 | 0 | 4 | 19 | 839 | 1 |\n| 19 | 19 | 0 | 1 | 13 | 171 | 1 |\n| 20 | 20 | 1 | 1 | 12 | 377 | 0 |\n| 21 | 21 | 1 | 1 | 12 | 394 | 1 |\n| 22 | 22 | 1 | 0 |  4 | 275 | 0 |\n| 23 | 23 | 1 | 1 | 15 | 499 | 1 |\n| 24 | 24 | 0 | 1 | 12 | 293 | 0 |\n| 25 | 25 | 1 | 0 | 11 | 293 | 0 |\n| 26 | 26 | 0 | 1 | 16 | 525 | 1 |\n| 27 | 27 | 1 | 3 | 20 | 537 | 0 |\n| 28 | 28 | 0 | 3 | 17 | 763 | 1 |\n| 29 | 29 | 0 | 3 | 16 | 725 | 0 |\n| 30 | 30 | 0 | 3 | 16 | 339 | 0 |\n| ⋮ | ⋮ | ⋮ | ⋮ | ⋮ | ⋮ | ⋮ |\n| 2860 | 2875 | 1 | 4 | 20 | 879 | 0 |\n| 2861 | 2876 | 0 | 4 | 18 | 625 | 0 |\n| 2862 | 2877 | 1 | 1 | 13 | 331 | 0 |\n| 2863 | 2878 | 1 | 0 | 10 | 397 | 0 |\n| 2864 | 2879 | 1 | 1 | 12 | 697 | 1 |\n| 2865 | 2880 | 1 | 1 | 12 | 499 | 0 |\n| 2866 | 2881 | 0 | 1 | 13 | 389 | 1 |\n| 2867 | 2882 | 0 | 2 | 14 | 394 | 0 |\n| 2868 | 2883 | 0 | 1 | 16 | 764 | 1 |\n| 2869 | 2884 | 1 | 1 | 12 | 485 | 0 |\n| 2870 | 2885 | 0 | 1 | 14 | 264 | 0 |\n| 2871 | 2886 | 0 | 3 | 16 | 422 | 1 |\n| 2872 | 2887 | 1 | 1 | 12 | 507 | 0 |\n| 2873 | 2888 | 1 | 1 | 13 | 545 | 0 |\n| 2874 | 2889 | 1 | 1 | 12 | 525 | 0 |\n| 2875 | 2890 | 1 | 3 | 16 | 622 | 1 |\n| 2876 | 2891 | 1 | 1 | 12 | 505 | 0 |\n| 2877 | 2892 | 1 | 1 | 12 | 331 | 1 |\n| 2878 | 2893 | 1 | 1 | 12 | 381 | 0 |\n| 2879 | 2894 | 1 | 1 | 14 | 744 | 0 |\n| 2880 | 2895 | 1 | 1 | 13 |  NA | 0 |\n| 2881 | 2896 | 1 | 1 | 12 | 284 | 1 |\n| 2882 | 2897 | 0 | 3 | 16 | 324 | 0 |\n| 2883 | 2898 | 0 | 2 | 14 | 286 | 1 |\n| 2884 | 2899 | 1 | 1 | 11 | 389 | 1 |\n| 2885 | 2900 | 0 | 0 | 11 | 381 | 0 |\n| 2886 | 2901 | 1 | 1 | 12 | 384 | 0 |\n| 2887 | 2902 | 1 | 1 | 12 | 284 | 0 |\n| 2888 | 2903 | 1 | 1 |  9 | 681 | 0 |\n| 2889 | 2904 | 1 | 1 | 12 | 324 | 0 |\n\n",
            "text/html": [
              "<table class=\"dataframe\">\n",
              "<caption>A spec_tbl_df: 2889 × 7</caption>\n",
              "<thead>\n",
              "\t<tr><th scope=col>X1</th><th scope=col>X1_1</th><th scope=col>childs</th><th scope=col>degree</th><th scope=col>educ</th><th scope=col>sei</th><th scope=col>divorce</th></tr>\n",
              "\t<tr><th scope=col>&lt;dbl&gt;</th><th scope=col>&lt;dbl&gt;</th><th scope=col>&lt;dbl&gt;</th><th scope=col>&lt;dbl&gt;</th><th scope=col>&lt;dbl&gt;</th><th scope=col>&lt;dbl&gt;</th><th scope=col>&lt;dbl&gt;</th></tr>\n",
              "</thead>\n",
              "<tbody>\n",
              "\t<tr><td> 1</td><td> 1</td><td>0</td><td>1</td><td>12</td><td>434</td><td>0</td></tr>\n",
              "\t<tr><td> 2</td><td> 2</td><td>0</td><td>3</td><td>17</td><td>389</td><td>0</td></tr>\n",
              "\t<tr><td> 3</td><td> 3</td><td>1</td><td>4</td><td>18</td><td>351</td><td>0</td></tr>\n",
              "\t<tr><td> 4</td><td> 4</td><td>1</td><td>0</td><td> 6</td><td>625</td><td>1</td></tr>\n",
              "\t<tr><td> 5</td><td> 5</td><td>1</td><td>0</td><td> 8</td><td>171</td><td>0</td></tr>\n",
              "\t<tr><td> 6</td><td> 6</td><td>1</td><td>3</td><td>17</td><td>692</td><td>1</td></tr>\n",
              "\t<tr><td> 7</td><td> 7</td><td>1</td><td>1</td><td>12</td><td>298</td><td>1</td></tr>\n",
              "\t<tr><td> 8</td><td> 8</td><td>1</td><td>1</td><td>13</td><td>377</td><td>1</td></tr>\n",
              "\t<tr><td> 9</td><td> 9</td><td>0</td><td>1</td><td>13</td><td>377</td><td>0</td></tr>\n",
              "\t<tr><td>10</td><td>10</td><td>1</td><td>1</td><td>13</td><td> NA</td><td>0</td></tr>\n",
              "\t<tr><td>11</td><td>11</td><td>0</td><td>4</td><td>19</td><td>923</td><td>0</td></tr>\n",
              "\t<tr><td>12</td><td>12</td><td>0</td><td>4</td><td>16</td><td>809</td><td>1</td></tr>\n",
              "\t<tr><td>13</td><td>13</td><td>0</td><td>3</td><td>16</td><td>764</td><td>1</td></tr>\n",
              "\t<tr><td>14</td><td>14</td><td>0</td><td>1</td><td>13</td><td>374</td><td>1</td></tr>\n",
              "\t<tr><td>15</td><td>15</td><td>1</td><td>3</td><td>16</td><td>384</td><td>1</td></tr>\n",
              "\t<tr><td>16</td><td>16</td><td>0</td><td>3</td><td>16</td><td>389</td><td>0</td></tr>\n",
              "\t<tr><td>17</td><td>17</td><td>0</td><td>1</td><td>15</td><td>625</td><td>0</td></tr>\n",
              "\t<tr><td>18</td><td>18</td><td>0</td><td>4</td><td>19</td><td>839</td><td>1</td></tr>\n",
              "\t<tr><td>19</td><td>19</td><td>0</td><td>1</td><td>13</td><td>171</td><td>1</td></tr>\n",
              "\t<tr><td>20</td><td>20</td><td>1</td><td>1</td><td>12</td><td>377</td><td>0</td></tr>\n",
              "\t<tr><td>21</td><td>21</td><td>1</td><td>1</td><td>12</td><td>394</td><td>1</td></tr>\n",
              "\t<tr><td>22</td><td>22</td><td>1</td><td>0</td><td> 4</td><td>275</td><td>0</td></tr>\n",
              "\t<tr><td>23</td><td>23</td><td>1</td><td>1</td><td>15</td><td>499</td><td>1</td></tr>\n",
              "\t<tr><td>24</td><td>24</td><td>0</td><td>1</td><td>12</td><td>293</td><td>0</td></tr>\n",
              "\t<tr><td>25</td><td>25</td><td>1</td><td>0</td><td>11</td><td>293</td><td>0</td></tr>\n",
              "\t<tr><td>26</td><td>26</td><td>0</td><td>1</td><td>16</td><td>525</td><td>1</td></tr>\n",
              "\t<tr><td>27</td><td>27</td><td>1</td><td>3</td><td>20</td><td>537</td><td>0</td></tr>\n",
              "\t<tr><td>28</td><td>28</td><td>0</td><td>3</td><td>17</td><td>763</td><td>1</td></tr>\n",
              "\t<tr><td>29</td><td>29</td><td>0</td><td>3</td><td>16</td><td>725</td><td>0</td></tr>\n",
              "\t<tr><td>30</td><td>30</td><td>0</td><td>3</td><td>16</td><td>339</td><td>0</td></tr>\n",
              "\t<tr><td>⋮</td><td>⋮</td><td>⋮</td><td>⋮</td><td>⋮</td><td>⋮</td><td>⋮</td></tr>\n",
              "\t<tr><td>2860</td><td>2875</td><td>1</td><td>4</td><td>20</td><td>879</td><td>0</td></tr>\n",
              "\t<tr><td>2861</td><td>2876</td><td>0</td><td>4</td><td>18</td><td>625</td><td>0</td></tr>\n",
              "\t<tr><td>2862</td><td>2877</td><td>1</td><td>1</td><td>13</td><td>331</td><td>0</td></tr>\n",
              "\t<tr><td>2863</td><td>2878</td><td>1</td><td>0</td><td>10</td><td>397</td><td>0</td></tr>\n",
              "\t<tr><td>2864</td><td>2879</td><td>1</td><td>1</td><td>12</td><td>697</td><td>1</td></tr>\n",
              "\t<tr><td>2865</td><td>2880</td><td>1</td><td>1</td><td>12</td><td>499</td><td>0</td></tr>\n",
              "\t<tr><td>2866</td><td>2881</td><td>0</td><td>1</td><td>13</td><td>389</td><td>1</td></tr>\n",
              "\t<tr><td>2867</td><td>2882</td><td>0</td><td>2</td><td>14</td><td>394</td><td>0</td></tr>\n",
              "\t<tr><td>2868</td><td>2883</td><td>0</td><td>1</td><td>16</td><td>764</td><td>1</td></tr>\n",
              "\t<tr><td>2869</td><td>2884</td><td>1</td><td>1</td><td>12</td><td>485</td><td>0</td></tr>\n",
              "\t<tr><td>2870</td><td>2885</td><td>0</td><td>1</td><td>14</td><td>264</td><td>0</td></tr>\n",
              "\t<tr><td>2871</td><td>2886</td><td>0</td><td>3</td><td>16</td><td>422</td><td>1</td></tr>\n",
              "\t<tr><td>2872</td><td>2887</td><td>1</td><td>1</td><td>12</td><td>507</td><td>0</td></tr>\n",
              "\t<tr><td>2873</td><td>2888</td><td>1</td><td>1</td><td>13</td><td>545</td><td>0</td></tr>\n",
              "\t<tr><td>2874</td><td>2889</td><td>1</td><td>1</td><td>12</td><td>525</td><td>0</td></tr>\n",
              "\t<tr><td>2875</td><td>2890</td><td>1</td><td>3</td><td>16</td><td>622</td><td>1</td></tr>\n",
              "\t<tr><td>2876</td><td>2891</td><td>1</td><td>1</td><td>12</td><td>505</td><td>0</td></tr>\n",
              "\t<tr><td>2877</td><td>2892</td><td>1</td><td>1</td><td>12</td><td>331</td><td>1</td></tr>\n",
              "\t<tr><td>2878</td><td>2893</td><td>1</td><td>1</td><td>12</td><td>381</td><td>0</td></tr>\n",
              "\t<tr><td>2879</td><td>2894</td><td>1</td><td>1</td><td>14</td><td>744</td><td>0</td></tr>\n",
              "\t<tr><td>2880</td><td>2895</td><td>1</td><td>1</td><td>13</td><td> NA</td><td>0</td></tr>\n",
              "\t<tr><td>2881</td><td>2896</td><td>1</td><td>1</td><td>12</td><td>284</td><td>1</td></tr>\n",
              "\t<tr><td>2882</td><td>2897</td><td>0</td><td>3</td><td>16</td><td>324</td><td>0</td></tr>\n",
              "\t<tr><td>2883</td><td>2898</td><td>0</td><td>2</td><td>14</td><td>286</td><td>1</td></tr>\n",
              "\t<tr><td>2884</td><td>2899</td><td>1</td><td>1</td><td>11</td><td>389</td><td>1</td></tr>\n",
              "\t<tr><td>2885</td><td>2900</td><td>0</td><td>0</td><td>11</td><td>381</td><td>0</td></tr>\n",
              "\t<tr><td>2886</td><td>2901</td><td>1</td><td>1</td><td>12</td><td>384</td><td>0</td></tr>\n",
              "\t<tr><td>2887</td><td>2902</td><td>1</td><td>1</td><td>12</td><td>284</td><td>0</td></tr>\n",
              "\t<tr><td>2888</td><td>2903</td><td>1</td><td>1</td><td> 9</td><td>681</td><td>0</td></tr>\n",
              "\t<tr><td>2889</td><td>2904</td><td>1</td><td>1</td><td>12</td><td>324</td><td>0</td></tr>\n",
              "</tbody>\n",
              "</table>\n"
            ]
          },
          "metadata": {
            "tags": []
          }
        }
      ]
    },
    {
      "cell_type": "markdown",
      "metadata": {
        "id": "x7sghK6FDDdg"
      },
      "source": [
        "Première partie de l'exercice"
      ]
    },
    {
      "cell_type": "code",
      "metadata": {
        "colab": {
          "base_uri": "https://localhost:8080/",
          "height": 1000
        },
        "id": "Pe-8ACWEFiuq",
        "outputId": "68675ba8-2051-4920-9073-8dddff64c279"
      },
      "source": [
        "# Distribution des variables enfant et divorce\r\n",
        "\r\n",
        "freq(bd$childs)\r\n",
        "freq(bd$divorce)"
      ],
      "execution_count": 6,
      "outputs": [
        {
          "output_type": "display_data",
          "data": {
            "text/plain": [
              "      Frequency Percent  \n",
              "0      822       28.45275\n",
              "1     2067       71.54725\n",
              "Total 2889      100.00000"
            ],
            "text/latex": "A freqtable: 3 × 2 of type dbl\n\\begin{tabular}{r|ll}\n  & Frequency & Percent\\\\\n\\hline\n\t0 &  822 &  28.45275\\\\\n\t1 & 2067 &  71.54725\\\\\n\tTotal & 2889 & 100.00000\\\\\n\\end{tabular}\n",
            "text/markdown": "\nA freqtable: 3 × 2 of type dbl\n\n| <!--/--> | Frequency | Percent |\n|---|---|---|\n| 0 |  822 |  28.45275 |\n| 1 | 2067 |  71.54725 |\n| Total | 2889 | 100.00000 |\n\n",
            "text/html": [
              "<table class=\"dataframe\">\n",
              "<caption>A freqtable: 3 × 2 of type dbl</caption>\n",
              "<thead>\n",
              "\t<tr><th></th><th scope=col>Frequency</th><th scope=col>Percent</th></tr>\n",
              "</thead>\n",
              "<tbody>\n",
              "\t<tr><th scope=row>0</th><td> 822</td><td> 28.45275</td></tr>\n",
              "\t<tr><th scope=row>1</th><td>2067</td><td> 71.54725</td></tr>\n",
              "\t<tr><th scope=row>Total</th><td>2889</td><td>100.00000</td></tr>\n",
              "</tbody>\n",
              "</table>\n"
            ]
          },
          "metadata": {
            "tags": []
          }
        },
        {
          "output_type": "display_data",
          "data": {
            "image/png": "[encoded data removed]",
            "text/plain": [
              "plot without title"
            ]
          },
          "metadata": {
            "tags": [],
            "image/png": {
              "width": 420,
              "height": 420
            }
          }
        },
        {
          "output_type": "display_data",
          "data": {
            "text/plain": [
              "      Frequency Percent  \n",
              "0     1871       64.76289\n",
              "1     1018       35.23711\n",
              "Total 2889      100.00000"
            ],
            "text/latex": "A freqtable: 3 × 2 of type dbl\n\\begin{tabular}{r|ll}\n  & Frequency & Percent\\\\\n\\hline\n\t0 & 1871 &  64.76289\\\\\n\t1 & 1018 &  35.23711\\\\\n\tTotal & 2889 & 100.00000\\\\\n\\end{tabular}\n",
            "text/markdown": "\nA freqtable: 3 × 2 of type dbl\n\n| <!--/--> | Frequency | Percent |\n|---|---|---|\n| 0 | 1871 |  64.76289 |\n| 1 | 1018 |  35.23711 |\n| Total | 2889 | 100.00000 |\n\n",
            "text/html": [
              "<table class=\"dataframe\">\n",
              "<caption>A freqtable: 3 × 2 of type dbl</caption>\n",
              "<thead>\n",
              "\t<tr><th></th><th scope=col>Frequency</th><th scope=col>Percent</th></tr>\n",
              "</thead>\n",
              "<tbody>\n",
              "\t<tr><th scope=row>0</th><td>1871</td><td> 64.76289</td></tr>\n",
              "\t<tr><th scope=row>1</th><td>1018</td><td> 35.23711</td></tr>\n",
              "\t<tr><th scope=row>Total</th><td>2889</td><td>100.00000</td></tr>\n",
              "</tbody>\n",
              "</table>\n"
            ]
          },
          "metadata": {
            "tags": []
          }
        },
        {
          "output_type": "display_data",
          "data": {
            "image/png": "[encoded data removed]",
            "text/plain": [
              "plot without title"
            ]
          },
          "metadata": {
            "tags": [],
            "image/png": {
              "width": 420,
              "height": 420
            }
          }
        }
      ]
    },
    {
      "cell_type": "code",
      "metadata": {
        "colab": {
          "base_uri": "https://localhost:8080/",
          "height": 420
        },
        "id": "BYyexubXC5pL",
        "outputId": "df3963c3-e010-47be-ee79-01bcab6a018d"
      },
      "source": [
        "# Regression logistique enfant et divorce\r\n",
        "\r\n",
        "reglog <- glm(divorce ~ childs, data = bd, family=\"binomial\")\r\n",
        "summary(rstandard(reglog))\r\n",
        "summary(reglog)"
      ],
      "execution_count": 7,
      "outputs": [
        {
          "output_type": "display_data",
          "data": {
            "text/plain": [
              "    Min.  1st Qu.   Median     Mean  3rd Qu.     Max. \n",
              "-1.03387 -0.89186 -0.89186 -0.09432  1.32956  1.49348 "
            ]
          },
          "metadata": {
            "tags": []
          }
        },
        {
          "output_type": "display_data",
          "data": {
            "text/plain": [
              "\n",
              "Call:\n",
              "glm(formula = divorce ~ childs, family = \"binomial\", data = bd)\n",
              "\n",
              "Deviance Residuals: \n",
              "    Min       1Q   Median       3Q      Max  \n",
              "-1.0332  -0.8916  -0.8916   1.3288   1.4931  \n",
              "\n",
              "Coefficients:\n",
              "            Estimate Std. Error z value Pr(>|z|)    \n",
              "(Intercept) -0.34900    0.07082  -4.928 8.32e-07 ***\n",
              "childs      -0.36819    0.08492  -4.336 1.45e-05 ***\n",
              "---\n",
              "Signif. codes:  0 ‘***’ 0.001 ‘**’ 0.01 ‘*’ 0.05 ‘.’ 0.1 ‘ ’ 1\n",
              "\n",
              "(Dispersion parameter for binomial family taken to be 1)\n",
              "\n",
              "    Null deviance: 3749.4  on 2888  degrees of freedom\n",
              "Residual deviance: 3730.7  on 2887  degrees of freedom\n",
              "AIC: 3734.7\n",
              "\n",
              "Number of Fisher Scoring iterations: 4\n"
            ]
          },
          "metadata": {
            "tags": []
          }
        }
      ]
    },
    {
      "cell_type": "code",
      "metadata": {
        "colab": {
          "base_uri": "https://localhost:8080/",
          "height": 50
        },
        "id": "H9Pez_s5FuIY",
        "outputId": "edde13ef-de03-48b8-d62b-7cf2f0da853d"
      },
      "source": [
        "# Calcule de la probabilité prédite\r\n",
        "\r\n",
        "bd$pred <- predict(reglog, type = \"response\")\r\n",
        "summary(bd$pred)"
      ],
      "execution_count": 9,
      "outputs": [
        {
          "output_type": "display_data",
          "data": {
            "text/plain": [
              "   Min. 1st Qu.  Median    Mean 3rd Qu.    Max. \n",
              " 0.3280  0.3280  0.3280  0.3524  0.4136  0.4136 "
            ]
          },
          "metadata": {
            "tags": []
          }
        }
      ]
    },
    {
      "cell_type": "code",
      "metadata": {
        "colab": {
          "base_uri": "https://localhost:8080/",
          "height": 437
        },
        "id": "0HgWbh8vHxbv",
        "outputId": "7aeeeee2-5dc0-4282-8d7b-624a57a1f8ed"
      },
      "source": [
        "# Nuage de points (pas forcément pertinent sur du binaire pur)\r\n",
        "\r\n",
        "ggplot(bd, aes(x = childs, y = pred)) +\r\n",
        "  geom_point()"
      ],
      "execution_count": 11,
      "outputs": [
        {
          "output_type": "display_data",
          "data": {
            "image/png": "[encoded data removed]",
            "text/plain": [
              "plot without title"
            ]
          },
          "metadata": {
            "tags": [],
            "image/png": {
              "width": 420,
              "height": 420
            }
          }
        }
      ]
    },
    {
      "cell_type": "markdown",
      "metadata": {
        "id": "H1Gw0IzXDI1D"
      },
      "source": [
        "Seconde partie de l'exercice"
      ]
    },
    {
      "cell_type": "code",
      "metadata": {
        "colab": {
          "base_uri": "https://localhost:8080/",
          "height": 1000
        },
        "id": "5OrDMYwELqin",
        "outputId": "47135dfe-287b-472a-d2f8-b3018e7d1128"
      },
      "source": [
        "# Retirer les données manquantes\r\n",
        "\r\n",
        "bd2 <- bd[is.na(bd$sei),]\r\n",
        "bd2"
      ],
      "execution_count": 24,
      "outputs": [
        {
          "output_type": "display_data",
          "data": {
            "text/plain": [
              "    X1   X1_1 childs degree educ sei divorce\n",
              "1    10   10  1      1      13   NA  0      \n",
              "2    37   37  0      0       9   NA  1      \n",
              "3    39   39  1      0      10   NA  0      \n",
              "4    44   44  1      0      12   NA  1      \n",
              "5    68   68  1      0       6   NA  0      \n",
              "6    73   73  1      1      10   NA  0      \n",
              "7    75   75  1      1      10   NA  0      \n",
              "8    76   76  1      0      10   NA  0      \n",
              "9    91   91  0      0      11   NA  1      \n",
              "10  103  103  1      1      12   NA  0      \n",
              "11  105  105  0      1      NA   NA  0      \n",
              "12  106  106  1      0       9   NA  0      \n",
              "13  111  111  1      1      13   NA  0      \n",
              "14  156  156  0      1      14   NA  1      \n",
              "15  249  250  1      0      11   NA  1      \n",
              "16  275  276  0      1      12   NA  1      \n",
              "17  292  293  1      0      13   NA  0      \n",
              "18  313  314  1      1      12   NA  1      \n",
              "19  314  315  1      0      10   NA  0      \n",
              "20  315  316  1      4      17   NA  0      \n",
              "21  340  342  1      1      12   NA  1      \n",
              "22  349  351  1      1      17   NA  0      \n",
              "23  353  355  1      0      11   NA  0      \n",
              "24  409  412  1      0      10   NA  0      \n",
              "25  437  440  1      0       5   NA  1      \n",
              "26  460  463  1      0       0   NA  0      \n",
              "27  490  493  1      0      11   NA  1      \n",
              "28  521  524  1      0      10   NA  0      \n",
              "29  547  550  1      1      11   NA  0      \n",
              "30  582  585  1      1      14   NA  0      \n",
              "⋮   ⋮    ⋮    ⋮      ⋮      ⋮    ⋮   ⋮      \n",
              "94  2505 2518 1       1     12   NA  0      \n",
              "95  2524 2537 1       1     12   NA  0      \n",
              "96  2539 2552 1       1     12   NA  1      \n",
              "97  2549 2562 1       0      8   NA  1      \n",
              "98  2551 2564 1       0      8   NA  0      \n",
              "99  2560 2573 1       1     13   NA  0      \n",
              "100 2563 2576 1      NA     NA   NA  0      \n",
              "101 2566 2579 1       1     11   NA  0      \n",
              "102 2567 2580 1       2     14   NA  0      \n",
              "103 2568 2581 1       0      8   NA  0      \n",
              "104 2570 2583 1       1     10   NA  0      \n",
              "105 2579 2592 1       0      9   NA  0      \n",
              "106 2581 2594 0       0     11   NA  0      \n",
              "107 2609 2622 1       0     10   NA  0      \n",
              "108 2646 2659 1       0      8   NA  0      \n",
              "109 2647 2660 1       1     12   NA  1      \n",
              "110 2655 2668 1       0     10   NA  0      \n",
              "111 2664 2677 1       1     13   NA  0      \n",
              "112 2668 2681 1       0      8   NA  0      \n",
              "113 2676 2690 1       0     10   NA  1      \n",
              "114 2682 2696 1       0      8   NA  1      \n",
              "115 2747 2762 0       0     11   NA  1      \n",
              "116 2749 2764 1       3     16   NA  0      \n",
              "117 2750 2765 1       3     16   NA  0      \n",
              "118 2768 2783 0       1     12   NA  0      \n",
              "119 2795 2810 0       0     11   NA  0      \n",
              "120 2798 2813 0       0     11   NA  0      \n",
              "121 2834 2849 1       1     12   NA  0      \n",
              "122 2854 2869 1       1     12   NA  0      \n",
              "123 2880 2895 1       1     13   NA  0      "
            ],
            "text/latex": "A tibble: 123 × 7\n\\begin{tabular}{lllllll}\n X1 & X1\\_1 & childs & degree & educ & sei & divorce\\\\\n <dbl> & <dbl> & <dbl> & <dbl> & <dbl> & <dbl> & <dbl>\\\\\n\\hline\n\t  10 &  10 & 1 & 1 & 13 & NA & 0\\\\\n\t  37 &  37 & 0 & 0 &  9 & NA & 1\\\\\n\t  39 &  39 & 1 & 0 & 10 & NA & 0\\\\\n\t  44 &  44 & 1 & 0 & 12 & NA & 1\\\\\n\t  68 &  68 & 1 & 0 &  6 & NA & 0\\\\\n\t  73 &  73 & 1 & 1 & 10 & NA & 0\\\\\n\t  75 &  75 & 1 & 1 & 10 & NA & 0\\\\\n\t  76 &  76 & 1 & 0 & 10 & NA & 0\\\\\n\t  91 &  91 & 0 & 0 & 11 & NA & 1\\\\\n\t 103 & 103 & 1 & 1 & 12 & NA & 0\\\\\n\t 105 & 105 & 0 & 1 & NA & NA & 0\\\\\n\t 106 & 106 & 1 & 0 &  9 & NA & 0\\\\\n\t 111 & 111 & 1 & 1 & 13 & NA & 0\\\\\n\t 156 & 156 & 0 & 1 & 14 & NA & 1\\\\\n\t 249 & 250 & 1 & 0 & 11 & NA & 1\\\\\n\t 275 & 276 & 0 & 1 & 12 & NA & 1\\\\\n\t 292 & 293 & 1 & 0 & 13 & NA & 0\\\\\n\t 313 & 314 & 1 & 1 & 12 & NA & 1\\\\\n\t 314 & 315 & 1 & 0 & 10 & NA & 0\\\\\n\t 315 & 316 & 1 & 4 & 17 & NA & 0\\\\\n\t 340 & 342 & 1 & 1 & 12 & NA & 1\\\\\n\t 349 & 351 & 1 & 1 & 17 & NA & 0\\\\\n\t 353 & 355 & 1 & 0 & 11 & NA & 0\\\\\n\t 409 & 412 & 1 & 0 & 10 & NA & 0\\\\\n\t 437 & 440 & 1 & 0 &  5 & NA & 1\\\\\n\t 460 & 463 & 1 & 0 &  0 & NA & 0\\\\\n\t 490 & 493 & 1 & 0 & 11 & NA & 1\\\\\n\t 521 & 524 & 1 & 0 & 10 & NA & 0\\\\\n\t 547 & 550 & 1 & 1 & 11 & NA & 0\\\\\n\t 582 & 585 & 1 & 1 & 14 & NA & 0\\\\\n\t ⋮ & ⋮ & ⋮ & ⋮ & ⋮ & ⋮ & ⋮\\\\\n\t 2505 & 2518 & 1 &  1 & 12 & NA & 0\\\\\n\t 2524 & 2537 & 1 &  1 & 12 & NA & 0\\\\\n\t 2539 & 2552 & 1 &  1 & 12 & NA & 1\\\\\n\t 2549 & 2562 & 1 &  0 &  8 & NA & 1\\\\\n\t 2551 & 2564 & 1 &  0 &  8 & NA & 0\\\\\n\t 2560 & 2573 & 1 &  1 & 13 & NA & 0\\\\\n\t 2563 & 2576 & 1 & NA & NA & NA & 0\\\\\n\t 2566 & 2579 & 1 &  1 & 11 & NA & 0\\\\\n\t 2567 & 2580 & 1 &  2 & 14 & NA & 0\\\\\n\t 2568 & 2581 & 1 &  0 &  8 & NA & 0\\\\\n\t 2570 & 2583 & 1 &  1 & 10 & NA & 0\\\\\n\t 2579 & 2592 & 1 &  0 &  9 & NA & 0\\\\\n\t 2581 & 2594 & 0 &  0 & 11 & NA & 0\\\\\n\t 2609 & 2622 & 1 &  0 & 10 & NA & 0\\\\\n\t 2646 & 2659 & 1 &  0 &  8 & NA & 0\\\\\n\t 2647 & 2660 & 1 &  1 & 12 & NA & 1\\\\\n\t 2655 & 2668 & 1 &  0 & 10 & NA & 0\\\\\n\t 2664 & 2677 & 1 &  1 & 13 & NA & 0\\\\\n\t 2668 & 2681 & 1 &  0 &  8 & NA & 0\\\\\n\t 2676 & 2690 & 1 &  0 & 10 & NA & 1\\\\\n\t 2682 & 2696 & 1 &  0 &  8 & NA & 1\\\\\n\t 2747 & 2762 & 0 &  0 & 11 & NA & 1\\\\\n\t 2749 & 2764 & 1 &  3 & 16 & NA & 0\\\\\n\t 2750 & 2765 & 1 &  3 & 16 & NA & 0\\\\\n\t 2768 & 2783 & 0 &  1 & 12 & NA & 0\\\\\n\t 2795 & 2810 & 0 &  0 & 11 & NA & 0\\\\\n\t 2798 & 2813 & 0 &  0 & 11 & NA & 0\\\\\n\t 2834 & 2849 & 1 &  1 & 12 & NA & 0\\\\\n\t 2854 & 2869 & 1 &  1 & 12 & NA & 0\\\\\n\t 2880 & 2895 & 1 &  1 & 13 & NA & 0\\\\\n\\end{tabular}\n",
            "text/markdown": "\nA tibble: 123 × 7\n\n| X1 &lt;dbl&gt; | X1_1 &lt;dbl&gt; | childs &lt;dbl&gt; | degree &lt;dbl&gt; | educ &lt;dbl&gt; | sei &lt;dbl&gt; | divorce &lt;dbl&gt; |\n|---|---|---|---|---|---|---|\n|  10 |  10 | 1 | 1 | 13 | NA | 0 |\n|  37 |  37 | 0 | 0 |  9 | NA | 1 |\n|  39 |  39 | 1 | 0 | 10 | NA | 0 |\n|  44 |  44 | 1 | 0 | 12 | NA | 1 |\n|  68 |  68 | 1 | 0 |  6 | NA | 0 |\n|  73 |  73 | 1 | 1 | 10 | NA | 0 |\n|  75 |  75 | 1 | 1 | 10 | NA | 0 |\n|  76 |  76 | 1 | 0 | 10 | NA | 0 |\n|  91 |  91 | 0 | 0 | 11 | NA | 1 |\n| 103 | 103 | 1 | 1 | 12 | NA | 0 |\n| 105 | 105 | 0 | 1 | NA | NA | 0 |\n| 106 | 106 | 1 | 0 |  9 | NA | 0 |\n| 111 | 111 | 1 | 1 | 13 | NA | 0 |\n| 156 | 156 | 0 | 1 | 14 | NA | 1 |\n| 249 | 250 | 1 | 0 | 11 | NA | 1 |\n| 275 | 276 | 0 | 1 | 12 | NA | 1 |\n| 292 | 293 | 1 | 0 | 13 | NA | 0 |\n| 313 | 314 | 1 | 1 | 12 | NA | 1 |\n| 314 | 315 | 1 | 0 | 10 | NA | 0 |\n| 315 | 316 | 1 | 4 | 17 | NA | 0 |\n| 340 | 342 | 1 | 1 | 12 | NA | 1 |\n| 349 | 351 | 1 | 1 | 17 | NA | 0 |\n| 353 | 355 | 1 | 0 | 11 | NA | 0 |\n| 409 | 412 | 1 | 0 | 10 | NA | 0 |\n| 437 | 440 | 1 | 0 |  5 | NA | 1 |\n| 460 | 463 | 1 | 0 |  0 | NA | 0 |\n| 490 | 493 | 1 | 0 | 11 | NA | 1 |\n| 521 | 524 | 1 | 0 | 10 | NA | 0 |\n| 547 | 550 | 1 | 1 | 11 | NA | 0 |\n| 582 | 585 | 1 | 1 | 14 | NA | 0 |\n| ⋮ | ⋮ | ⋮ | ⋮ | ⋮ | ⋮ | ⋮ |\n| 2505 | 2518 | 1 |  1 | 12 | NA | 0 |\n| 2524 | 2537 | 1 |  1 | 12 | NA | 0 |\n| 2539 | 2552 | 1 |  1 | 12 | NA | 1 |\n| 2549 | 2562 | 1 |  0 |  8 | NA | 1 |\n| 2551 | 2564 | 1 |  0 |  8 | NA | 0 |\n| 2560 | 2573 | 1 |  1 | 13 | NA | 0 |\n| 2563 | 2576 | 1 | NA | NA | NA | 0 |\n| 2566 | 2579 | 1 |  1 | 11 | NA | 0 |\n| 2567 | 2580 | 1 |  2 | 14 | NA | 0 |\n| 2568 | 2581 | 1 |  0 |  8 | NA | 0 |\n| 2570 | 2583 | 1 |  1 | 10 | NA | 0 |\n| 2579 | 2592 | 1 |  0 |  9 | NA | 0 |\n| 2581 | 2594 | 0 |  0 | 11 | NA | 0 |\n| 2609 | 2622 | 1 |  0 | 10 | NA | 0 |\n| 2646 | 2659 | 1 |  0 |  8 | NA | 0 |\n| 2647 | 2660 | 1 |  1 | 12 | NA | 1 |\n| 2655 | 2668 | 1 |  0 | 10 | NA | 0 |\n| 2664 | 2677 | 1 |  1 | 13 | NA | 0 |\n| 2668 | 2681 | 1 |  0 |  8 | NA | 0 |\n| 2676 | 2690 | 1 |  0 | 10 | NA | 1 |\n| 2682 | 2696 | 1 |  0 |  8 | NA | 1 |\n| 2747 | 2762 | 0 |  0 | 11 | NA | 1 |\n| 2749 | 2764 | 1 |  3 | 16 | NA | 0 |\n| 2750 | 2765 | 1 |  3 | 16 | NA | 0 |\n| 2768 | 2783 | 0 |  1 | 12 | NA | 0 |\n| 2795 | 2810 | 0 |  0 | 11 | NA | 0 |\n| 2798 | 2813 | 0 |  0 | 11 | NA | 0 |\n| 2834 | 2849 | 1 |  1 | 12 | NA | 0 |\n| 2854 | 2869 | 1 |  1 | 12 | NA | 0 |\n| 2880 | 2895 | 1 |  1 | 13 | NA | 0 |\n\n",
            "text/html": [
              "<table class=\"dataframe\">\n",
              "<caption>A tibble: 123 × 7</caption>\n",
              "<thead>\n",
              "\t<tr><th scope=col>X1</th><th scope=col>X1_1</th><th scope=col>childs</th><th scope=col>degree</th><th scope=col>educ</th><th scope=col>sei</th><th scope=col>divorce</th></tr>\n",
              "\t<tr><th scope=col>&lt;dbl&gt;</th><th scope=col>&lt;dbl&gt;</th><th scope=col>&lt;dbl&gt;</th><th scope=col>&lt;dbl&gt;</th><th scope=col>&lt;dbl&gt;</th><th scope=col>&lt;dbl&gt;</th><th scope=col>&lt;dbl&gt;</th></tr>\n",
              "</thead>\n",
              "<tbody>\n",
              "\t<tr><td> 10</td><td> 10</td><td>1</td><td>1</td><td>13</td><td>NA</td><td>0</td></tr>\n",
              "\t<tr><td> 37</td><td> 37</td><td>0</td><td>0</td><td> 9</td><td>NA</td><td>1</td></tr>\n",
              "\t<tr><td> 39</td><td> 39</td><td>1</td><td>0</td><td>10</td><td>NA</td><td>0</td></tr>\n",
              "\t<tr><td> 44</td><td> 44</td><td>1</td><td>0</td><td>12</td><td>NA</td><td>1</td></tr>\n",
              "\t<tr><td> 68</td><td> 68</td><td>1</td><td>0</td><td> 6</td><td>NA</td><td>0</td></tr>\n",
              "\t<tr><td> 73</td><td> 73</td><td>1</td><td>1</td><td>10</td><td>NA</td><td>0</td></tr>\n",
              "\t<tr><td> 75</td><td> 75</td><td>1</td><td>1</td><td>10</td><td>NA</td><td>0</td></tr>\n",
              "\t<tr><td> 76</td><td> 76</td><td>1</td><td>0</td><td>10</td><td>NA</td><td>0</td></tr>\n",
              "\t<tr><td> 91</td><td> 91</td><td>0</td><td>0</td><td>11</td><td>NA</td><td>1</td></tr>\n",
              "\t<tr><td>103</td><td>103</td><td>1</td><td>1</td><td>12</td><td>NA</td><td>0</td></tr>\n",
              "\t<tr><td>105</td><td>105</td><td>0</td><td>1</td><td>NA</td><td>NA</td><td>0</td></tr>\n",
              "\t<tr><td>106</td><td>106</td><td>1</td><td>0</td><td> 9</td><td>NA</td><td>0</td></tr>\n",
              "\t<tr><td>111</td><td>111</td><td>1</td><td>1</td><td>13</td><td>NA</td><td>0</td></tr>\n",
              "\t<tr><td>156</td><td>156</td><td>0</td><td>1</td><td>14</td><td>NA</td><td>1</td></tr>\n",
              "\t<tr><td>249</td><td>250</td><td>1</td><td>0</td><td>11</td><td>NA</td><td>1</td></tr>\n",
              "\t<tr><td>275</td><td>276</td><td>0</td><td>1</td><td>12</td><td>NA</td><td>1</td></tr>\n",
              "\t<tr><td>292</td><td>293</td><td>1</td><td>0</td><td>13</td><td>NA</td><td>0</td></tr>\n",
              "\t<tr><td>313</td><td>314</td><td>1</td><td>1</td><td>12</td><td>NA</td><td>1</td></tr>\n",
              "\t<tr><td>314</td><td>315</td><td>1</td><td>0</td><td>10</td><td>NA</td><td>0</td></tr>\n",
              "\t<tr><td>315</td><td>316</td><td>1</td><td>4</td><td>17</td><td>NA</td><td>0</td></tr>\n",
              "\t<tr><td>340</td><td>342</td><td>1</td><td>1</td><td>12</td><td>NA</td><td>1</td></tr>\n",
              "\t<tr><td>349</td><td>351</td><td>1</td><td>1</td><td>17</td><td>NA</td><td>0</td></tr>\n",
              "\t<tr><td>353</td><td>355</td><td>1</td><td>0</td><td>11</td><td>NA</td><td>0</td></tr>\n",
              "\t<tr><td>409</td><td>412</td><td>1</td><td>0</td><td>10</td><td>NA</td><td>0</td></tr>\n",
              "\t<tr><td>437</td><td>440</td><td>1</td><td>0</td><td> 5</td><td>NA</td><td>1</td></tr>\n",
              "\t<tr><td>460</td><td>463</td><td>1</td><td>0</td><td> 0</td><td>NA</td><td>0</td></tr>\n",
              "\t<tr><td>490</td><td>493</td><td>1</td><td>0</td><td>11</td><td>NA</td><td>1</td></tr>\n",
              "\t<tr><td>521</td><td>524</td><td>1</td><td>0</td><td>10</td><td>NA</td><td>0</td></tr>\n",
              "\t<tr><td>547</td><td>550</td><td>1</td><td>1</td><td>11</td><td>NA</td><td>0</td></tr>\n",
              "\t<tr><td>582</td><td>585</td><td>1</td><td>1</td><td>14</td><td>NA</td><td>0</td></tr>\n",
              "\t<tr><td>⋮</td><td>⋮</td><td>⋮</td><td>⋮</td><td>⋮</td><td>⋮</td><td>⋮</td></tr>\n",
              "\t<tr><td>2505</td><td>2518</td><td>1</td><td> 1</td><td>12</td><td>NA</td><td>0</td></tr>\n",
              "\t<tr><td>2524</td><td>2537</td><td>1</td><td> 1</td><td>12</td><td>NA</td><td>0</td></tr>\n",
              "\t<tr><td>2539</td><td>2552</td><td>1</td><td> 1</td><td>12</td><td>NA</td><td>1</td></tr>\n",
              "\t<tr><td>2549</td><td>2562</td><td>1</td><td> 0</td><td> 8</td><td>NA</td><td>1</td></tr>\n",
              "\t<tr><td>2551</td><td>2564</td><td>1</td><td> 0</td><td> 8</td><td>NA</td><td>0</td></tr>\n",
              "\t<tr><td>2560</td><td>2573</td><td>1</td><td> 1</td><td>13</td><td>NA</td><td>0</td></tr>\n",
              "\t<tr><td>2563</td><td>2576</td><td>1</td><td>NA</td><td>NA</td><td>NA</td><td>0</td></tr>\n",
              "\t<tr><td>2566</td><td>2579</td><td>1</td><td> 1</td><td>11</td><td>NA</td><td>0</td></tr>\n",
              "\t<tr><td>2567</td><td>2580</td><td>1</td><td> 2</td><td>14</td><td>NA</td><td>0</td></tr>\n",
              "\t<tr><td>2568</td><td>2581</td><td>1</td><td> 0</td><td> 8</td><td>NA</td><td>0</td></tr>\n",
              "\t<tr><td>2570</td><td>2583</td><td>1</td><td> 1</td><td>10</td><td>NA</td><td>0</td></tr>\n",
              "\t<tr><td>2579</td><td>2592</td><td>1</td><td> 0</td><td> 9</td><td>NA</td><td>0</td></tr>\n",
              "\t<tr><td>2581</td><td>2594</td><td>0</td><td> 0</td><td>11</td><td>NA</td><td>0</td></tr>\n",
              "\t<tr><td>2609</td><td>2622</td><td>1</td><td> 0</td><td>10</td><td>NA</td><td>0</td></tr>\n",
              "\t<tr><td>2646</td><td>2659</td><td>1</td><td> 0</td><td> 8</td><td>NA</td><td>0</td></tr>\n",
              "\t<tr><td>2647</td><td>2660</td><td>1</td><td> 1</td><td>12</td><td>NA</td><td>1</td></tr>\n",
              "\t<tr><td>2655</td><td>2668</td><td>1</td><td> 0</td><td>10</td><td>NA</td><td>0</td></tr>\n",
              "\t<tr><td>2664</td><td>2677</td><td>1</td><td> 1</td><td>13</td><td>NA</td><td>0</td></tr>\n",
              "\t<tr><td>2668</td><td>2681</td><td>1</td><td> 0</td><td> 8</td><td>NA</td><td>0</td></tr>\n",
              "\t<tr><td>2676</td><td>2690</td><td>1</td><td> 0</td><td>10</td><td>NA</td><td>1</td></tr>\n",
              "\t<tr><td>2682</td><td>2696</td><td>1</td><td> 0</td><td> 8</td><td>NA</td><td>1</td></tr>\n",
              "\t<tr><td>2747</td><td>2762</td><td>0</td><td> 0</td><td>11</td><td>NA</td><td>1</td></tr>\n",
              "\t<tr><td>2749</td><td>2764</td><td>1</td><td> 3</td><td>16</td><td>NA</td><td>0</td></tr>\n",
              "\t<tr><td>2750</td><td>2765</td><td>1</td><td> 3</td><td>16</td><td>NA</td><td>0</td></tr>\n",
              "\t<tr><td>2768</td><td>2783</td><td>0</td><td> 1</td><td>12</td><td>NA</td><td>0</td></tr>\n",
              "\t<tr><td>2795</td><td>2810</td><td>0</td><td> 0</td><td>11</td><td>NA</td><td>0</td></tr>\n",
              "\t<tr><td>2798</td><td>2813</td><td>0</td><td> 0</td><td>11</td><td>NA</td><td>0</td></tr>\n",
              "\t<tr><td>2834</td><td>2849</td><td>1</td><td> 1</td><td>12</td><td>NA</td><td>0</td></tr>\n",
              "\t<tr><td>2854</td><td>2869</td><td>1</td><td> 1</td><td>12</td><td>NA</td><td>0</td></tr>\n",
              "\t<tr><td>2880</td><td>2895</td><td>1</td><td> 1</td><td>13</td><td>NA</td><td>0</td></tr>\n",
              "</tbody>\n",
              "</table>\n"
            ]
          },
          "metadata": {
            "tags": []
          }
        }
      ]
    },
    {
      "cell_type": "code",
      "metadata": {
        "colab": {
          "base_uri": "https://localhost:8080/",
          "height": 67
        },
        "id": "2xMRii3XDLXh",
        "outputId": "c417892f-ac08-43ca-c11f-df8da23f2294"
      },
      "source": [
        "# descriptif de la variable educ\r\n",
        "\r\n",
        "summary(bd2$educ)\r\n",
        "sd(bd2$educ, na.rm=TRUE)"
      ],
      "execution_count": 25,
      "outputs": [
        {
          "output_type": "display_data",
          "data": {
            "text/plain": [
              "   Min. 1st Qu.  Median    Mean 3rd Qu.    Max.    NA's \n",
              "   0.00   10.00   12.00   11.48   13.00   20.00       2 "
            ]
          },
          "metadata": {
            "tags": []
          }
        },
        {
          "output_type": "display_data",
          "data": {
            "text/plain": [
              "[1] 3.13342"
            ],
            "text/latex": "3.13341978662749",
            "text/markdown": "3.13341978662749",
            "text/html": [
              "3.13341978662749"
            ]
          },
          "metadata": {
            "tags": []
          }
        }
      ]
    },
    {
      "cell_type": "code",
      "metadata": {
        "colab": {
          "base_uri": "https://localhost:8080/",
          "height": 470
        },
        "id": "aXCmYlNXJW1j",
        "outputId": "2b846506-3e59-4696-93d7-4f88cf1a57db"
      },
      "source": [
        "#Histogramme distribution variable educ \r\n",
        "\r\n",
        "ggplot(bd2, aes(x=educ)) +\r\n",
        "  geom_histogram(binwidth=1, fill=\"#69b3a2\", color=\"#e9ecef\", alpha=0.9) +\r\n",
        "    ggtitle(\"Distribution: années d'éducation\") +\r\n",
        "    theme(\r\n",
        "      plot.title = element_text(size=20)\r\n",
        "    )"
      ],
      "execution_count": 26,
      "outputs": [
        {
          "output_type": "stream",
          "text": [
            "Warning message:\n",
            "“Removed 2 rows containing non-finite values (stat_bin).”\n"
          ],
          "name": "stderr"
        },
        {
          "output_type": "display_data",
          "data": {
            "image/png": "[encoded data removed]",
            "text/plain": [
              "plot without title"
            ]
          },
          "metadata": {
            "tags": [],
            "image/png": {
              "width": 420,
              "height": 420
            }
          }
        }
      ]
    },
    {
      "cell_type": "code",
      "metadata": {
        "colab": {
          "base_uri": "https://localhost:8080/",
          "height": 403
        },
        "id": "MtU1I0AfJGUQ",
        "outputId": "305feb76-6adb-44c9-853c-f81ffaf7f9a7"
      },
      "source": [
        "# Regression logistique educ et divorce\r\n",
        "\r\n",
        "reglog2 <- glm(divorce ~ educ, data = bd2, family=\"binomial\")\r\n",
        "summary(rstandard(reglog2))\r\n",
        "summary(reglog2)"
      ],
      "execution_count": 27,
      "outputs": [
        {
          "output_type": "display_data",
          "data": {
            "text/plain": [
              "   Min. 1st Qu.  Median    Mean 3rd Qu.    Max. \n",
              "-1.0736 -0.8355 -0.8081 -0.1333  1.5275  1.7873 "
            ]
          },
          "metadata": {
            "tags": []
          }
        },
        {
          "output_type": "display_data",
          "data": {
            "text/plain": [
              "\n",
              "Call:\n",
              "glm(formula = divorce ~ educ, family = \"binomial\", data = bd2)\n",
              "\n",
              "Deviance Residuals: \n",
              "    Min       1Q   Median       3Q      Max  \n",
              "-0.9977  -0.8320  -0.8039   1.5132   1.7316  \n",
              "\n",
              "Coefficients:\n",
              "            Estimate Std. Error z value Pr(>|z|)\n",
              "(Intercept) -0.43857    0.75654  -0.580    0.562\n",
              "educ        -0.04040    0.06445  -0.627    0.531\n",
              "\n",
              "(Dispersion parameter for binomial family taken to be 1)\n",
              "\n",
              "    Null deviance: 145.56  on 120  degrees of freedom\n",
              "Residual deviance: 145.16  on 119  degrees of freedom\n",
              "  (2 observations deleted due to missingness)\n",
              "AIC: 149.16\n",
              "\n",
              "Number of Fisher Scoring iterations: 4\n"
            ]
          },
          "metadata": {
            "tags": []
          }
        }
      ]
    },
    {
      "cell_type": "code",
      "metadata": {
        "colab": {
          "base_uri": "https://localhost:8080/",
          "height": 1000
        },
        "id": "o8wLitz8LBYh",
        "outputId": "c45ae8d7-f6a8-4c53-84f3-7e0f8edac067"
      },
      "source": [
        "# Calcule de la probabilité prédite\r\n",
        "\r\n",
        "bd2$pred2 <- predict(reglog2, type = \"response\")\r\n",
        "summary(bd2$pred2)"
      ],
      "execution_count": 35,
      "outputs": [
        {
          "output_type": "error",
          "ename": "ERROR",
          "evalue": "ignored",
          "traceback": [
            "Error: Assigned data `predict(reglog2, type = \"response\")` must be compatible with existing data.\n\u001b[31m✖\u001b[39m Existing data has 123 rows.\n\u001b[31m✖\u001b[39m Assigned data has 121 rows.\n\u001b[34mℹ\u001b[39m Only vectors of size 1 are recycled.\nTraceback:\n",
            "1. `$<-`(`*tmp*`, pred2, value = c(`1` = 0.276128338275879, `2` = 0.309564575119907, \n . `3` = 0.300997177573199, `4` = 0.284275758868298, `5` = 0.336046791967873, \n . `6` = 0.300997177573199, `7` = 0.300997177573199, `8` = 0.300997177573199, \n . `9` = 0.292566415551274, `10` = 0.284275758868298, `12` = 0.309564575119907, \n . `13` = 0.276128338275879, `14` = 0.268126947712031, `15` = 0.292566415551274, \n . `16` = 0.284275758868298, `17` = 0.276128338275879, `18` = 0.284275758868298, \n . `19` = 0.300997177573199, `20` = 0.245021929294328, `21` = 0.284275758868298, \n . `22` = 0.245021929294328, `23` = 0.292566415551274, `24` = 0.300997177573199, \n . `25` = 0.345119259084079, `26` = 0.392081208281675, `27` = 0.292566415551274, \n . `28` = 0.300997177573199, `29` = 0.292566415551274, `30` = 0.268126947712031, \n . `31` = 0.327093699243533, `32` = 0.300997177573199, `33` = 0.252571771614708, \n . `34` = 0.252571771614708, `35` = 0.230385224151069, `36` = 0.284275758868298, \n . `37` = 0.292566415551274, `38` = 0.284275758868298, `39` = 0.223300443432556, \n . `40` = 0.276128338275879, `41` = 0.268126947712031, `42` = 0.284275758868298, \n . `43` = 0.35430595636624, `44` = 0.284275758868298, `45` = 0.292566415551274, \n . `46` = 0.318264798557693, `47` = 0.300997177573199, `48` = 0.284275758868298, \n . `49` = 0.300997177573199, `50` = 0.268126947712031, `51` = 0.318264798557693, \n . `52` = 0.300997177573199, `53` = 0.318264798557693, `54` = 0.309564575119907, \n . `55` = 0.284275758868298, `56` = 0.300997177573199, `57` = 0.237626016939214, \n . `58` = 0.292566415551274, `59` = 0.284275758868298, `60` = 0.35430595636624, \n . `61` = 0.284275758868298, `62` = 0.276128338275879, `63` = 0.276128338275879, \n . `64` = 0.292566415551274, `65` = 0.309564575119907, `66` = 0.336046791967873, \n . `67` = 0.276128338275879, `68` = 0.276128338275879, `69` = 0.276128338275879, \n . `70` = 0.292566415551274, `71` = 0.292566415551274, `72` = 0.260274047958376, \n . `73` = 0.284275758868298, `74` = 0.284275758868298, `75` = 0.245021929294328, \n . `76` = 0.292566415551274, `77` = 0.268126947712031, `78` = 0.252571771614708, \n . `79` = 0.260274047958376, `80` = 0.284275758868298, `81` = 0.284275758868298, \n . `82` = 0.284275758868298, `83` = 0.284275758868298, `84` = 0.284275758868298, \n . `85` = 0.309564575119907, `86` = 0.276128338275879, `87` = 0.300997177573199, \n . `88` = 0.245021929294328, `89` = 0.260274047958376, `90` = 0.223300443432556, \n . `91` = 0.300997177573199, `92` = 0.345119259084079, `93` = 0.284275758868298, \n . `94` = 0.284275758868298, `95` = 0.284275758868298, `96` = 0.284275758868298, \n . `97` = 0.318264798557693, `98` = 0.318264798557693, `99` = 0.276128338275879, \n . `101` = 0.292566415551274, `102` = 0.268126947712031, `103` = 0.318264798557693, \n . `104` = 0.300997177573199, `105` = 0.309564575119907, `106` = 0.292566415551274, \n . `107` = 0.300997177573199, `108` = 0.318264798557693, `109` = 0.284275758868298, \n . `110` = 0.300997177573199, `111` = 0.276128338275879, `112` = 0.318264798557693, \n . `113` = 0.300997177573199, `114` = 0.318264798557693, `115` = 0.292566415551274, \n . `116` = 0.252571771614708, `117` = 0.252571771614708, `118` = 0.284275758868298, \n . `119` = 0.292566415551274, `120` = 0.292566415551274, `121` = 0.284275758868298, \n . `122` = 0.284275758868298, `123` = 0.276128338275879))",
            "2. `$<-.tbl_df`(`*tmp*`, pred2, value = c(`1` = 0.276128338275879, \n . `2` = 0.309564575119907, `3` = 0.300997177573199, `4` = 0.284275758868298, \n . `5` = 0.336046791967873, `6` = 0.300997177573199, `7` = 0.300997177573199, \n . `8` = 0.300997177573199, `9` = 0.292566415551274, `10` = 0.284275758868298, \n . `12` = 0.309564575119907, `13` = 0.276128338275879, `14` = 0.268126947712031, \n . `15` = 0.292566415551274, `16` = 0.284275758868298, `17` = 0.276128338275879, \n . `18` = 0.284275758868298, `19` = 0.300997177573199, `20` = 0.245021929294328, \n . `21` = 0.284275758868298, `22` = 0.245021929294328, `23` = 0.292566415551274, \n . `24` = 0.300997177573199, `25` = 0.345119259084079, `26` = 0.392081208281675, \n . `27` = 0.292566415551274, `28` = 0.300997177573199, `29` = 0.292566415551274, \n . `30` = 0.268126947712031, `31` = 0.327093699243533, `32` = 0.300997177573199, \n . `33` = 0.252571771614708, `34` = 0.252571771614708, `35` = 0.230385224151069, \n . `36` = 0.284275758868298, `37` = 0.292566415551274, `38` = 0.284275758868298, \n . `39` = 0.223300443432556, `40` = 0.276128338275879, `41` = 0.268126947712031, \n . `42` = 0.284275758868298, `43` = 0.35430595636624, `44` = 0.284275758868298, \n . `45` = 0.292566415551274, `46` = 0.318264798557693, `47` = 0.300997177573199, \n . `48` = 0.284275758868298, `49` = 0.300997177573199, `50` = 0.268126947712031, \n . `51` = 0.318264798557693, `52` = 0.300997177573199, `53` = 0.318264798557693, \n . `54` = 0.309564575119907, `55` = 0.284275758868298, `56` = 0.300997177573199, \n . `57` = 0.237626016939214, `58` = 0.292566415551274, `59` = 0.284275758868298, \n . `60` = 0.35430595636624, `61` = 0.284275758868298, `62` = 0.276128338275879, \n . `63` = 0.276128338275879, `64` = 0.292566415551274, `65` = 0.309564575119907, \n . `66` = 0.336046791967873, `67` = 0.276128338275879, `68` = 0.276128338275879, \n . `69` = 0.276128338275879, `70` = 0.292566415551274, `71` = 0.292566415551274, \n . `72` = 0.260274047958376, `73` = 0.284275758868298, `74` = 0.284275758868298, \n . `75` = 0.245021929294328, `76` = 0.292566415551274, `77` = 0.268126947712031, \n . `78` = 0.252571771614708, `79` = 0.260274047958376, `80` = 0.284275758868298, \n . `81` = 0.284275758868298, `82` = 0.284275758868298, `83` = 0.284275758868298, \n . `84` = 0.284275758868298, `85` = 0.309564575119907, `86` = 0.276128338275879, \n . `87` = 0.300997177573199, `88` = 0.245021929294328, `89` = 0.260274047958376, \n . `90` = 0.223300443432556, `91` = 0.300997177573199, `92` = 0.345119259084079, \n . `93` = 0.284275758868298, `94` = 0.284275758868298, `95` = 0.284275758868298, \n . `96` = 0.284275758868298, `97` = 0.318264798557693, `98` = 0.318264798557693, \n . `99` = 0.276128338275879, `101` = 0.292566415551274, `102` = 0.268126947712031, \n . `103` = 0.318264798557693, `104` = 0.300997177573199, `105` = 0.309564575119907, \n . `106` = 0.292566415551274, `107` = 0.300997177573199, `108` = 0.318264798557693, \n . `109` = 0.284275758868298, `110` = 0.300997177573199, `111` = 0.276128338275879, \n . `112` = 0.318264798557693, `113` = 0.300997177573199, `114` = 0.318264798557693, \n . `115` = 0.292566415551274, `116` = 0.252571771614708, `117` = 0.252571771614708, \n . `118` = 0.284275758868298, `119` = 0.292566415551274, `120` = 0.292566415551274, \n . `121` = 0.284275758868298, `122` = 0.284275758868298, `123` = 0.276128338275879\n . ))",
            "3. tbl_subassign(x, i = NULL, as_string(name), list(value), i_arg = NULL, \n .     j_arg = name, value_arg = substitute(value))",
            "4. vectbl_recycle_rhs(value, fast_nrow(x), length(j), i_arg = NULL, \n .     value_arg)",
            "5. withCallingHandlers(for (j in seq_along(value)) {\n .     if (!is.null(value[[j]])) {\n .         value[[j]] <- vec_recycle(value[[j]], nrow)\n .     }\n . }, vctrs_error_recycle_incompatible_size = function(cnd) {\n .     cnd_signal(error_assign_incompatible_size(nrow, value, j, \n .         i_arg, value_arg))\n . })",
            "6. vec_recycle(value[[j]], nrow)",
            "7. stop_recycle_incompatible_size(x_size = 121L, size = 123L, x_arg = \"\")",
            "8. stop_vctrs(x_size = x_size, y_size = size, x_arg = x_arg, class = c(\"vctrs_error_incompatible_size\", \n .     \"vctrs_error_recycle_incompatible_size\"))",
            "9. abort(message, class = c(class, \"vctrs_error\"), ...)",
            "10. signal_abort(cnd)",
            "11. signalCondition(cnd)",
            "12. (function (cnd) \n  . {\n  .     cnd_signal(error_assign_incompatible_size(nrow, value, j, \n  .         i_arg, value_arg))\n  . })(structure(list(message = \"\", trace = structure(list(calls = list(\n  .     IRkernel::main(), kernel$run(), IRkernel:::handle_shell(), \n  .     executor$execute(msg), base::tryCatch(evaluate(request$content$code, \n  .         envir = .GlobalEnv, output_handler = oh, stop_on_error = 1L), \n  .         interrupt = function(cond) {\n  .             log_debug(\"Interrupt during execution\")\n  .             interrupted <<- TRUE\n  .         }, error = .self$handle_error), base:::tryCatchList(expr, \n  .         classes, parentenv, handlers), base:::tryCatchOne(tryCatchList(expr, \n  .         names[-nh], parentenv, handlers[-nh]), names[nh], parentenv, \n  .         handlers[[nh]]), base:::doTryCatch(return(expr), name, \n  .         parentenv, handler), base:::tryCatchList(expr, names[-nh], \n  .         parentenv, handlers[-nh]), base:::tryCatchOne(expr, names, \n  .         parentenv, handlers[[1L]]), base:::doTryCatch(return(expr), \n  .         name, parentenv, handler), evaluate::evaluate(request$content$code, \n  .         envir = .GlobalEnv, output_handler = oh, stop_on_error = 1L), \n  .     evaluate:::evaluate_call(expr, parsed$src[[i]], envir = envir, \n  .         enclos = enclos, debug = debug, last = i == length(out), \n  .         use_try = stop_on_error != 2L, keep_warning = keep_warning, \n  .         keep_message = keep_message, output_handler = output_handler, \n  .         include_timing = include_timing), evaluate:::timing_fn(handle(ev <- withCallingHandlers(withVisible(eval(expr, \n  .         envir, enclos)), warning = wHandler, error = eHandler, \n  .         message = mHandler))), evaluate:::handle(ev <- withCallingHandlers(withVisible(eval(expr, \n  .         envir, enclos)), warning = wHandler, error = eHandler, \n  .         message = mHandler)), base::try(f, silent = TRUE), base::tryCatch(expr, \n  .         error = function(e) {\n  .             call <- conditionCall(e)\n  .             if (!is.null(call)) {\n  .                 if (identical(call[[1L]], quote(doTryCatch))) \n  .                   call <- sys.call(-4L)\n  .                 dcall <- deparse(call)[1L]\n  .                 prefix <- paste(\"Error in\", dcall, \": \")\n  .                 LONG <- 75L\n  .                 sm <- strsplit(conditionMessage(e), \"\\n\")[[1L]]\n  .                 w <- 14L + nchar(dcall, type = \"w\") + nchar(sm[1L], \n  .                   type = \"w\")\n  .                 if (is.na(w)) \n  .                   w <- 14L + nchar(dcall, type = \"b\") + nchar(sm[1L], \n  .                     type = \"b\")\n  .                 if (w > LONG) \n  .                   prefix <- paste0(prefix, \"\\n  \")\n  .             }\n  .             else prefix <- \"Error : \"\n  .             msg <- paste0(prefix, conditionMessage(e), \"\\n\")\n  .             .Internal(seterrmessage(msg[1L]))\n  .             if (!silent && isTRUE(getOption(\"show.error.messages\"))) {\n  .                 cat(msg, file = outFile)\n  .                 .Internal(printDeferredWarnings())\n  .             }\n  .             invisible(structure(msg, class = \"try-error\", condition = e))\n  .         }), base:::tryCatchList(expr, classes, parentenv, handlers), \n  .     base:::tryCatchOne(expr, names, parentenv, handlers[[1L]]), \n  .     base:::doTryCatch(return(expr), name, parentenv, handler), \n  .     base::withCallingHandlers(withVisible(eval(expr, envir, enclos)), \n  .         warning = wHandler, error = eHandler, message = mHandler), \n  .     base::withVisible(eval(expr, envir, enclos)), base::eval(expr, \n  .         envir, enclos), base::eval(expr, envir, enclos), base::`$<-`(`*tmp*`, \n  .         pred2, value = c(`1` = 0.276128338275879, `2` = 0.309564575119907, \n  .         `3` = 0.300997177573199, `4` = 0.284275758868298, `5` = 0.336046791967873, \n  .         `6` = 0.300997177573199, `7` = 0.300997177573199, `8` = 0.300997177573199, \n  .         `9` = 0.292566415551274, `10` = 0.284275758868298, `12` = 0.309564575119907, \n  .         `13` = 0.276128338275879, `14` = 0.268126947712031, `15` = 0.292566415551274, \n  .         `16` = 0.284275758868298, `17` = 0.276128338275879, `18` = 0.284275758868298, \n  .         `19` = 0.300997177573199, `20` = 0.245021929294328, `21` = 0.284275758868298, \n  .         `22` = 0.245021929294328, `23` = 0.292566415551274, `24` = 0.300997177573199, \n  .         `25` = 0.345119259084079, `26` = 0.392081208281675, `27` = 0.292566415551274, \n  .         `28` = 0.300997177573199, `29` = 0.292566415551274, `30` = 0.268126947712031, \n  .         `31` = 0.327093699243533, `32` = 0.300997177573199, `33` = 0.252571771614708, \n  .         `34` = 0.252571771614708, `35` = 0.230385224151069, `36` = 0.284275758868298, \n  .         `37` = 0.292566415551274, `38` = 0.284275758868298, `39` = 0.223300443432556, \n  .         `40` = 0.276128338275879, `41` = 0.268126947712031, `42` = 0.284275758868298, \n  .         `43` = 0.35430595636624, `44` = 0.284275758868298, `45` = 0.292566415551274, \n  .         `46` = 0.318264798557693, `47` = 0.300997177573199, `48` = 0.284275758868298, \n  .         `49` = 0.300997177573199, `50` = 0.268126947712031, `51` = 0.318264798557693, \n  .         `52` = 0.300997177573199, `53` = 0.318264798557693, `54` = 0.309564575119907, \n  .         `55` = 0.284275758868298, `56` = 0.300997177573199, `57` = 0.237626016939214, \n  .         `58` = 0.292566415551274, `59` = 0.284275758868298, `60` = 0.35430595636624, \n  .         `61` = 0.284275758868298, `62` = 0.276128338275879, `63` = 0.276128338275879, \n  .         `64` = 0.292566415551274, `65` = 0.309564575119907, `66` = 0.336046791967873, \n  .         `67` = 0.276128338275879, `68` = 0.276128338275879, `69` = 0.276128338275879, \n  .         `70` = 0.292566415551274, `71` = 0.292566415551274, `72` = 0.260274047958376, \n  .         `73` = 0.284275758868298, `74` = 0.284275758868298, `75` = 0.245021929294328, \n  .         `76` = 0.292566415551274, `77` = 0.268126947712031, `78` = 0.252571771614708, \n  .         `79` = 0.260274047958376, `80` = 0.284275758868298, `81` = 0.284275758868298, \n  .         `82` = 0.284275758868298, `83` = 0.284275758868298, `84` = 0.284275758868298, \n  .         `85` = 0.309564575119907, `86` = 0.276128338275879, `87` = 0.300997177573199, \n  .         `88` = 0.245021929294328, `89` = 0.260274047958376, `90` = 0.223300443432556, \n  .         `91` = 0.300997177573199, `92` = 0.345119259084079, `93` = 0.284275758868298, \n  .         `94` = 0.284275758868298, `95` = 0.284275758868298, `96` = 0.284275758868298, \n  .         `97` = 0.318264798557693, `98` = 0.318264798557693, `99` = 0.276128338275879, \n  .         `101` = 0.292566415551274, `102` = 0.268126947712031, \n  .         `103` = 0.318264798557693, `104` = 0.300997177573199, \n  .         `105` = 0.309564575119907, `106` = 0.292566415551274, \n  .         `107` = 0.300997177573199, `108` = 0.318264798557693, \n  .         `109` = 0.284275758868298, `110` = 0.300997177573199, \n  .         `111` = 0.276128338275879, `112` = 0.318264798557693, \n  .         `113` = 0.300997177573199, `114` = 0.318264798557693, \n  .         `115` = 0.292566415551274, `116` = 0.252571771614708, \n  .         `117` = 0.252571771614708, `118` = 0.284275758868298, \n  .         `119` = 0.292566415551274, `120` = 0.292566415551274, \n  .         `121` = 0.284275758868298, `122` = 0.284275758868298, \n  .         `123` = 0.276128338275879)), tibble:::`$<-.tbl_df`(`*tmp*`, \n  .         pred2, value = c(`1` = 0.276128338275879, `2` = 0.309564575119907, \n  .         `3` = 0.300997177573199, `4` = 0.284275758868298, `5` = 0.336046791967873, \n  .         `6` = 0.300997177573199, `7` = 0.300997177573199, `8` = 0.300997177573199, \n  .         `9` = 0.292566415551274, `10` = 0.284275758868298, `12` = 0.309564575119907, \n  .         `13` = 0.276128338275879, `14` = 0.268126947712031, `15` = 0.292566415551274, \n  .         `16` = 0.284275758868298, `17` = 0.276128338275879, `18` = 0.284275758868298, \n  .         `19` = 0.300997177573199, `20` = 0.245021929294328, `21` = 0.284275758868298, \n  .         `22` = 0.245021929294328, `23` = 0.292566415551274, `24` = 0.300997177573199, \n  .         `25` = 0.345119259084079, `26` = 0.392081208281675, `27` = 0.292566415551274, \n  .         `28` = 0.300997177573199, `29` = 0.292566415551274, `30` = 0.268126947712031, \n  .         `31` = 0.327093699243533, `32` = 0.300997177573199, `33` = 0.252571771614708, \n  .         `34` = 0.252571771614708, `35` = 0.230385224151069, `36` = 0.284275758868298, \n  .         `37` = 0.292566415551274, `38` = 0.284275758868298, `39` = 0.223300443432556, \n  .         `40` = 0.276128338275879, `41` = 0.268126947712031, `42` = 0.284275758868298, \n  .         `43` = 0.35430595636624, `44` = 0.284275758868298, `45` = 0.292566415551274, \n  .         `46` = 0.318264798557693, `47` = 0.300997177573199, `48` = 0.284275758868298, \n  .         `49` = 0.300997177573199, `50` = 0.268126947712031, `51` = 0.318264798557693, \n  .         `52` = 0.300997177573199, `53` = 0.318264798557693, `54` = 0.309564575119907, \n  .         `55` = 0.284275758868298, `56` = 0.300997177573199, `57` = 0.237626016939214, \n  .         `58` = 0.292566415551274, `59` = 0.284275758868298, `60` = 0.35430595636624, \n  .         `61` = 0.284275758868298, `62` = 0.276128338275879, `63` = 0.276128338275879, \n  .         `64` = 0.292566415551274, `65` = 0.309564575119907, `66` = 0.336046791967873, \n  .         `67` = 0.276128338275879, `68` = 0.276128338275879, `69` = 0.276128338275879, \n  .         `70` = 0.292566415551274, `71` = 0.292566415551274, `72` = 0.260274047958376, \n  .         `73` = 0.284275758868298, `74` = 0.284275758868298, `75` = 0.245021929294328, \n  .         `76` = 0.292566415551274, `77` = 0.268126947712031, `78` = 0.252571771614708, \n  .         `79` = 0.260274047958376, `80` = 0.284275758868298, `81` = 0.284275758868298, \n  .         `82` = 0.284275758868298, `83` = 0.284275758868298, `84` = 0.284275758868298, \n  .         `85` = 0.309564575119907, `86` = 0.276128338275879, `87` = 0.300997177573199, \n  .         `88` = 0.245021929294328, `89` = 0.260274047958376, `90` = 0.223300443432556, \n  .         `91` = 0.300997177573199, `92` = 0.345119259084079, `93` = 0.284275758868298, \n  .         `94` = 0.284275758868298, `95` = 0.284275758868298, `96` = 0.284275758868298, \n  .         `97` = 0.318264798557693, `98` = 0.318264798557693, `99` = 0.276128338275879, \n  .         `101` = 0.292566415551274, `102` = 0.268126947712031, \n  .         `103` = 0.318264798557693, `104` = 0.300997177573199, \n  .         `105` = 0.309564575119907, `106` = 0.292566415551274, \n  .         `107` = 0.300997177573199, `108` = 0.318264798557693, \n  .         `109` = 0.284275758868298, `110` = 0.300997177573199, \n  .         `111` = 0.276128338275879, `112` = 0.318264798557693, \n  .         `113` = 0.300997177573199, `114` = 0.318264798557693, \n  .         `115` = 0.292566415551274, `116` = 0.252571771614708, \n  .         `117` = 0.252571771614708, `118` = 0.284275758868298, \n  .         `119` = 0.292566415551274, `120` = 0.292566415551274, \n  .         `121` = 0.284275758868298, `122` = 0.284275758868298, \n  .         `123` = 0.276128338275879)), tibble:::tbl_subassign(x, \n  .         i = NULL, as_string(name), list(value), i_arg = NULL, \n  .         j_arg = name, value_arg = substitute(value)), tibble:::vectbl_recycle_rhs(value, \n  .         fast_nrow(x), length(j), i_arg = NULL, value_arg), base::withCallingHandlers(for (j in seq_along(value)) {\n  .         if (!is.null(value[[j]])) {\n  .             value[[j]] <- vec_recycle(value[[j]], nrow)\n  .         }\n  .     }, vctrs_error_recycle_incompatible_size = function(cnd) {\n  .         cnd_signal(error_assign_incompatible_size(nrow, value, \n  .             j, i_arg, value_arg))\n  .     }), vctrs::vec_recycle(value[[j]], nrow), vctrs:::stop_recycle_incompatible_size(x_size = 121L, \n  .         size = 123L, x_arg = \"\"), vctrs:::stop_vctrs(x_size = x_size, \n  .         y_size = size, x_arg = x_arg, class = c(\"vctrs_error_incompatible_size\", \n  .             \"vctrs_error_recycle_incompatible_size\"))), parents = c(0L, \n  . 1L, 2L, 3L, 4L, 5L, 6L, 7L, 6L, 9L, 10L, 4L, 12L, 13L, 13L, 15L, \n  . 16L, 17L, 18L, 19L, 13L, 13L, 13L, 23L, 0L, 0L, 26L, 27L, 28L, \n  . 28L, 0L, 31L), indices = 1:32), class = \"rlang_trace\", version = 1L), \n  .     parent = NULL, x_size = 121L, y_size = 123L, x_arg = \"\"), class = c(\"vctrs_error_incompatible_size\", \n  . \"vctrs_error_recycle_incompatible_size\", \"vctrs_error\", \"rlang_error\", \n  . \"error\", \"condition\")))",
            "13. cnd_signal(error_assign_incompatible_size(nrow, value, j, i_arg, \n  .     value_arg))",
            "14. signal_abort(cnd)"
          ]
        }
      ]
    },
    {
      "cell_type": "code",
      "metadata": {
        "colab": {
          "base_uri": "https://localhost:8080/",
          "height": 1000
        },
        "id": "zV7OEuETLGNy",
        "outputId": "bd5cf4ed-9bfc-4b0c-8245-a607947dc76a"
      },
      "source": [
        "# Nuage de points (à la recherche de la valeur pour x=12)\r\n",
        "\r\n",
        "ggplot(bd2, aes(x = educ, y = pred2)) +\r\n",
        "  geom_point()"
      ],
      "execution_count": 36,
      "outputs": [
        {
          "output_type": "stream",
          "text": [
            "ERROR while rich displaying an object: Error in FUN(X[[i]], ...): object 'pred2' not found\n",
            "\n",
            "Traceback:\n",
            "1. FUN(X[[i]], ...)\n",
            "2. tryCatch(withCallingHandlers({\n",
            " .     if (!mime %in% names(repr::mime2repr)) \n",
            " .         stop(\"No repr_* for mimetype \", mime, \" in repr::mime2repr\")\n",
            " .     rpr <- repr::mime2repr[[mime]](obj)\n",
            " .     if (is.null(rpr)) \n",
            " .         return(NULL)\n",
            " .     prepare_content(is.raw(rpr), rpr)\n",
            " . }, error = error_handler), error = outer_handler)\n",
            "3. tryCatchList(expr, classes, parentenv, handlers)\n",
            "4. tryCatchOne(expr, names, parentenv, handlers[[1L]])\n",
            "5. doTryCatch(return(expr), name, parentenv, handler)\n",
            "6. withCallingHandlers({\n",
            " .     if (!mime %in% names(repr::mime2repr)) \n",
            " .         stop(\"No repr_* for mimetype \", mime, \" in repr::mime2repr\")\n",
            " .     rpr <- repr::mime2repr[[mime]](obj)\n",
            " .     if (is.null(rpr)) \n",
            " .         return(NULL)\n",
            " .     prepare_content(is.raw(rpr), rpr)\n",
            " . }, error = error_handler)\n",
            "7. repr::mime2repr[[mime]](obj)\n",
            "8. repr_text.default(obj)\n",
            "9. paste(capture.output(print(obj)), collapse = \"\\n\")\n",
            "10. capture.output(print(obj))\n",
            "11. evalVis(expr)\n",
            "12. withVisible(eval(expr, pf))\n",
            "13. eval(expr, pf)\n",
            "14. eval(expr, pf)\n",
            "15. print(obj)\n",
            "16. print.ggplot(obj)\n",
            "17. ggplot_build(x)\n",
            "18. ggplot_build.ggplot(x)\n",
            "19. by_layer(function(l, d) l$compute_aesthetics(d, plot))\n",
            "20. f(l = layers[[i]], d = data[[i]])\n",
            "21. l$compute_aesthetics(d, plot)\n",
            "22. f(..., self = self)\n",
            "23. scales_add_defaults(plot$scales, data, aesthetics, plot$plot_env)\n",
            "24. lapply(aesthetics[new_aesthetics], eval_tidy, data = data)\n",
            "25. FUN(X[[i]], ...)\n"
          ],
          "name": "stderr"
        },
        {
          "output_type": "display_data",
          "data": {
            "image/png": "[encoded data removed]",
            "text/plain": [
              "plot without title"
            ]
          },
          "metadata": {
            "tags": [],
            "image/png": {
              "width": 420,
              "height": 420
            }
          }
        }
      ]
    }
  ]
}