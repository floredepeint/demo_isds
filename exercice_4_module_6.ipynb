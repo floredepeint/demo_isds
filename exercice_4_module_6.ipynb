{
  "nbformat": 4,
  "nbformat_minor": 0,
  "metadata": {
    "colab": {
      "name": "exercice 4 module 6.ipynb",
      "provenance": [],
      "authorship_tag": "ABX9TyOmrfu4sOAhXqXd/A2CFEuN",
      "include_colab_link": true
    },
    "kernelspec": {
      "name": "ir",
      "display_name": "R"
    }
  },
  "cells": [
    {
      "cell_type": "markdown",
      "metadata": {
        "id": "view-in-github",
        "colab_type": "text"
      },
      "source": [
        "<a href=\"https://colab.research.google.com/github/floredepeint/demo_isds/blob/main/exercice_4_module_6.ipynb\" target=\"_parent\"><img src=\"https://colab.research.google.com/assets/colab-badge.svg\" alt=\"Open In Colab\"/></a>"
      ]
    },
    {
      "cell_type": "code",
      "metadata": {
        "colab": {
          "base_uri": "https://localhost:8080/"
        },
        "id": "HIRnRKn5FHKW",
        "outputId": "cfff559e-8dcc-4980-9593-b9d77d696c8c"
      },
      "source": [
        "#Téléchargement des packages nécessaires\r\n",
        "\r\n",
        "library (tidyverse)\r\n",
        "install.packages(\"rsq\")\r\n",
        "require(rsq)\r\n",
        "library(ggplot2)\r\n",
        "install.packages(\"descr\")\r\n",
        "require(descr)"
      ],
      "execution_count": 2,
      "outputs": [
        {
          "output_type": "stream",
          "text": [
            "Warning message in system(\"timedatectl\", intern = TRUE):\n",
            "“running command 'timedatectl' had status 1”\n",
            "── \u001b[1mAttaching packages\u001b[22m ─────────────────────────────────────── tidyverse 1.3.0 ──\n",
            "\n",
            "\u001b[32m✔\u001b[39m \u001b[34mggplot2\u001b[39m 3.3.3     \u001b[32m✔\u001b[39m \u001b[34mpurrr  \u001b[39m 0.3.4\n",
            "\u001b[32m✔\u001b[39m \u001b[34mtibble \u001b[39m 3.1.0     \u001b[32m✔\u001b[39m \u001b[34mdplyr  \u001b[39m 1.0.4\n",
            "\u001b[32m✔\u001b[39m \u001b[34mtidyr  \u001b[39m 1.1.3     \u001b[32m✔\u001b[39m \u001b[34mstringr\u001b[39m 1.4.0\n",
            "\u001b[32m✔\u001b[39m \u001b[34mreadr  \u001b[39m 1.4.0     \u001b[32m✔\u001b[39m \u001b[34mforcats\u001b[39m 0.5.1\n",
            "\n",
            "── \u001b[1mConflicts\u001b[22m ────────────────────────────────────────── tidyverse_conflicts() ──\n",
            "\u001b[31m✖\u001b[39m \u001b[34mdplyr\u001b[39m::\u001b[32mfilter()\u001b[39m masks \u001b[34mstats\u001b[39m::filter()\n",
            "\u001b[31m✖\u001b[39m \u001b[34mdplyr\u001b[39m::\u001b[32mlag()\u001b[39m    masks \u001b[34mstats\u001b[39m::lag()\n",
            "\n",
            "Installing package into ‘/usr/local/lib/R/site-library’\n",
            "(as ‘lib’ is unspecified)\n",
            "\n",
            "also installing the dependencies ‘minqa’, ‘nloptr’, ‘statmod’, ‘RcppEigen’, ‘lme4’, ‘Deriv’\n",
            "\n",
            "\n",
            "Loading required package: rsq\n",
            "\n",
            "Installing package into ‘/usr/local/lib/R/site-library’\n",
            "(as ‘lib’ is unspecified)\n",
            "\n",
            "also installing the dependency ‘xtable’\n",
            "\n",
            "\n",
            "Loading required package: descr\n",
            "\n"
          ],
          "name": "stderr"
        }
      ]
    },
    {
      "cell_type": "code",
      "metadata": {
        "colab": {
          "base_uri": "https://localhost:8080/",
          "height": 1000
        },
        "id": "v8Q5-araFadm",
        "outputId": "2b3f24db-d75f-40be-aaf1-6684abbbf2db"
      },
      "source": [
        "#Ouvrir le fichier\r\n",
        "\r\n",
        "path_to_csv = 'https://github.com/Cours-EDUlib/FAS-ISDS/blob/main/module-6/Exercices/6-4_donnees.csv?raw=true'\r\n",
        "\r\n",
        "bd <- read_csv(path_to_csv)\r\n",
        "bd "
      ],
      "execution_count": 3,
      "outputs": [
        {
          "output_type": "stream",
          "text": [
            "Warning message:\n",
            "“Missing column names filled in: 'X1' [1]”\n",
            "Warning message:\n",
            "“Duplicated column names deduplicated: 'X1' => 'X1_1' [2]”\n",
            "\n",
            "\u001b[36m──\u001b[39m \u001b[1m\u001b[1mColumn specification\u001b[1m\u001b[22m \u001b[36m────────────────────────────────────────────────────────\u001b[39m\n",
            "cols(\n",
            "  X1 = \u001b[32mcol_double()\u001b[39m,\n",
            "  X1_1 = \u001b[32mcol_double()\u001b[39m,\n",
            "  childs = \u001b[32mcol_double()\u001b[39m,\n",
            "  degree = \u001b[32mcol_double()\u001b[39m,\n",
            "  educ = \u001b[32mcol_double()\u001b[39m,\n",
            "  sei = \u001b[32mcol_double()\u001b[39m,\n",
            "  divorce = \u001b[32mcol_double()\u001b[39m\n",
            ")\n",
            "\n",
            "\n"
          ],
          "name": "stderr"
        },
        {
          "output_type": "display_data",
          "data": {
            "text/plain": [
              "     X1   X1_1 childs degree educ sei divorce\n",
              "1     1    1   0      1      12   434 0      \n",
              "2     2    2   0      3      17   389 0      \n",
              "3     3    3   1      4      18   351 0      \n",
              "4     4    4   1      0       6   625 1      \n",
              "5     5    5   1      0       8   171 0      \n",
              "6     6    6   1      3      17   692 1      \n",
              "7     7    7   1      1      12   298 1      \n",
              "8     8    8   1      1      13   377 1      \n",
              "9     9    9   0      1      13   377 0      \n",
              "10   10   10   1      1      13    NA 0      \n",
              "11   11   11   0      4      19   923 0      \n",
              "12   12   12   0      4      16   809 1      \n",
              "13   13   13   0      3      16   764 1      \n",
              "14   14   14   0      1      13   374 1      \n",
              "15   15   15   1      3      16   384 1      \n",
              "16   16   16   0      3      16   389 0      \n",
              "17   17   17   0      1      15   625 0      \n",
              "18   18   18   0      4      19   839 1      \n",
              "19   19   19   0      1      13   171 1      \n",
              "20   20   20   1      1      12   377 0      \n",
              "21   21   21   1      1      12   394 1      \n",
              "22   22   22   1      0       4   275 0      \n",
              "23   23   23   1      1      15   499 1      \n",
              "24   24   24   0      1      12   293 0      \n",
              "25   25   25   1      0      11   293 0      \n",
              "26   26   26   0      1      16   525 1      \n",
              "27   27   27   1      3      20   537 0      \n",
              "28   28   28   0      3      17   763 1      \n",
              "29   29   29   0      3      16   725 0      \n",
              "30   30   30   0      3      16   339 0      \n",
              "⋮    ⋮    ⋮    ⋮      ⋮      ⋮    ⋮   ⋮      \n",
              "2860 2860 2875 1      4      20   879 0      \n",
              "2861 2861 2876 0      4      18   625 0      \n",
              "2862 2862 2877 1      1      13   331 0      \n",
              "2863 2863 2878 1      0      10   397 0      \n",
              "2864 2864 2879 1      1      12   697 1      \n",
              "2865 2865 2880 1      1      12   499 0      \n",
              "2866 2866 2881 0      1      13   389 1      \n",
              "2867 2867 2882 0      2      14   394 0      \n",
              "2868 2868 2883 0      1      16   764 1      \n",
              "2869 2869 2884 1      1      12   485 0      \n",
              "2870 2870 2885 0      1      14   264 0      \n",
              "2871 2871 2886 0      3      16   422 1      \n",
              "2872 2872 2887 1      1      12   507 0      \n",
              "2873 2873 2888 1      1      13   545 0      \n",
              "2874 2874 2889 1      1      12   525 0      \n",
              "2875 2875 2890 1      3      16   622 1      \n",
              "2876 2876 2891 1      1      12   505 0      \n",
              "2877 2877 2892 1      1      12   331 1      \n",
              "2878 2878 2893 1      1      12   381 0      \n",
              "2879 2879 2894 1      1      14   744 0      \n",
              "2880 2880 2895 1      1      13    NA 0      \n",
              "2881 2881 2896 1      1      12   284 1      \n",
              "2882 2882 2897 0      3      16   324 0      \n",
              "2883 2883 2898 0      2      14   286 1      \n",
              "2884 2884 2899 1      1      11   389 1      \n",
              "2885 2885 2900 0      0      11   381 0      \n",
              "2886 2886 2901 1      1      12   384 0      \n",
              "2887 2887 2902 1      1      12   284 0      \n",
              "2888 2888 2903 1      1       9   681 0      \n",
              "2889 2889 2904 1      1      12   324 0      "
            ],
            "text/latex": "A spec\\_tbl\\_df: 2889 × 7\n\\begin{tabular}{lllllll}\n X1 & X1\\_1 & childs & degree & educ & sei & divorce\\\\\n <dbl> & <dbl> & <dbl> & <dbl> & <dbl> & <dbl> & <dbl>\\\\\n\\hline\n\t  1 &  1 & 0 & 1 & 12 & 434 & 0\\\\\n\t  2 &  2 & 0 & 3 & 17 & 389 & 0\\\\\n\t  3 &  3 & 1 & 4 & 18 & 351 & 0\\\\\n\t  4 &  4 & 1 & 0 &  6 & 625 & 1\\\\\n\t  5 &  5 & 1 & 0 &  8 & 171 & 0\\\\\n\t  6 &  6 & 1 & 3 & 17 & 692 & 1\\\\\n\t  7 &  7 & 1 & 1 & 12 & 298 & 1\\\\\n\t  8 &  8 & 1 & 1 & 13 & 377 & 1\\\\\n\t  9 &  9 & 0 & 1 & 13 & 377 & 0\\\\\n\t 10 & 10 & 1 & 1 & 13 &  NA & 0\\\\\n\t 11 & 11 & 0 & 4 & 19 & 923 & 0\\\\\n\t 12 & 12 & 0 & 4 & 16 & 809 & 1\\\\\n\t 13 & 13 & 0 & 3 & 16 & 764 & 1\\\\\n\t 14 & 14 & 0 & 1 & 13 & 374 & 1\\\\\n\t 15 & 15 & 1 & 3 & 16 & 384 & 1\\\\\n\t 16 & 16 & 0 & 3 & 16 & 389 & 0\\\\\n\t 17 & 17 & 0 & 1 & 15 & 625 & 0\\\\\n\t 18 & 18 & 0 & 4 & 19 & 839 & 1\\\\\n\t 19 & 19 & 0 & 1 & 13 & 171 & 1\\\\\n\t 20 & 20 & 1 & 1 & 12 & 377 & 0\\\\\n\t 21 & 21 & 1 & 1 & 12 & 394 & 1\\\\\n\t 22 & 22 & 1 & 0 &  4 & 275 & 0\\\\\n\t 23 & 23 & 1 & 1 & 15 & 499 & 1\\\\\n\t 24 & 24 & 0 & 1 & 12 & 293 & 0\\\\\n\t 25 & 25 & 1 & 0 & 11 & 293 & 0\\\\\n\t 26 & 26 & 0 & 1 & 16 & 525 & 1\\\\\n\t 27 & 27 & 1 & 3 & 20 & 537 & 0\\\\\n\t 28 & 28 & 0 & 3 & 17 & 763 & 1\\\\\n\t 29 & 29 & 0 & 3 & 16 & 725 & 0\\\\\n\t 30 & 30 & 0 & 3 & 16 & 339 & 0\\\\\n\t ⋮ & ⋮ & ⋮ & ⋮ & ⋮ & ⋮ & ⋮\\\\\n\t 2860 & 2875 & 1 & 4 & 20 & 879 & 0\\\\\n\t 2861 & 2876 & 0 & 4 & 18 & 625 & 0\\\\\n\t 2862 & 2877 & 1 & 1 & 13 & 331 & 0\\\\\n\t 2863 & 2878 & 1 & 0 & 10 & 397 & 0\\\\\n\t 2864 & 2879 & 1 & 1 & 12 & 697 & 1\\\\\n\t 2865 & 2880 & 1 & 1 & 12 & 499 & 0\\\\\n\t 2866 & 2881 & 0 & 1 & 13 & 389 & 1\\\\\n\t 2867 & 2882 & 0 & 2 & 14 & 394 & 0\\\\\n\t 2868 & 2883 & 0 & 1 & 16 & 764 & 1\\\\\n\t 2869 & 2884 & 1 & 1 & 12 & 485 & 0\\\\\n\t 2870 & 2885 & 0 & 1 & 14 & 264 & 0\\\\\n\t 2871 & 2886 & 0 & 3 & 16 & 422 & 1\\\\\n\t 2872 & 2887 & 1 & 1 & 12 & 507 & 0\\\\\n\t 2873 & 2888 & 1 & 1 & 13 & 545 & 0\\\\\n\t 2874 & 2889 & 1 & 1 & 12 & 525 & 0\\\\\n\t 2875 & 2890 & 1 & 3 & 16 & 622 & 1\\\\\n\t 2876 & 2891 & 1 & 1 & 12 & 505 & 0\\\\\n\t 2877 & 2892 & 1 & 1 & 12 & 331 & 1\\\\\n\t 2878 & 2893 & 1 & 1 & 12 & 381 & 0\\\\\n\t 2879 & 2894 & 1 & 1 & 14 & 744 & 0\\\\\n\t 2880 & 2895 & 1 & 1 & 13 &  NA & 0\\\\\n\t 2881 & 2896 & 1 & 1 & 12 & 284 & 1\\\\\n\t 2882 & 2897 & 0 & 3 & 16 & 324 & 0\\\\\n\t 2883 & 2898 & 0 & 2 & 14 & 286 & 1\\\\\n\t 2884 & 2899 & 1 & 1 & 11 & 389 & 1\\\\\n\t 2885 & 2900 & 0 & 0 & 11 & 381 & 0\\\\\n\t 2886 & 2901 & 1 & 1 & 12 & 384 & 0\\\\\n\t 2887 & 2902 & 1 & 1 & 12 & 284 & 0\\\\\n\t 2888 & 2903 & 1 & 1 &  9 & 681 & 0\\\\\n\t 2889 & 2904 & 1 & 1 & 12 & 324 & 0\\\\\n\\end{tabular}\n",
            "text/markdown": "\nA spec_tbl_df: 2889 × 7\n\n| X1 &lt;dbl&gt; | X1_1 &lt;dbl&gt; | childs &lt;dbl&gt; | degree &lt;dbl&gt; | educ &lt;dbl&gt; | sei &lt;dbl&gt; | divorce &lt;dbl&gt; |\n|---|---|---|---|---|---|---|\n|  1 |  1 | 0 | 1 | 12 | 434 | 0 |\n|  2 |  2 | 0 | 3 | 17 | 389 | 0 |\n|  3 |  3 | 1 | 4 | 18 | 351 | 0 |\n|  4 |  4 | 1 | 0 |  6 | 625 | 1 |\n|  5 |  5 | 1 | 0 |  8 | 171 | 0 |\n|  6 |  6 | 1 | 3 | 17 | 692 | 1 |\n|  7 |  7 | 1 | 1 | 12 | 298 | 1 |\n|  8 |  8 | 1 | 1 | 13 | 377 | 1 |\n|  9 |  9 | 0 | 1 | 13 | 377 | 0 |\n| 10 | 10 | 1 | 1 | 13 |  NA | 0 |\n| 11 | 11 | 0 | 4 | 19 | 923 | 0 |\n| 12 | 12 | 0 | 4 | 16 | 809 | 1 |\n| 13 | 13 | 0 | 3 | 16 | 764 | 1 |\n| 14 | 14 | 0 | 1 | 13 | 374 | 1 |\n| 15 | 15 | 1 | 3 | 16 | 384 | 1 |\n| 16 | 16 | 0 | 3 | 16 | 389 | 0 |\n| 17 | 17 | 0 | 1 | 15 | 625 | 0 |\n| 18 | 18 | 0 | 4 | 19 | 839 | 1 |\n| 19 | 19 | 0 | 1 | 13 | 171 | 1 |\n| 20 | 20 | 1 | 1 | 12 | 377 | 0 |\n| 21 | 21 | 1 | 1 | 12 | 394 | 1 |\n| 22 | 22 | 1 | 0 |  4 | 275 | 0 |\n| 23 | 23 | 1 | 1 | 15 | 499 | 1 |\n| 24 | 24 | 0 | 1 | 12 | 293 | 0 |\n| 25 | 25 | 1 | 0 | 11 | 293 | 0 |\n| 26 | 26 | 0 | 1 | 16 | 525 | 1 |\n| 27 | 27 | 1 | 3 | 20 | 537 | 0 |\n| 28 | 28 | 0 | 3 | 17 | 763 | 1 |\n| 29 | 29 | 0 | 3 | 16 | 725 | 0 |\n| 30 | 30 | 0 | 3 | 16 | 339 | 0 |\n| ⋮ | ⋮ | ⋮ | ⋮ | ⋮ | ⋮ | ⋮ |\n| 2860 | 2875 | 1 | 4 | 20 | 879 | 0 |\n| 2861 | 2876 | 0 | 4 | 18 | 625 | 0 |\n| 2862 | 2877 | 1 | 1 | 13 | 331 | 0 |\n| 2863 | 2878 | 1 | 0 | 10 | 397 | 0 |\n| 2864 | 2879 | 1 | 1 | 12 | 697 | 1 |\n| 2865 | 2880 | 1 | 1 | 12 | 499 | 0 |\n| 2866 | 2881 | 0 | 1 | 13 | 389 | 1 |\n| 2867 | 2882 | 0 | 2 | 14 | 394 | 0 |\n| 2868 | 2883 | 0 | 1 | 16 | 764 | 1 |\n| 2869 | 2884 | 1 | 1 | 12 | 485 | 0 |\n| 2870 | 2885 | 0 | 1 | 14 | 264 | 0 |\n| 2871 | 2886 | 0 | 3 | 16 | 422 | 1 |\n| 2872 | 2887 | 1 | 1 | 12 | 507 | 0 |\n| 2873 | 2888 | 1 | 1 | 13 | 545 | 0 |\n| 2874 | 2889 | 1 | 1 | 12 | 525 | 0 |\n| 2875 | 2890 | 1 | 3 | 16 | 622 | 1 |\n| 2876 | 2891 | 1 | 1 | 12 | 505 | 0 |\n| 2877 | 2892 | 1 | 1 | 12 | 331 | 1 |\n| 2878 | 2893 | 1 | 1 | 12 | 381 | 0 |\n| 2879 | 2894 | 1 | 1 | 14 | 744 | 0 |\n| 2880 | 2895 | 1 | 1 | 13 |  NA | 0 |\n| 2881 | 2896 | 1 | 1 | 12 | 284 | 1 |\n| 2882 | 2897 | 0 | 3 | 16 | 324 | 0 |\n| 2883 | 2898 | 0 | 2 | 14 | 286 | 1 |\n| 2884 | 2899 | 1 | 1 | 11 | 389 | 1 |\n| 2885 | 2900 | 0 | 0 | 11 | 381 | 0 |\n| 2886 | 2901 | 1 | 1 | 12 | 384 | 0 |\n| 2887 | 2902 | 1 | 1 | 12 | 284 | 0 |\n| 2888 | 2903 | 1 | 1 |  9 | 681 | 0 |\n| 2889 | 2904 | 1 | 1 | 12 | 324 | 0 |\n\n",
            "text/html": [
              "<table class=\"dataframe\">\n",
              "<caption>A spec_tbl_df: 2889 × 7</caption>\n",
              "<thead>\n",
              "\t<tr><th scope=col>X1</th><th scope=col>X1_1</th><th scope=col>childs</th><th scope=col>degree</th><th scope=col>educ</th><th scope=col>sei</th><th scope=col>divorce</th></tr>\n",
              "\t<tr><th scope=col>&lt;dbl&gt;</th><th scope=col>&lt;dbl&gt;</th><th scope=col>&lt;dbl&gt;</th><th scope=col>&lt;dbl&gt;</th><th scope=col>&lt;dbl&gt;</th><th scope=col>&lt;dbl&gt;</th><th scope=col>&lt;dbl&gt;</th></tr>\n",
              "</thead>\n",
              "<tbody>\n",
              "\t<tr><td> 1</td><td> 1</td><td>0</td><td>1</td><td>12</td><td>434</td><td>0</td></tr>\n",
              "\t<tr><td> 2</td><td> 2</td><td>0</td><td>3</td><td>17</td><td>389</td><td>0</td></tr>\n",
              "\t<tr><td> 3</td><td> 3</td><td>1</td><td>4</td><td>18</td><td>351</td><td>0</td></tr>\n",
              "\t<tr><td> 4</td><td> 4</td><td>1</td><td>0</td><td> 6</td><td>625</td><td>1</td></tr>\n",
              "\t<tr><td> 5</td><td> 5</td><td>1</td><td>0</td><td> 8</td><td>171</td><td>0</td></tr>\n",
              "\t<tr><td> 6</td><td> 6</td><td>1</td><td>3</td><td>17</td><td>692</td><td>1</td></tr>\n",
              "\t<tr><td> 7</td><td> 7</td><td>1</td><td>1</td><td>12</td><td>298</td><td>1</td></tr>\n",
              "\t<tr><td> 8</td><td> 8</td><td>1</td><td>1</td><td>13</td><td>377</td><td>1</td></tr>\n",
              "\t<tr><td> 9</td><td> 9</td><td>0</td><td>1</td><td>13</td><td>377</td><td>0</td></tr>\n",
              "\t<tr><td>10</td><td>10</td><td>1</td><td>1</td><td>13</td><td> NA</td><td>0</td></tr>\n",
              "\t<tr><td>11</td><td>11</td><td>0</td><td>4</td><td>19</td><td>923</td><td>0</td></tr>\n",
              "\t<tr><td>12</td><td>12</td><td>0</td><td>4</td><td>16</td><td>809</td><td>1</td></tr>\n",
              "\t<tr><td>13</td><td>13</td><td>0</td><td>3</td><td>16</td><td>764</td><td>1</td></tr>\n",
              "\t<tr><td>14</td><td>14</td><td>0</td><td>1</td><td>13</td><td>374</td><td>1</td></tr>\n",
              "\t<tr><td>15</td><td>15</td><td>1</td><td>3</td><td>16</td><td>384</td><td>1</td></tr>\n",
              "\t<tr><td>16</td><td>16</td><td>0</td><td>3</td><td>16</td><td>389</td><td>0</td></tr>\n",
              "\t<tr><td>17</td><td>17</td><td>0</td><td>1</td><td>15</td><td>625</td><td>0</td></tr>\n",
              "\t<tr><td>18</td><td>18</td><td>0</td><td>4</td><td>19</td><td>839</td><td>1</td></tr>\n",
              "\t<tr><td>19</td><td>19</td><td>0</td><td>1</td><td>13</td><td>171</td><td>1</td></tr>\n",
              "\t<tr><td>20</td><td>20</td><td>1</td><td>1</td><td>12</td><td>377</td><td>0</td></tr>\n",
              "\t<tr><td>21</td><td>21</td><td>1</td><td>1</td><td>12</td><td>394</td><td>1</td></tr>\n",
              "\t<tr><td>22</td><td>22</td><td>1</td><td>0</td><td> 4</td><td>275</td><td>0</td></tr>\n",
              "\t<tr><td>23</td><td>23</td><td>1</td><td>1</td><td>15</td><td>499</td><td>1</td></tr>\n",
              "\t<tr><td>24</td><td>24</td><td>0</td><td>1</td><td>12</td><td>293</td><td>0</td></tr>\n",
              "\t<tr><td>25</td><td>25</td><td>1</td><td>0</td><td>11</td><td>293</td><td>0</td></tr>\n",
              "\t<tr><td>26</td><td>26</td><td>0</td><td>1</td><td>16</td><td>525</td><td>1</td></tr>\n",
              "\t<tr><td>27</td><td>27</td><td>1</td><td>3</td><td>20</td><td>537</td><td>0</td></tr>\n",
              "\t<tr><td>28</td><td>28</td><td>0</td><td>3</td><td>17</td><td>763</td><td>1</td></tr>\n",
              "\t<tr><td>29</td><td>29</td><td>0</td><td>3</td><td>16</td><td>725</td><td>0</td></tr>\n",
              "\t<tr><td>30</td><td>30</td><td>0</td><td>3</td><td>16</td><td>339</td><td>0</td></tr>\n",
              "\t<tr><td>⋮</td><td>⋮</td><td>⋮</td><td>⋮</td><td>⋮</td><td>⋮</td><td>⋮</td></tr>\n",
              "\t<tr><td>2860</td><td>2875</td><td>1</td><td>4</td><td>20</td><td>879</td><td>0</td></tr>\n",
              "\t<tr><td>2861</td><td>2876</td><td>0</td><td>4</td><td>18</td><td>625</td><td>0</td></tr>\n",
              "\t<tr><td>2862</td><td>2877</td><td>1</td><td>1</td><td>13</td><td>331</td><td>0</td></tr>\n",
              "\t<tr><td>2863</td><td>2878</td><td>1</td><td>0</td><td>10</td><td>397</td><td>0</td></tr>\n",
              "\t<tr><td>2864</td><td>2879</td><td>1</td><td>1</td><td>12</td><td>697</td><td>1</td></tr>\n",
              "\t<tr><td>2865</td><td>2880</td><td>1</td><td>1</td><td>12</td><td>499</td><td>0</td></tr>\n",
              "\t<tr><td>2866</td><td>2881</td><td>0</td><td>1</td><td>13</td><td>389</td><td>1</td></tr>\n",
              "\t<tr><td>2867</td><td>2882</td><td>0</td><td>2</td><td>14</td><td>394</td><td>0</td></tr>\n",
              "\t<tr><td>2868</td><td>2883</td><td>0</td><td>1</td><td>16</td><td>764</td><td>1</td></tr>\n",
              "\t<tr><td>2869</td><td>2884</td><td>1</td><td>1</td><td>12</td><td>485</td><td>0</td></tr>\n",
              "\t<tr><td>2870</td><td>2885</td><td>0</td><td>1</td><td>14</td><td>264</td><td>0</td></tr>\n",
              "\t<tr><td>2871</td><td>2886</td><td>0</td><td>3</td><td>16</td><td>422</td><td>1</td></tr>\n",
              "\t<tr><td>2872</td><td>2887</td><td>1</td><td>1</td><td>12</td><td>507</td><td>0</td></tr>\n",
              "\t<tr><td>2873</td><td>2888</td><td>1</td><td>1</td><td>13</td><td>545</td><td>0</td></tr>\n",
              "\t<tr><td>2874</td><td>2889</td><td>1</td><td>1</td><td>12</td><td>525</td><td>0</td></tr>\n",
              "\t<tr><td>2875</td><td>2890</td><td>1</td><td>3</td><td>16</td><td>622</td><td>1</td></tr>\n",
              "\t<tr><td>2876</td><td>2891</td><td>1</td><td>1</td><td>12</td><td>505</td><td>0</td></tr>\n",
              "\t<tr><td>2877</td><td>2892</td><td>1</td><td>1</td><td>12</td><td>331</td><td>1</td></tr>\n",
              "\t<tr><td>2878</td><td>2893</td><td>1</td><td>1</td><td>12</td><td>381</td><td>0</td></tr>\n",
              "\t<tr><td>2879</td><td>2894</td><td>1</td><td>1</td><td>14</td><td>744</td><td>0</td></tr>\n",
              "\t<tr><td>2880</td><td>2895</td><td>1</td><td>1</td><td>13</td><td> NA</td><td>0</td></tr>\n",
              "\t<tr><td>2881</td><td>2896</td><td>1</td><td>1</td><td>12</td><td>284</td><td>1</td></tr>\n",
              "\t<tr><td>2882</td><td>2897</td><td>0</td><td>3</td><td>16</td><td>324</td><td>0</td></tr>\n",
              "\t<tr><td>2883</td><td>2898</td><td>0</td><td>2</td><td>14</td><td>286</td><td>1</td></tr>\n",
              "\t<tr><td>2884</td><td>2899</td><td>1</td><td>1</td><td>11</td><td>389</td><td>1</td></tr>\n",
              "\t<tr><td>2885</td><td>2900</td><td>0</td><td>0</td><td>11</td><td>381</td><td>0</td></tr>\n",
              "\t<tr><td>2886</td><td>2901</td><td>1</td><td>1</td><td>12</td><td>384</td><td>0</td></tr>\n",
              "\t<tr><td>2887</td><td>2902</td><td>1</td><td>1</td><td>12</td><td>284</td><td>0</td></tr>\n",
              "\t<tr><td>2888</td><td>2903</td><td>1</td><td>1</td><td> 9</td><td>681</td><td>0</td></tr>\n",
              "\t<tr><td>2889</td><td>2904</td><td>1</td><td>1</td><td>12</td><td>324</td><td>0</td></tr>\n",
              "</tbody>\n",
              "</table>\n"
            ]
          },
          "metadata": {
            "tags": []
          }
        }
      ]
    },
    {
      "cell_type": "markdown",
      "metadata": {
        "id": "x7sghK6FDDdg"
      },
      "source": [
        "Première partie de l'exercice"
      ]
    },
    {
      "cell_type": "code",
      "metadata": {
        "colab": {
          "base_uri": "https://localhost:8080/",
          "height": 1000
        },
        "id": "Pe-8ACWEFiuq",
        "outputId": "771f99f4-3019-497b-9d48-00d085c050c2"
      },
      "source": [
        "# Distribution des variables enfant et divorce\r\n",
        "\r\n",
        "freq(bd$childs)\r\n",
        "freq(bd$divorce)"
      ],
      "execution_count": 4,
      "outputs": [
        {
          "output_type": "display_data",
          "data": {
            "text/plain": [
              "      Frequency Percent  \n",
              "0      822       28.45275\n",
              "1     2067       71.54725\n",
              "Total 2889      100.00000"
            ],
            "text/latex": "A freqtable: 3 × 2 of type dbl\n\\begin{tabular}{r|ll}\n  & Frequency & Percent\\\\\n\\hline\n\t0 &  822 &  28.45275\\\\\n\t1 & 2067 &  71.54725\\\\\n\tTotal & 2889 & 100.00000\\\\\n\\end{tabular}\n",
            "text/markdown": "\nA freqtable: 3 × 2 of type dbl\n\n| <!--/--> | Frequency | Percent |\n|---|---|---|\n| 0 |  822 |  28.45275 |\n| 1 | 2067 |  71.54725 |\n| Total | 2889 | 100.00000 |\n\n",
            "text/html": [
              "<table class=\"dataframe\">\n",
              "<caption>A freqtable: 3 × 2 of type dbl</caption>\n",
              "<thead>\n",
              "\t<tr><th></th><th scope=col>Frequency</th><th scope=col>Percent</th></tr>\n",
              "</thead>\n",
              "<tbody>\n",
              "\t<tr><th scope=row>0</th><td> 822</td><td> 28.45275</td></tr>\n",
              "\t<tr><th scope=row>1</th><td>2067</td><td> 71.54725</td></tr>\n",
              "\t<tr><th scope=row>Total</th><td>2889</td><td>100.00000</td></tr>\n",
              "</tbody>\n",
              "</table>\n"
            ]
          },
          "metadata": {
            "tags": []
          }
        },
        {
          "output_type": "display_data",
          "data": {
            "image/png": "[encoded data removed]",
            "text/plain": [
              "plot without title"
            ]
          },
          "metadata": {
            "tags": [],
            "image/png": {
              "width": 420,
              "height": 420
            }
          }
        },
        {
          "output_type": "display_data",
          "data": {
            "text/plain": [
              "      Frequency Percent  \n",
              "0     1871       64.76289\n",
              "1     1018       35.23711\n",
              "Total 2889      100.00000"
            ],
            "text/latex": "A freqtable: 3 × 2 of type dbl\n\\begin{tabular}{r|ll}\n  & Frequency & Percent\\\\\n\\hline\n\t0 & 1871 &  64.76289\\\\\n\t1 & 1018 &  35.23711\\\\\n\tTotal & 2889 & 100.00000\\\\\n\\end{tabular}\n",
            "text/markdown": "\nA freqtable: 3 × 2 of type dbl\n\n| <!--/--> | Frequency | Percent |\n|---|---|---|\n| 0 | 1871 |  64.76289 |\n| 1 | 1018 |  35.23711 |\n| Total | 2889 | 100.00000 |\n\n",
            "text/html": [
              "<table class=\"dataframe\">\n",
              "<caption>A freqtable: 3 × 2 of type dbl</caption>\n",
              "<thead>\n",
              "\t<tr><th></th><th scope=col>Frequency</th><th scope=col>Percent</th></tr>\n",
              "</thead>\n",
              "<tbody>\n",
              "\t<tr><th scope=row>0</th><td>1871</td><td> 64.76289</td></tr>\n",
              "\t<tr><th scope=row>1</th><td>1018</td><td> 35.23711</td></tr>\n",
              "\t<tr><th scope=row>Total</th><td>2889</td><td>100.00000</td></tr>\n",
              "</tbody>\n",
              "</table>\n"
            ]
          },
          "metadata": {
            "tags": []
          }
        },
        {
          "output_type": "display_data",
          "data": {
            "image/png": "[encoded data removed]",
            "text/plain": [
              "plot without title"
            ]
          },
          "metadata": {
            "tags": [],
            "image/png": {
              "width": 420,
              "height": 420
            }
          }
        }
      ]
    },
    {
      "cell_type": "code",
      "metadata": {
        "colab": {
          "base_uri": "https://localhost:8080/",
          "height": 420
        },
        "id": "BYyexubXC5pL",
        "outputId": "ebfe534e-9df1-4b78-f425-45239bfe3662"
      },
      "source": [
        "# Regression logistique enfant et divorce\r\n",
        "\r\n",
        "reglog <- glm(divorce ~ childs, data = bd, family=\"binomial\")\r\n",
        "summary(rstandard(reglog))\r\n",
        "summary(reglog)"
      ],
      "execution_count": 5,
      "outputs": [
        {
          "output_type": "display_data",
          "data": {
            "text/plain": [
              "    Min.  1st Qu.   Median     Mean  3rd Qu.     Max. \n",
              "-1.03387 -0.89186 -0.89186 -0.09432  1.32956  1.49348 "
            ]
          },
          "metadata": {
            "tags": []
          }
        },
        {
          "output_type": "display_data",
          "data": {
            "text/plain": [
              "\n",
              "Call:\n",
              "glm(formula = divorce ~ childs, family = \"binomial\", data = bd)\n",
              "\n",
              "Deviance Residuals: \n",
              "    Min       1Q   Median       3Q      Max  \n",
              "-1.0332  -0.8916  -0.8916   1.3288   1.4931  \n",
              "\n",
              "Coefficients:\n",
              "            Estimate Std. Error z value Pr(>|z|)    \n",
              "(Intercept) -0.34900    0.07082  -4.928 8.32e-07 ***\n",
              "childs      -0.36819    0.08492  -4.336 1.45e-05 ***\n",
              "---\n",
              "Signif. codes:  0 ‘***’ 0.001 ‘**’ 0.01 ‘*’ 0.05 ‘.’ 0.1 ‘ ’ 1\n",
              "\n",
              "(Dispersion parameter for binomial family taken to be 1)\n",
              "\n",
              "    Null deviance: 3749.4  on 2888  degrees of freedom\n",
              "Residual deviance: 3730.7  on 2887  degrees of freedom\n",
              "AIC: 3734.7\n",
              "\n",
              "Number of Fisher Scoring iterations: 4\n"
            ]
          },
          "metadata": {
            "tags": []
          }
        }
      ]
    },
    {
      "cell_type": "code",
      "metadata": {
        "colab": {
          "base_uri": "https://localhost:8080/",
          "height": 50
        },
        "id": "H9Pez_s5FuIY",
        "outputId": "c6c873f9-fd66-4b3d-f465-03a6bbfbcea4"
      },
      "source": [
        "# Calcule de la probabilité prédite\r\n",
        "\r\n",
        "bd$pred <- predict(reglog, type = \"response\")\r\n",
        "summary(bd$pred)"
      ],
      "execution_count": 6,
      "outputs": [
        {
          "output_type": "display_data",
          "data": {
            "text/plain": [
              "   Min. 1st Qu.  Median    Mean 3rd Qu.    Max. \n",
              " 0.3280  0.3280  0.3280  0.3524  0.4136  0.4136 "
            ]
          },
          "metadata": {
            "tags": []
          }
        }
      ]
    },
    {
      "cell_type": "code",
      "metadata": {
        "colab": {
          "base_uri": "https://localhost:8080/",
          "height": 437
        },
        "id": "0HgWbh8vHxbv",
        "outputId": "726de009-06f5-4d97-cd4e-7243284c74a8"
      },
      "source": [
        "# Nuage de points (pas forcément pertinent sur du binaire pur)\r\n",
        "\r\n",
        "ggplot(bd, aes(x = childs, y = pred)) +\r\n",
        "  geom_point()"
      ],
      "execution_count": 7,
      "outputs": [
        {
          "output_type": "display_data",
          "data": {
            "image/png": "[encoded data removed]",
            "text/plain": [
              "plot without title"
            ]
          },
          "metadata": {
            "tags": [],
            "image/png": {
              "width": 420,
              "height": 420
            }
          }
        }
      ]
    },
    {
      "cell_type": "markdown",
      "metadata": {
        "id": "H1Gw0IzXDI1D"
      },
      "source": [
        "Seconde partie de l'exercice"
      ]
    },
    {
      "cell_type": "code",
      "metadata": {
        "colab": {
          "base_uri": "https://localhost:8080/",
          "height": 302
        },
        "id": "PEg-JKTbq1jj",
        "outputId": "23983127-3bc3-490e-a2de-150f101cc6f0"
      },
      "source": [
        "# Identifier les données manquantes sur variable educ\r\n",
        " \r\n",
        " is.na(bd$educ)\r\n",
        "missing <- which(is.na(bd$educ))"
      ],
      "execution_count": 24,
      "outputs": [
        {
          "output_type": "display_data",
          "data": {
            "text/plain": [
              "   [1] FALSE FALSE FALSE FALSE FALSE FALSE FALSE FALSE FALSE FALSE FALSE FALSE\n",
              "  [13] FALSE FALSE FALSE FALSE FALSE FALSE FALSE FALSE FALSE FALSE FALSE FALSE\n",
              "  [25] FALSE FALSE FALSE FALSE FALSE FALSE FALSE FALSE FALSE FALSE FALSE FALSE\n",
              "  [37] FALSE FALSE FALSE FALSE FALSE FALSE FALSE FALSE FALSE FALSE FALSE FALSE\n",
              "  [49] FALSE FALSE FALSE FALSE FALSE FALSE FALSE FALSE FALSE FALSE FALSE FALSE\n",
              "  [61] FALSE FALSE FALSE FALSE FALSE FALSE FALSE FALSE FALSE FALSE FALSE FALSE\n",
              "  [73] FALSE FALSE FALSE FALSE FALSE FALSE FALSE FALSE FALSE FALSE FALSE FALSE\n",
              "  [85] FALSE FALSE FALSE FALSE FALSE FALSE FALSE FALSE FALSE FALSE FALSE FALSE\n",
              "  [97] FALSE FALSE FALSE FALSE FALSE FALSE FALSE FALSE  TRUE FALSE FALSE FALSE\n",
              " [109] FALSE FALSE FALSE FALSE FALSE FALSE FALSE FALSE FALSE FALSE FALSE FALSE\n",
              " [121] FALSE FALSE FALSE FALSE FALSE FALSE FALSE FALSE FALSE FALSE FALSE FALSE\n",
              " [133] FALSE FALSE FALSE FALSE FALSE FALSE FALSE FALSE FALSE FALSE FALSE FALSE\n",
              " [145] FALSE FALSE FALSE FALSE FALSE FALSE FALSE FALSE FALSE FALSE FALSE FALSE\n",
              " [157] FALSE FALSE FALSE FALSE FALSE FALSE FALSE FALSE FALSE FALSE FALSE FALSE\n",
              " [169] FALSE FALSE FALSE FALSE FALSE FALSE FALSE FALSE FALSE FALSE FALSE FALSE\n",
              " [181] FALSE FALSE FALSE FALSE FALSE FALSE FALSE FALSE FALSE FALSE FALSE FALSE\n",
              " [193] FALSE FALSE FALSE FALSE FALSE FALSE FALSE FALSE FALSE FALSE FALSE FALSE\n",
              " [205] FALSE FALSE FALSE FALSE FALSE FALSE FALSE FALSE FALSE FALSE FALSE FALSE\n",
              " [217] FALSE FALSE FALSE FALSE FALSE FALSE FALSE FALSE FALSE FALSE FALSE FALSE\n",
              " [229] FALSE FALSE FALSE FALSE FALSE FALSE FALSE FALSE FALSE FALSE FALSE FALSE\n",
              " [241] FALSE FALSE FALSE FALSE FALSE FALSE FALSE FALSE FALSE FALSE FALSE FALSE\n",
              " [253]  TRUE FALSE FALSE FALSE FALSE FALSE FALSE FALSE FALSE FALSE FALSE FALSE\n",
              " [265] FALSE FALSE FALSE FALSE FALSE FALSE FALSE FALSE FALSE FALSE FALSE FALSE\n",
              " [277] FALSE FALSE FALSE FALSE FALSE FALSE FALSE FALSE FALSE FALSE FALSE FALSE\n",
              " [289] FALSE FALSE FALSE FALSE FALSE FALSE FALSE FALSE FALSE FALSE FALSE FALSE\n",
              " [301] FALSE FALSE FALSE FALSE FALSE FALSE FALSE FALSE FALSE FALSE FALSE FALSE\n",
              " [313] FALSE FALSE FALSE FALSE FALSE FALSE FALSE FALSE FALSE FALSE FALSE FALSE\n",
              " [325] FALSE FALSE FALSE FALSE FALSE FALSE FALSE FALSE FALSE FALSE FALSE FALSE\n",
              " [337] FALSE FALSE FALSE FALSE FALSE FALSE FALSE FALSE FALSE FALSE FALSE FALSE\n",
              " [349] FALSE FALSE FALSE FALSE FALSE FALSE FALSE FALSE FALSE FALSE FALSE FALSE\n",
              " [361] FALSE FALSE FALSE FALSE FALSE FALSE FALSE FALSE FALSE FALSE FALSE FALSE\n",
              " [373] FALSE FALSE FALSE FALSE FALSE FALSE FALSE FALSE FALSE FALSE FALSE FALSE\n",
              " [385] FALSE FALSE FALSE FALSE FALSE FALSE FALSE FALSE FALSE FALSE FALSE FALSE\n",
              " [397] FALSE FALSE FALSE FALSE FALSE FALSE FALSE FALSE FALSE FALSE FALSE FALSE\n",
              " [409] FALSE FALSE FALSE FALSE FALSE FALSE FALSE FALSE FALSE FALSE FALSE FALSE\n",
              " [421] FALSE FALSE FALSE FALSE FALSE FALSE FALSE FALSE FALSE FALSE FALSE FALSE\n",
              " [433] FALSE FALSE FALSE FALSE FALSE FALSE FALSE FALSE FALSE FALSE FALSE FALSE\n",
              " [445] FALSE FALSE FALSE FALSE FALSE FALSE FALSE FALSE  TRUE FALSE FALSE FALSE\n",
              " [457] FALSE FALSE FALSE FALSE FALSE FALSE FALSE FALSE FALSE FALSE FALSE FALSE\n",
              " [469] FALSE FALSE FALSE FALSE FALSE FALSE FALSE FALSE FALSE FALSE FALSE FALSE\n",
              " [481] FALSE FALSE FALSE FALSE FALSE FALSE FALSE FALSE FALSE FALSE FALSE FALSE\n",
              " [493] FALSE FALSE FALSE FALSE FALSE FALSE FALSE FALSE FALSE FALSE FALSE FALSE\n",
              " [505] FALSE FALSE FALSE FALSE FALSE FALSE FALSE FALSE FALSE FALSE FALSE FALSE\n",
              " [517] FALSE FALSE FALSE FALSE FALSE FALSE FALSE FALSE FALSE FALSE FALSE FALSE\n",
              " [529] FALSE FALSE FALSE FALSE FALSE FALSE FALSE FALSE FALSE FALSE FALSE FALSE\n",
              " [541] FALSE FALSE FALSE FALSE FALSE FALSE FALSE FALSE FALSE FALSE FALSE FALSE\n",
              " [553] FALSE FALSE FALSE FALSE FALSE FALSE FALSE FALSE FALSE FALSE FALSE FALSE\n",
              " [565] FALSE FALSE FALSE FALSE FALSE FALSE FALSE FALSE FALSE FALSE FALSE FALSE\n",
              " [577] FALSE FALSE FALSE FALSE FALSE FALSE FALSE FALSE FALSE FALSE FALSE FALSE\n",
              " [589] FALSE FALSE FALSE FALSE FALSE FALSE FALSE FALSE FALSE FALSE FALSE FALSE\n",
              " [601] FALSE FALSE FALSE FALSE FALSE FALSE FALSE FALSE FALSE FALSE FALSE FALSE\n",
              " [613] FALSE FALSE FALSE FALSE FALSE FALSE FALSE FALSE FALSE FALSE FALSE FALSE\n",
              " [625] FALSE FALSE FALSE FALSE FALSE FALSE FALSE FALSE FALSE FALSE FALSE FALSE\n",
              " [637] FALSE FALSE FALSE FALSE FALSE FALSE FALSE FALSE FALSE FALSE FALSE FALSE\n",
              " [649] FALSE FALSE FALSE FALSE FALSE FALSE FALSE FALSE FALSE FALSE FALSE FALSE\n",
              " [661] FALSE FALSE FALSE FALSE FALSE FALSE FALSE FALSE FALSE FALSE FALSE FALSE\n",
              " [673] FALSE FALSE FALSE FALSE FALSE FALSE FALSE FALSE FALSE FALSE FALSE FALSE\n",
              " [685] FALSE FALSE FALSE FALSE FALSE FALSE FALSE FALSE FALSE FALSE FALSE FALSE\n",
              " [697] FALSE FALSE FALSE FALSE FALSE FALSE FALSE FALSE FALSE FALSE FALSE FALSE\n",
              " [709] FALSE FALSE FALSE FALSE FALSE FALSE FALSE FALSE FALSE FALSE FALSE FALSE\n",
              " [721] FALSE FALSE FALSE FALSE FALSE FALSE FALSE FALSE FALSE FALSE FALSE FALSE\n",
              " [733] FALSE FALSE FALSE FALSE FALSE FALSE FALSE FALSE FALSE FALSE FALSE FALSE\n",
              " [745] FALSE FALSE FALSE FALSE FALSE FALSE FALSE FALSE FALSE FALSE FALSE FALSE\n",
              " [757] FALSE FALSE FALSE FALSE FALSE FALSE FALSE FALSE FALSE FALSE FALSE FALSE\n",
              " [769] FALSE FALSE FALSE FALSE FALSE FALSE FALSE FALSE FALSE FALSE FALSE FALSE\n",
              " [781] FALSE FALSE FALSE FALSE FALSE FALSE FALSE FALSE FALSE FALSE FALSE FALSE\n",
              " [793] FALSE FALSE FALSE FALSE FALSE FALSE FALSE FALSE FALSE FALSE FALSE FALSE\n",
              " [805] FALSE FALSE  TRUE FALSE FALSE FALSE FALSE FALSE FALSE FALSE FALSE FALSE\n",
              " [817] FALSE FALSE FALSE FALSE FALSE FALSE FALSE FALSE FALSE FALSE FALSE FALSE\n",
              " [829] FALSE FALSE FALSE FALSE FALSE FALSE FALSE FALSE FALSE FALSE FALSE FALSE\n",
              " [841] FALSE FALSE FALSE FALSE FALSE FALSE FALSE FALSE FALSE FALSE FALSE FALSE\n",
              " [853] FALSE FALSE FALSE FALSE FALSE FALSE FALSE FALSE FALSE FALSE FALSE FALSE\n",
              " [865] FALSE FALSE FALSE FALSE FALSE FALSE FALSE FALSE FALSE FALSE FALSE FALSE\n",
              " [877] FALSE FALSE FALSE FALSE FALSE FALSE FALSE FALSE FALSE FALSE FALSE FALSE\n",
              " [889] FALSE FALSE FALSE FALSE FALSE FALSE FALSE FALSE FALSE FALSE FALSE FALSE\n",
              " [901] FALSE FALSE FALSE FALSE FALSE FALSE FALSE FALSE FALSE FALSE FALSE FALSE\n",
              " [913] FALSE FALSE FALSE FALSE FALSE FALSE FALSE FALSE FALSE FALSE FALSE FALSE\n",
              " [925] FALSE FALSE FALSE FALSE FALSE FALSE FALSE FALSE FALSE FALSE FALSE FALSE\n",
              " [937] FALSE FALSE FALSE FALSE FALSE FALSE FALSE FALSE FALSE FALSE FALSE FALSE\n",
              " [949] FALSE FALSE FALSE FALSE FALSE FALSE FALSE FALSE FALSE FALSE FALSE FALSE\n",
              " [961] FALSE FALSE FALSE FALSE FALSE FALSE FALSE FALSE FALSE FALSE FALSE FALSE\n",
              " [973] FALSE FALSE FALSE FALSE FALSE FALSE FALSE FALSE FALSE FALSE FALSE FALSE\n",
              " [985] FALSE FALSE FALSE FALSE FALSE FALSE FALSE FALSE FALSE FALSE FALSE FALSE\n",
              " [997] FALSE FALSE FALSE FALSE FALSE FALSE FALSE FALSE FALSE FALSE FALSE FALSE\n",
              "[1009] FALSE FALSE FALSE FALSE FALSE FALSE FALSE FALSE FALSE FALSE FALSE FALSE\n",
              "[1021] FALSE FALSE FALSE FALSE FALSE FALSE FALSE FALSE FALSE FALSE FALSE FALSE\n",
              "[1033] FALSE FALSE FALSE FALSE FALSE FALSE FALSE FALSE FALSE FALSE FALSE FALSE\n",
              "[1045] FALSE FALSE FALSE FALSE FALSE FALSE FALSE FALSE FALSE FALSE FALSE FALSE\n",
              "[1057] FALSE FALSE FALSE FALSE FALSE FALSE FALSE FALSE FALSE FALSE FALSE FALSE\n",
              "[1069] FALSE FALSE FALSE FALSE FALSE FALSE FALSE FALSE FALSE FALSE FALSE FALSE\n",
              "[1081] FALSE FALSE FALSE FALSE FALSE FALSE FALSE FALSE FALSE FALSE FALSE FALSE\n",
              "[1093] FALSE FALSE FALSE FALSE FALSE FALSE FALSE FALSE FALSE FALSE FALSE FALSE\n",
              "[1105] FALSE FALSE FALSE FALSE FALSE FALSE FALSE FALSE FALSE FALSE FALSE FALSE\n",
              "[1117] FALSE FALSE FALSE FALSE FALSE FALSE FALSE FALSE FALSE FALSE FALSE FALSE\n",
              "[1129] FALSE FALSE FALSE FALSE FALSE FALSE FALSE FALSE FALSE FALSE FALSE FALSE\n",
              "[1141] FALSE FALSE FALSE FALSE FALSE FALSE FALSE FALSE FALSE FALSE FALSE FALSE\n",
              "[1153] FALSE FALSE FALSE FALSE FALSE FALSE FALSE FALSE FALSE FALSE FALSE FALSE\n",
              "[1165] FALSE FALSE FALSE FALSE FALSE FALSE FALSE FALSE FALSE FALSE FALSE FALSE\n",
              "[1177] FALSE FALSE FALSE FALSE FALSE FALSE FALSE FALSE FALSE FALSE FALSE FALSE\n",
              "[1189] FALSE FALSE FALSE FALSE FALSE FALSE FALSE FALSE FALSE FALSE FALSE FALSE\n",
              "[1201] FALSE FALSE FALSE FALSE FALSE FALSE FALSE FALSE FALSE FALSE FALSE FALSE\n",
              "[1213] FALSE FALSE FALSE FALSE FALSE FALSE FALSE FALSE FALSE FALSE FALSE FALSE\n",
              "[1225] FALSE FALSE FALSE FALSE FALSE FALSE FALSE FALSE FALSE FALSE FALSE FALSE\n",
              "[1237] FALSE FALSE FALSE FALSE FALSE FALSE FALSE FALSE FALSE FALSE FALSE FALSE\n",
              "[1249] FALSE FALSE FALSE FALSE FALSE FALSE FALSE FALSE FALSE FALSE FALSE FALSE\n",
              "[1261] FALSE FALSE FALSE FALSE FALSE FALSE FALSE FALSE FALSE FALSE FALSE FALSE\n",
              "[1273] FALSE FALSE FALSE FALSE FALSE FALSE FALSE FALSE FALSE FALSE FALSE FALSE\n",
              "[1285] FALSE FALSE FALSE FALSE FALSE FALSE FALSE FALSE FALSE FALSE FALSE FALSE\n",
              "[1297] FALSE FALSE FALSE FALSE FALSE FALSE FALSE FALSE FALSE FALSE FALSE FALSE\n",
              "[1309] FALSE FALSE FALSE FALSE FALSE FALSE FALSE FALSE FALSE FALSE FALSE FALSE\n",
              "[1321] FALSE FALSE FALSE FALSE FALSE FALSE FALSE FALSE FALSE FALSE FALSE FALSE\n",
              "[1333] FALSE FALSE FALSE FALSE FALSE FALSE FALSE FALSE FALSE FALSE FALSE FALSE\n",
              "[1345] FALSE FALSE FALSE FALSE FALSE FALSE FALSE FALSE FALSE FALSE FALSE FALSE\n",
              "[1357] FALSE FALSE FALSE FALSE FALSE FALSE FALSE FALSE FALSE FALSE FALSE FALSE\n",
              "[1369] FALSE FALSE FALSE FALSE FALSE FALSE FALSE FALSE FALSE FALSE FALSE FALSE\n",
              "[1381] FALSE FALSE FALSE FALSE FALSE FALSE FALSE FALSE FALSE FALSE FALSE FALSE\n",
              "[1393] FALSE FALSE FALSE FALSE FALSE FALSE FALSE FALSE FALSE FALSE FALSE FALSE\n",
              "[1405] FALSE FALSE FALSE FALSE FALSE FALSE FALSE FALSE FALSE FALSE FALSE FALSE\n",
              "[1417] FALSE FALSE FALSE FALSE FALSE FALSE FALSE FALSE FALSE FALSE FALSE FALSE\n",
              "[1429] FALSE FALSE FALSE FALSE FALSE FALSE FALSE FALSE FALSE FALSE FALSE FALSE\n",
              "[1441] FALSE FALSE FALSE FALSE FALSE FALSE FALSE FALSE FALSE FALSE FALSE FALSE\n",
              "[1453] FALSE FALSE FALSE FALSE FALSE FALSE FALSE FALSE FALSE FALSE FALSE FALSE\n",
              "[1465] FALSE FALSE FALSE FALSE  TRUE FALSE FALSE FALSE FALSE FALSE FALSE FALSE\n",
              "[1477] FALSE FALSE FALSE FALSE FALSE FALSE FALSE FALSE FALSE FALSE FALSE FALSE\n",
              "[1489] FALSE FALSE FALSE FALSE  TRUE FALSE FALSE FALSE FALSE FALSE FALSE FALSE\n",
              "[1501] FALSE FALSE FALSE FALSE FALSE FALSE FALSE FALSE FALSE FALSE FALSE FALSE\n",
              "[1513] FALSE FALSE FALSE FALSE FALSE FALSE FALSE FALSE FALSE FALSE FALSE FALSE\n",
              "[1525] FALSE FALSE FALSE FALSE FALSE  TRUE FALSE FALSE FALSE FALSE FALSE FALSE\n",
              "[1537] FALSE FALSE FALSE FALSE FALSE FALSE FALSE FALSE FALSE FALSE FALSE FALSE\n",
              "[1549] FALSE FALSE FALSE FALSE FALSE FALSE FALSE FALSE FALSE FALSE FALSE FALSE\n",
              "[1561] FALSE FALSE FALSE FALSE FALSE FALSE FALSE FALSE FALSE FALSE FALSE FALSE\n",
              "[1573] FALSE FALSE FALSE FALSE FALSE FALSE FALSE FALSE FALSE FALSE FALSE FALSE\n",
              "[1585] FALSE FALSE FALSE FALSE FALSE FALSE FALSE FALSE FALSE FALSE FALSE FALSE\n",
              "[1597] FALSE FALSE FALSE FALSE FALSE FALSE FALSE FALSE FALSE FALSE FALSE FALSE\n",
              "[1609] FALSE FALSE FALSE FALSE FALSE FALSE FALSE FALSE FALSE FALSE FALSE FALSE\n",
              "[1621] FALSE FALSE FALSE FALSE FALSE FALSE FALSE FALSE FALSE FALSE FALSE FALSE\n",
              "[1633] FALSE FALSE FALSE FALSE FALSE FALSE FALSE FALSE FALSE FALSE FALSE FALSE\n",
              "[1645] FALSE FALSE FALSE FALSE FALSE FALSE FALSE FALSE FALSE FALSE FALSE FALSE\n",
              "[1657] FALSE FALSE FALSE FALSE FALSE FALSE FALSE FALSE FALSE FALSE FALSE FALSE\n",
              "[1669] FALSE FALSE FALSE FALSE FALSE FALSE FALSE FALSE FALSE FALSE FALSE FALSE\n",
              "[1681] FALSE FALSE FALSE FALSE FALSE FALSE FALSE FALSE FALSE FALSE FALSE FALSE\n",
              "[1693] FALSE FALSE FALSE FALSE FALSE FALSE FALSE FALSE FALSE FALSE FALSE FALSE\n",
              "[1705] FALSE FALSE FALSE FALSE FALSE FALSE FALSE FALSE FALSE FALSE FALSE FALSE\n",
              "[1717] FALSE FALSE FALSE FALSE FALSE FALSE FALSE FALSE FALSE FALSE FALSE FALSE\n",
              "[1729] FALSE FALSE FALSE FALSE FALSE FALSE FALSE FALSE FALSE FALSE FALSE FALSE\n",
              "[1741] FALSE FALSE FALSE FALSE FALSE FALSE FALSE FALSE FALSE FALSE  TRUE FALSE\n",
              "[1753] FALSE FALSE FALSE FALSE FALSE FALSE FALSE FALSE FALSE FALSE FALSE FALSE\n",
              "[1765] FALSE FALSE FALSE FALSE FALSE FALSE FALSE FALSE FALSE FALSE FALSE FALSE\n",
              "[1777] FALSE FALSE FALSE FALSE FALSE FALSE FALSE FALSE FALSE FALSE FALSE FALSE\n",
              "[1789] FALSE FALSE FALSE FALSE FALSE FALSE FALSE FALSE FALSE FALSE FALSE FALSE\n",
              "[1801] FALSE FALSE FALSE FALSE FALSE FALSE FALSE FALSE FALSE FALSE FALSE FALSE\n",
              "[1813] FALSE FALSE FALSE FALSE FALSE FALSE FALSE FALSE FALSE FALSE FALSE FALSE\n",
              "[1825] FALSE FALSE FALSE FALSE FALSE FALSE FALSE FALSE FALSE FALSE FALSE FALSE\n",
              "[1837] FALSE FALSE FALSE FALSE FALSE FALSE FALSE FALSE FALSE FALSE FALSE FALSE\n",
              "[1849] FALSE FALSE FALSE FALSE FALSE FALSE FALSE FALSE FALSE FALSE FALSE FALSE\n",
              "[1861] FALSE FALSE FALSE FALSE FALSE FALSE FALSE FALSE FALSE FALSE FALSE FALSE\n",
              "[1873] FALSE FALSE FALSE FALSE FALSE FALSE FALSE FALSE FALSE FALSE FALSE FALSE\n",
              "[1885] FALSE FALSE FALSE FALSE FALSE FALSE FALSE FALSE FALSE FALSE FALSE FALSE\n",
              "[1897] FALSE FALSE FALSE FALSE FALSE FALSE FALSE FALSE FALSE FALSE FALSE FALSE\n",
              "[1909] FALSE FALSE FALSE FALSE FALSE FALSE FALSE FALSE FALSE FALSE FALSE FALSE\n",
              "[1921] FALSE FALSE FALSE FALSE FALSE FALSE FALSE FALSE FALSE FALSE FALSE FALSE\n",
              "[1933] FALSE FALSE FALSE FALSE FALSE FALSE FALSE FALSE FALSE FALSE FALSE FALSE\n",
              "[1945] FALSE FALSE FALSE FALSE FALSE FALSE FALSE FALSE FALSE FALSE FALSE FALSE\n",
              "[1957] FALSE FALSE FALSE FALSE FALSE FALSE FALSE FALSE FALSE FALSE FALSE FALSE\n",
              "[1969] FALSE FALSE FALSE FALSE FALSE FALSE FALSE FALSE FALSE FALSE FALSE FALSE\n",
              "[1981] FALSE FALSE FALSE FALSE FALSE FALSE FALSE FALSE FALSE FALSE FALSE FALSE\n",
              "[1993] FALSE FALSE FALSE FALSE FALSE FALSE FALSE FALSE FALSE FALSE FALSE FALSE\n",
              "[2005] FALSE FALSE FALSE FALSE FALSE FALSE FALSE FALSE FALSE FALSE FALSE FALSE\n",
              "[2017] FALSE FALSE FALSE FALSE FALSE FALSE FALSE FALSE FALSE FALSE FALSE FALSE\n",
              "[2029] FALSE FALSE FALSE FALSE FALSE FALSE FALSE FALSE FALSE FALSE FALSE FALSE\n",
              "[2041] FALSE FALSE FALSE FALSE FALSE FALSE FALSE FALSE FALSE FALSE FALSE FALSE\n",
              "[2053] FALSE FALSE FALSE FALSE FALSE FALSE FALSE FALSE FALSE FALSE FALSE FALSE\n",
              "[2065] FALSE FALSE FALSE FALSE FALSE FALSE FALSE FALSE FALSE FALSE FALSE FALSE\n",
              "[2077] FALSE FALSE FALSE FALSE FALSE FALSE FALSE FALSE FALSE FALSE FALSE FALSE\n",
              "[2089] FALSE FALSE FALSE FALSE FALSE FALSE FALSE FALSE FALSE FALSE FALSE FALSE\n",
              "[2101] FALSE FALSE FALSE FALSE FALSE FALSE FALSE FALSE FALSE FALSE FALSE FALSE\n",
              "[2113] FALSE FALSE FALSE FALSE FALSE FALSE FALSE FALSE FALSE FALSE FALSE FALSE\n",
              "[2125] FALSE FALSE FALSE FALSE FALSE FALSE FALSE FALSE FALSE FALSE FALSE FALSE\n",
              "[2137] FALSE FALSE FALSE FALSE FALSE FALSE FALSE FALSE FALSE FALSE FALSE FALSE\n",
              "[2149] FALSE FALSE FALSE FALSE FALSE FALSE FALSE FALSE FALSE FALSE FALSE FALSE\n",
              "[2161] FALSE FALSE FALSE FALSE FALSE FALSE FALSE FALSE FALSE FALSE FALSE FALSE\n",
              "[2173] FALSE FALSE FALSE FALSE FALSE FALSE FALSE FALSE FALSE FALSE FALSE FALSE\n",
              "[2185] FALSE FALSE FALSE FALSE FALSE FALSE FALSE FALSE FALSE FALSE FALSE FALSE\n",
              "[2197] FALSE FALSE FALSE FALSE FALSE FALSE FALSE FALSE FALSE FALSE FALSE FALSE\n",
              "[2209] FALSE FALSE FALSE FALSE FALSE FALSE FALSE FALSE FALSE FALSE FALSE FALSE\n",
              "[2221] FALSE FALSE FALSE FALSE FALSE FALSE FALSE FALSE FALSE FALSE FALSE FALSE\n",
              "[2233] FALSE FALSE FALSE FALSE FALSE FALSE FALSE FALSE FALSE FALSE FALSE FALSE\n",
              "[2245] FALSE FALSE FALSE FALSE FALSE FALSE FALSE FALSE FALSE FALSE FALSE FALSE\n",
              "[2257] FALSE FALSE FALSE FALSE FALSE FALSE FALSE FALSE FALSE FALSE FALSE FALSE\n",
              "[2269] FALSE FALSE FALSE FALSE FALSE FALSE FALSE FALSE FALSE FALSE FALSE FALSE\n",
              "[2281] FALSE FALSE FALSE FALSE FALSE FALSE FALSE FALSE FALSE FALSE FALSE FALSE\n",
              "[2293] FALSE FALSE FALSE FALSE FALSE FALSE FALSE FALSE FALSE FALSE FALSE FALSE\n",
              "[2305] FALSE FALSE FALSE FALSE FALSE FALSE FALSE FALSE FALSE FALSE FALSE FALSE\n",
              "[2317] FALSE FALSE FALSE FALSE FALSE FALSE FALSE FALSE FALSE FALSE FALSE FALSE\n",
              "[2329] FALSE FALSE FALSE FALSE FALSE FALSE FALSE FALSE FALSE FALSE FALSE FALSE\n",
              "[2341] FALSE FALSE FALSE FALSE FALSE FALSE FALSE FALSE FALSE FALSE FALSE FALSE\n",
              "[2353] FALSE FALSE FALSE FALSE FALSE FALSE FALSE FALSE FALSE FALSE FALSE FALSE\n",
              "[2365] FALSE FALSE FALSE FALSE FALSE FALSE FALSE FALSE FALSE FALSE FALSE FALSE\n",
              "[2377] FALSE FALSE FALSE FALSE FALSE FALSE FALSE FALSE FALSE FALSE FALSE FALSE\n",
              "[2389] FALSE FALSE FALSE FALSE FALSE FALSE FALSE FALSE FALSE FALSE FALSE FALSE\n",
              "[2401] FALSE FALSE FALSE FALSE FALSE FALSE FALSE FALSE FALSE FALSE FALSE FALSE\n",
              "[2413] FALSE FALSE FALSE FALSE FALSE FALSE FALSE FALSE FALSE FALSE FALSE FALSE\n",
              "[2425] FALSE FALSE FALSE FALSE FALSE FALSE FALSE FALSE FALSE FALSE FALSE FALSE\n",
              "[2437] FALSE FALSE FALSE FALSE FALSE FALSE FALSE FALSE FALSE FALSE FALSE FALSE\n",
              "[2449] FALSE FALSE FALSE FALSE FALSE FALSE FALSE FALSE FALSE FALSE FALSE FALSE\n",
              "[2461] FALSE FALSE FALSE FALSE FALSE FALSE FALSE FALSE FALSE FALSE FALSE FALSE\n",
              "[2473] FALSE FALSE FALSE FALSE FALSE FALSE FALSE FALSE FALSE FALSE FALSE FALSE\n",
              "[2485] FALSE FALSE FALSE FALSE FALSE FALSE FALSE FALSE FALSE FALSE FALSE FALSE\n",
              "[2497] FALSE FALSE FALSE FALSE FALSE FALSE FALSE FALSE FALSE FALSE FALSE FALSE\n",
              "[2509] FALSE FALSE FALSE FALSE FALSE FALSE FALSE FALSE FALSE FALSE FALSE FALSE\n",
              "[2521] FALSE FALSE FALSE FALSE FALSE FALSE FALSE FALSE FALSE FALSE FALSE FALSE\n",
              "[2533] FALSE FALSE FALSE FALSE FALSE FALSE FALSE FALSE FALSE FALSE FALSE FALSE\n",
              "[2545] FALSE FALSE FALSE FALSE FALSE FALSE FALSE FALSE FALSE FALSE FALSE FALSE\n",
              "[2557] FALSE FALSE FALSE FALSE FALSE FALSE  TRUE FALSE FALSE FALSE FALSE FALSE\n",
              "[2569] FALSE FALSE FALSE FALSE FALSE FALSE FALSE FALSE FALSE FALSE FALSE FALSE\n",
              "[2581] FALSE FALSE FALSE FALSE FALSE FALSE FALSE FALSE FALSE FALSE FALSE FALSE\n",
              "[2593] FALSE FALSE FALSE FALSE FALSE FALSE FALSE FALSE FALSE FALSE FALSE FALSE\n",
              "[2605] FALSE FALSE FALSE FALSE FALSE FALSE FALSE FALSE FALSE FALSE FALSE FALSE\n",
              "[2617] FALSE FALSE FALSE FALSE FALSE FALSE FALSE FALSE FALSE FALSE FALSE FALSE\n",
              "[2629] FALSE FALSE FALSE FALSE FALSE FALSE FALSE FALSE FALSE FALSE FALSE FALSE\n",
              "[2641] FALSE FALSE FALSE FALSE FALSE FALSE FALSE FALSE FALSE FALSE FALSE FALSE\n",
              "[2653] FALSE FALSE FALSE FALSE FALSE FALSE FALSE FALSE FALSE FALSE FALSE FALSE\n",
              "[2665] FALSE FALSE FALSE FALSE FALSE FALSE FALSE FALSE FALSE FALSE FALSE FALSE\n",
              "[2677] FALSE FALSE FALSE FALSE FALSE FALSE FALSE FALSE FALSE FALSE FALSE FALSE\n",
              "[2689] FALSE FALSE FALSE FALSE FALSE FALSE FALSE FALSE FALSE FALSE FALSE FALSE\n",
              "[2701] FALSE FALSE FALSE FALSE FALSE FALSE FALSE FALSE FALSE FALSE FALSE FALSE\n",
              "[2713] FALSE FALSE FALSE FALSE FALSE FALSE FALSE FALSE FALSE FALSE FALSE FALSE\n",
              "[2725] FALSE FALSE FALSE FALSE FALSE FALSE FALSE FALSE FALSE FALSE FALSE FALSE\n",
              "[2737] FALSE FALSE FALSE FALSE FALSE FALSE FALSE FALSE FALSE FALSE FALSE FALSE\n",
              "[2749] FALSE FALSE FALSE FALSE FALSE FALSE FALSE FALSE FALSE FALSE FALSE FALSE\n",
              "[2761] FALSE FALSE FALSE FALSE FALSE FALSE FALSE FALSE FALSE FALSE FALSE FALSE\n",
              "[2773] FALSE FALSE FALSE FALSE FALSE FALSE FALSE FALSE FALSE FALSE FALSE FALSE\n",
              "[2785] FALSE FALSE FALSE FALSE FALSE FALSE FALSE FALSE FALSE FALSE FALSE FALSE\n",
              "[2797] FALSE FALSE FALSE FALSE FALSE FALSE FALSE FALSE FALSE FALSE FALSE FALSE\n",
              "[2809] FALSE FALSE FALSE FALSE FALSE FALSE FALSE FALSE FALSE FALSE FALSE FALSE\n",
              "[2821] FALSE FALSE FALSE FALSE FALSE FALSE FALSE FALSE FALSE FALSE FALSE FALSE\n",
              "[2833] FALSE FALSE FALSE FALSE FALSE FALSE FALSE FALSE FALSE FALSE FALSE FALSE\n",
              "[2845] FALSE FALSE FALSE FALSE FALSE FALSE FALSE FALSE FALSE FALSE FALSE FALSE\n",
              "[2857] FALSE FALSE FALSE FALSE FALSE FALSE FALSE FALSE FALSE FALSE FALSE FALSE\n",
              "[2869] FALSE FALSE FALSE FALSE FALSE FALSE FALSE FALSE FALSE FALSE FALSE FALSE\n",
              "[2881] FALSE FALSE FALSE FALSE FALSE FALSE FALSE FALSE FALSE"
            ],
            "text/latex": "\\begin{enumerate*}\n\\item FALSE\n\\item FALSE\n\\item FALSE\n\\item FALSE\n\\item FALSE\n\\item FALSE\n\\item FALSE\n\\item FALSE\n\\item FALSE\n\\item FALSE\n\\item FALSE\n\\item FALSE\n\\item FALSE\n\\item FALSE\n\\item FALSE\n\\item FALSE\n\\item FALSE\n\\item FALSE\n\\item FALSE\n\\item FALSE\n\\item FALSE\n\\item FALSE\n\\item FALSE\n\\item FALSE\n\\item FALSE\n\\item FALSE\n\\item FALSE\n\\item FALSE\n\\item FALSE\n\\item FALSE\n\\item FALSE\n\\item FALSE\n\\item FALSE\n\\item FALSE\n\\item FALSE\n\\item FALSE\n\\item FALSE\n\\item FALSE\n\\item FALSE\n\\item FALSE\n\\item FALSE\n\\item FALSE\n\\item FALSE\n\\item FALSE\n\\item FALSE\n\\item FALSE\n\\item FALSE\n\\item FALSE\n\\item FALSE\n\\item FALSE\n\\item FALSE\n\\item FALSE\n\\item FALSE\n\\item FALSE\n\\item FALSE\n\\item FALSE\n\\item FALSE\n\\item FALSE\n\\item FALSE\n\\item FALSE\n\\item FALSE\n\\item FALSE\n\\item FALSE\n\\item FALSE\n\\item FALSE\n\\item FALSE\n\\item FALSE\n\\item FALSE\n\\item FALSE\n\\item FALSE\n\\item FALSE\n\\item FALSE\n\\item FALSE\n\\item FALSE\n\\item FALSE\n\\item FALSE\n\\item FALSE\n\\item FALSE\n\\item FALSE\n\\item FALSE\n\\item FALSE\n\\item FALSE\n\\item FALSE\n\\item FALSE\n\\item FALSE\n\\item FALSE\n\\item FALSE\n\\item FALSE\n\\item FALSE\n\\item FALSE\n\\item FALSE\n\\item FALSE\n\\item FALSE\n\\item FALSE\n\\item FALSE\n\\item FALSE\n\\item FALSE\n\\item FALSE\n\\item FALSE\n\\item FALSE\n\\item FALSE\n\\item FALSE\n\\item FALSE\n\\item FALSE\n\\item TRUE\n\\item FALSE\n\\item FALSE\n\\item FALSE\n\\item FALSE\n\\item FALSE\n\\item FALSE\n\\item FALSE\n\\item FALSE\n\\item FALSE\n\\item FALSE\n\\item FALSE\n\\item FALSE\n\\item FALSE\n\\item FALSE\n\\item FALSE\n\\item FALSE\n\\item FALSE\n\\item FALSE\n\\item FALSE\n\\item FALSE\n\\item FALSE\n\\item FALSE\n\\item FALSE\n\\item FALSE\n\\item FALSE\n\\item FALSE\n\\item FALSE\n\\item FALSE\n\\item FALSE\n\\item FALSE\n\\item FALSE\n\\item FALSE\n\\item FALSE\n\\item FALSE\n\\item FALSE\n\\item FALSE\n\\item FALSE\n\\item FALSE\n\\item FALSE\n\\item FALSE\n\\item FALSE\n\\item FALSE\n\\item FALSE\n\\item FALSE\n\\item FALSE\n\\item FALSE\n\\item FALSE\n\\item FALSE\n\\item FALSE\n\\item FALSE\n\\item FALSE\n\\item FALSE\n\\item FALSE\n\\item FALSE\n\\item FALSE\n\\item FALSE\n\\item FALSE\n\\item FALSE\n\\item FALSE\n\\item FALSE\n\\item FALSE\n\\item FALSE\n\\item FALSE\n\\item FALSE\n\\item FALSE\n\\item FALSE\n\\item FALSE\n\\item FALSE\n\\item FALSE\n\\item FALSE\n\\item FALSE\n\\item FALSE\n\\item FALSE\n\\item FALSE\n\\item FALSE\n\\item FALSE\n\\item FALSE\n\\item FALSE\n\\item FALSE\n\\item FALSE\n\\item FALSE\n\\item FALSE\n\\item FALSE\n\\item FALSE\n\\item FALSE\n\\item FALSE\n\\item FALSE\n\\item FALSE\n\\item FALSE\n\\item FALSE\n\\item FALSE\n\\item FALSE\n\\item FALSE\n\\item FALSE\n\\item FALSE\n\\item ⋯\n\\item FALSE\n\\item FALSE\n\\item FALSE\n\\item FALSE\n\\item FALSE\n\\item FALSE\n\\item FALSE\n\\item FALSE\n\\item FALSE\n\\item FALSE\n\\item FALSE\n\\item FALSE\n\\item FALSE\n\\item FALSE\n\\item FALSE\n\\item FALSE\n\\item FALSE\n\\item FALSE\n\\item FALSE\n\\item FALSE\n\\item FALSE\n\\item FALSE\n\\item FALSE\n\\item FALSE\n\\item FALSE\n\\item FALSE\n\\item FALSE\n\\item FALSE\n\\item FALSE\n\\item FALSE\n\\item FALSE\n\\item FALSE\n\\item FALSE\n\\item FALSE\n\\item FALSE\n\\item FALSE\n\\item FALSE\n\\item FALSE\n\\item FALSE\n\\item FALSE\n\\item FALSE\n\\item FALSE\n\\item FALSE\n\\item FALSE\n\\item FALSE\n\\item FALSE\n\\item FALSE\n\\item FALSE\n\\item FALSE\n\\item FALSE\n\\item FALSE\n\\item FALSE\n\\item FALSE\n\\item FALSE\n\\item FALSE\n\\item FALSE\n\\item FALSE\n\\item FALSE\n\\item FALSE\n\\item FALSE\n\\item FALSE\n\\item FALSE\n\\item FALSE\n\\item FALSE\n\\item FALSE\n\\item FALSE\n\\item FALSE\n\\item FALSE\n\\item FALSE\n\\item FALSE\n\\item FALSE\n\\item FALSE\n\\item FALSE\n\\item FALSE\n\\item FALSE\n\\item FALSE\n\\item FALSE\n\\item FALSE\n\\item FALSE\n\\item FALSE\n\\item FALSE\n\\item FALSE\n\\item FALSE\n\\item FALSE\n\\item FALSE\n\\item FALSE\n\\item FALSE\n\\item FALSE\n\\item FALSE\n\\item FALSE\n\\item FALSE\n\\item FALSE\n\\item FALSE\n\\item FALSE\n\\item FALSE\n\\item FALSE\n\\item FALSE\n\\item FALSE\n\\item FALSE\n\\item FALSE\n\\item FALSE\n\\item FALSE\n\\item FALSE\n\\item FALSE\n\\item FALSE\n\\item FALSE\n\\item FALSE\n\\item FALSE\n\\item FALSE\n\\item FALSE\n\\item FALSE\n\\item FALSE\n\\item FALSE\n\\item FALSE\n\\item FALSE\n\\item FALSE\n\\item FALSE\n\\item FALSE\n\\item FALSE\n\\item FALSE\n\\item FALSE\n\\item FALSE\n\\item FALSE\n\\item FALSE\n\\item FALSE\n\\item FALSE\n\\item FALSE\n\\item FALSE\n\\item FALSE\n\\item FALSE\n\\item FALSE\n\\item FALSE\n\\item FALSE\n\\item FALSE\n\\item FALSE\n\\item FALSE\n\\item FALSE\n\\item FALSE\n\\item FALSE\n\\item FALSE\n\\item FALSE\n\\item FALSE\n\\item FALSE\n\\item FALSE\n\\item FALSE\n\\item FALSE\n\\item FALSE\n\\item FALSE\n\\item FALSE\n\\item FALSE\n\\item FALSE\n\\item FALSE\n\\item FALSE\n\\item FALSE\n\\item FALSE\n\\item FALSE\n\\item FALSE\n\\item FALSE\n\\item FALSE\n\\item FALSE\n\\item FALSE\n\\item FALSE\n\\item FALSE\n\\item FALSE\n\\item FALSE\n\\item FALSE\n\\item FALSE\n\\item FALSE\n\\item FALSE\n\\item FALSE\n\\item FALSE\n\\item FALSE\n\\item FALSE\n\\item FALSE\n\\item FALSE\n\\item FALSE\n\\item FALSE\n\\item FALSE\n\\item FALSE\n\\item FALSE\n\\item FALSE\n\\item FALSE\n\\item FALSE\n\\item FALSE\n\\item FALSE\n\\item FALSE\n\\item FALSE\n\\item FALSE\n\\item FALSE\n\\item FALSE\n\\item FALSE\n\\item FALSE\n\\item FALSE\n\\item FALSE\n\\item FALSE\n\\item FALSE\n\\item FALSE\n\\item FALSE\n\\item FALSE\n\\item FALSE\n\\end{enumerate*}\n",
            "text/markdown": "1. FALSE\n2. FALSE\n3. FALSE\n4. FALSE\n5. FALSE\n6. FALSE\n7. FALSE\n8. FALSE\n9. FALSE\n10. FALSE\n11. FALSE\n12. FALSE\n13. FALSE\n14. FALSE\n15. FALSE\n16. FALSE\n17. FALSE\n18. FALSE\n19. FALSE\n20. FALSE\n21. FALSE\n22. FALSE\n23. FALSE\n24. FALSE\n25. FALSE\n26. FALSE\n27. FALSE\n28. FALSE\n29. FALSE\n30. FALSE\n31. FALSE\n32. FALSE\n33. FALSE\n34. FALSE\n35. FALSE\n36. FALSE\n37. FALSE\n38. FALSE\n39. FALSE\n40. FALSE\n41. FALSE\n42. FALSE\n43. FALSE\n44. FALSE\n45. FALSE\n46. FALSE\n47. FALSE\n48. FALSE\n49. FALSE\n50. FALSE\n51. FALSE\n52. FALSE\n53. FALSE\n54. FALSE\n55. FALSE\n56. FALSE\n57. FALSE\n58. FALSE\n59. FALSE\n60. FALSE\n61. FALSE\n62. FALSE\n63. FALSE\n64. FALSE\n65. FALSE\n66. FALSE\n67. FALSE\n68. FALSE\n69. FALSE\n70. FALSE\n71. FALSE\n72. FALSE\n73. FALSE\n74. FALSE\n75. FALSE\n76. FALSE\n77. FALSE\n78. FALSE\n79. FALSE\n80. FALSE\n81. FALSE\n82. FALSE\n83. FALSE\n84. FALSE\n85. FALSE\n86. FALSE\n87. FALSE\n88. FALSE\n89. FALSE\n90. FALSE\n91. FALSE\n92. FALSE\n93. FALSE\n94. FALSE\n95. FALSE\n96. FALSE\n97. FALSE\n98. FALSE\n99. FALSE\n100. FALSE\n101. FALSE\n102. FALSE\n103. FALSE\n104. FALSE\n105. TRUE\n106. FALSE\n107. FALSE\n108. FALSE\n109. FALSE\n110. FALSE\n111. FALSE\n112. FALSE\n113. FALSE\n114. FALSE\n115. FALSE\n116. FALSE\n117. FALSE\n118. FALSE\n119. FALSE\n120. FALSE\n121. FALSE\n122. FALSE\n123. FALSE\n124. FALSE\n125. FALSE\n126. FALSE\n127. FALSE\n128. FALSE\n129. FALSE\n130. FALSE\n131. FALSE\n132. FALSE\n133. FALSE\n134. FALSE\n135. FALSE\n136. FALSE\n137. FALSE\n138. FALSE\n139. FALSE\n140. FALSE\n141. FALSE\n142. FALSE\n143. FALSE\n144. FALSE\n145. FALSE\n146. FALSE\n147. FALSE\n148. FALSE\n149. FALSE\n150. FALSE\n151. FALSE\n152. FALSE\n153. FALSE\n154. FALSE\n155. FALSE\n156. FALSE\n157. FALSE\n158. FALSE\n159. FALSE\n160. FALSE\n161. FALSE\n162. FALSE\n163. FALSE\n164. FALSE\n165. FALSE\n166. FALSE\n167. FALSE\n168. FALSE\n169. FALSE\n170. FALSE\n171. FALSE\n172. FALSE\n173. FALSE\n174. FALSE\n175. FALSE\n176. FALSE\n177. FALSE\n178. FALSE\n179. FALSE\n180. FALSE\n181. FALSE\n182. FALSE\n183. FALSE\n184. FALSE\n185. FALSE\n186. FALSE\n187. FALSE\n188. FALSE\n189. FALSE\n190. FALSE\n191. FALSE\n192. FALSE\n193. FALSE\n194. FALSE\n195. FALSE\n196. FALSE\n197. FALSE\n198. FALSE\n199. FALSE\n200. FALSE\n201. ⋯\n202. FALSE\n203. FALSE\n204. FALSE\n205. FALSE\n206. FALSE\n207. FALSE\n208. FALSE\n209. FALSE\n210. FALSE\n211. FALSE\n212. FALSE\n213. FALSE\n214. FALSE\n215. FALSE\n216. FALSE\n217. FALSE\n218. FALSE\n219. FALSE\n220. FALSE\n221. FALSE\n222. FALSE\n223. FALSE\n224. FALSE\n225. FALSE\n226. FALSE\n227. FALSE\n228. FALSE\n229. FALSE\n230. FALSE\n231. FALSE\n232. FALSE\n233. FALSE\n234. FALSE\n235. FALSE\n236. FALSE\n237. FALSE\n238. FALSE\n239. FALSE\n240. FALSE\n241. FALSE\n242. FALSE\n243. FALSE\n244. FALSE\n245. FALSE\n246. FALSE\n247. FALSE\n248. FALSE\n249. FALSE\n250. FALSE\n251. FALSE\n252. FALSE\n253. FALSE\n254. FALSE\n255. FALSE\n256. FALSE\n257. FALSE\n258. FALSE\n259. FALSE\n260. FALSE\n261. FALSE\n262. FALSE\n263. FALSE\n264. FALSE\n265. FALSE\n266. FALSE\n267. FALSE\n268. FALSE\n269. FALSE\n270. FALSE\n271. FALSE\n272. FALSE\n273. FALSE\n274. FALSE\n275. FALSE\n276. FALSE\n277. FALSE\n278. FALSE\n279. FALSE\n280. FALSE\n281. FALSE\n282. FALSE\n283. FALSE\n284. FALSE\n285. FALSE\n286. FALSE\n287. FALSE\n288. FALSE\n289. FALSE\n290. FALSE\n291. FALSE\n292. FALSE\n293. FALSE\n294. FALSE\n295. FALSE\n296. FALSE\n297. FALSE\n298. FALSE\n299. FALSE\n300. FALSE\n301. FALSE\n302. FALSE\n303. FALSE\n304. FALSE\n305. FALSE\n306. FALSE\n307. FALSE\n308. FALSE\n309. FALSE\n310. FALSE\n311. FALSE\n312. FALSE\n313. FALSE\n314. FALSE\n315. FALSE\n316. FALSE\n317. FALSE\n318. FALSE\n319. FALSE\n320. FALSE\n321. FALSE\n322. FALSE\n323. FALSE\n324. FALSE\n325. FALSE\n326. FALSE\n327. FALSE\n328. FALSE\n329. FALSE\n330. FALSE\n331. FALSE\n332. FALSE\n333. FALSE\n334. FALSE\n335. FALSE\n336. FALSE\n337. FALSE\n338. FALSE\n339. FALSE\n340. FALSE\n341. FALSE\n342. FALSE\n343. FALSE\n344. FALSE\n345. FALSE\n346. FALSE\n347. FALSE\n348. FALSE\n349. FALSE\n350. FALSE\n351. FALSE\n352. FALSE\n353. FALSE\n354. FALSE\n355. FALSE\n356. FALSE\n357. FALSE\n358. FALSE\n359. FALSE\n360. FALSE\n361. FALSE\n362. FALSE\n363. FALSE\n364. FALSE\n365. FALSE\n366. FALSE\n367. FALSE\n368. FALSE\n369. FALSE\n370. FALSE\n371. FALSE\n372. FALSE\n373. FALSE\n374. FALSE\n375. FALSE\n376. FALSE\n377. FALSE\n378. FALSE\n379. FALSE\n380. FALSE\n381. FALSE\n382. FALSE\n383. FALSE\n384. FALSE\n385. FALSE\n386. FALSE\n387. FALSE\n388. FALSE\n389. FALSE\n390. FALSE\n391. FALSE\n392. FALSE\n393. FALSE\n394. FALSE\n395. FALSE\n396. FALSE\n397. FALSE\n398. FALSE\n399. FALSE\n400. FALSE\n401. FALSE\n\n\n",
            "text/html": [
              "<style>\n",
              ".list-inline {list-style: none; margin:0; padding: 0}\n",
              ".list-inline>li {display: inline-block}\n",
              ".list-inline>li:not(:last-child)::after {content: \"\\00b7\"; padding: 0 .5ex}\n",
              "</style>\n",
              "<ol class=list-inline><li>FALSE</li><li>FALSE</li><li>FALSE</li><li>FALSE</li><li>FALSE</li><li>FALSE</li><li>FALSE</li><li>FALSE</li><li>FALSE</li><li>FALSE</li><li>FALSE</li><li>FALSE</li><li>FALSE</li><li>FALSE</li><li>FALSE</li><li>FALSE</li><li>FALSE</li><li>FALSE</li><li>FALSE</li><li>FALSE</li><li>FALSE</li><li>FALSE</li><li>FALSE</li><li>FALSE</li><li>FALSE</li><li>FALSE</li><li>FALSE</li><li>FALSE</li><li>FALSE</li><li>FALSE</li><li>FALSE</li><li>FALSE</li><li>FALSE</li><li>FALSE</li><li>FALSE</li><li>FALSE</li><li>FALSE</li><li>FALSE</li><li>FALSE</li><li>FALSE</li><li>FALSE</li><li>FALSE</li><li>FALSE</li><li>FALSE</li><li>FALSE</li><li>FALSE</li><li>FALSE</li><li>FALSE</li><li>FALSE</li><li>FALSE</li><li>FALSE</li><li>FALSE</li><li>FALSE</li><li>FALSE</li><li>FALSE</li><li>FALSE</li><li>FALSE</li><li>FALSE</li><li>FALSE</li><li>FALSE</li><li>FALSE</li><li>FALSE</li><li>FALSE</li><li>FALSE</li><li>FALSE</li><li>FALSE</li><li>FALSE</li><li>FALSE</li><li>FALSE</li><li>FALSE</li><li>FALSE</li><li>FALSE</li><li>FALSE</li><li>FALSE</li><li>FALSE</li><li>FALSE</li><li>FALSE</li><li>FALSE</li><li>FALSE</li><li>FALSE</li><li>FALSE</li><li>FALSE</li><li>FALSE</li><li>FALSE</li><li>FALSE</li><li>FALSE</li><li>FALSE</li><li>FALSE</li><li>FALSE</li><li>FALSE</li><li>FALSE</li><li>FALSE</li><li>FALSE</li><li>FALSE</li><li>FALSE</li><li>FALSE</li><li>FALSE</li><li>FALSE</li><li>FALSE</li><li>FALSE</li><li>FALSE</li><li>FALSE</li><li>FALSE</li><li>FALSE</li><li>TRUE</li><li>FALSE</li><li>FALSE</li><li>FALSE</li><li>FALSE</li><li>FALSE</li><li>FALSE</li><li>FALSE</li><li>FALSE</li><li>FALSE</li><li>FALSE</li><li>FALSE</li><li>FALSE</li><li>FALSE</li><li>FALSE</li><li>FALSE</li><li>FALSE</li><li>FALSE</li><li>FALSE</li><li>FALSE</li><li>FALSE</li><li>FALSE</li><li>FALSE</li><li>FALSE</li><li>FALSE</li><li>FALSE</li><li>FALSE</li><li>FALSE</li><li>FALSE</li><li>FALSE</li><li>FALSE</li><li>FALSE</li><li>FALSE</li><li>FALSE</li><li>FALSE</li><li>FALSE</li><li>FALSE</li><li>FALSE</li><li>FALSE</li><li>FALSE</li><li>FALSE</li><li>FALSE</li><li>FALSE</li><li>FALSE</li><li>FALSE</li><li>FALSE</li><li>FALSE</li><li>FALSE</li><li>FALSE</li><li>FALSE</li><li>FALSE</li><li>FALSE</li><li>FALSE</li><li>FALSE</li><li>FALSE</li><li>FALSE</li><li>FALSE</li><li>FALSE</li><li>FALSE</li><li>FALSE</li><li>FALSE</li><li>FALSE</li><li>FALSE</li><li>FALSE</li><li>FALSE</li><li>FALSE</li><li>FALSE</li><li>FALSE</li><li>FALSE</li><li>FALSE</li><li>FALSE</li><li>FALSE</li><li>FALSE</li><li>FALSE</li><li>FALSE</li><li>FALSE</li><li>FALSE</li><li>FALSE</li><li>FALSE</li><li>FALSE</li><li>FALSE</li><li>FALSE</li><li>FALSE</li><li>FALSE</li><li>FALSE</li><li>FALSE</li><li>FALSE</li><li>FALSE</li><li>FALSE</li><li>FALSE</li><li>FALSE</li><li>FALSE</li><li>FALSE</li><li>FALSE</li><li>FALSE</li><li>FALSE</li><li>⋯</li><li>FALSE</li><li>FALSE</li><li>FALSE</li><li>FALSE</li><li>FALSE</li><li>FALSE</li><li>FALSE</li><li>FALSE</li><li>FALSE</li><li>FALSE</li><li>FALSE</li><li>FALSE</li><li>FALSE</li><li>FALSE</li><li>FALSE</li><li>FALSE</li><li>FALSE</li><li>FALSE</li><li>FALSE</li><li>FALSE</li><li>FALSE</li><li>FALSE</li><li>FALSE</li><li>FALSE</li><li>FALSE</li><li>FALSE</li><li>FALSE</li><li>FALSE</li><li>FALSE</li><li>FALSE</li><li>FALSE</li><li>FALSE</li><li>FALSE</li><li>FALSE</li><li>FALSE</li><li>FALSE</li><li>FALSE</li><li>FALSE</li><li>FALSE</li><li>FALSE</li><li>FALSE</li><li>FALSE</li><li>FALSE</li><li>FALSE</li><li>FALSE</li><li>FALSE</li><li>FALSE</li><li>FALSE</li><li>FALSE</li><li>FALSE</li><li>FALSE</li><li>FALSE</li><li>FALSE</li><li>FALSE</li><li>FALSE</li><li>FALSE</li><li>FALSE</li><li>FALSE</li><li>FALSE</li><li>FALSE</li><li>FALSE</li><li>FALSE</li><li>FALSE</li><li>FALSE</li><li>FALSE</li><li>FALSE</li><li>FALSE</li><li>FALSE</li><li>FALSE</li><li>FALSE</li><li>FALSE</li><li>FALSE</li><li>FALSE</li><li>FALSE</li><li>FALSE</li><li>FALSE</li><li>FALSE</li><li>FALSE</li><li>FALSE</li><li>FALSE</li><li>FALSE</li><li>FALSE</li><li>FALSE</li><li>FALSE</li><li>FALSE</li><li>FALSE</li><li>FALSE</li><li>FALSE</li><li>FALSE</li><li>FALSE</li><li>FALSE</li><li>FALSE</li><li>FALSE</li><li>FALSE</li><li>FALSE</li><li>FALSE</li><li>FALSE</li><li>FALSE</li><li>FALSE</li><li>FALSE</li><li>FALSE</li><li>FALSE</li><li>FALSE</li><li>FALSE</li><li>FALSE</li><li>FALSE</li><li>FALSE</li><li>FALSE</li><li>FALSE</li><li>FALSE</li><li>FALSE</li><li>FALSE</li><li>FALSE</li><li>FALSE</li><li>FALSE</li><li>FALSE</li><li>FALSE</li><li>FALSE</li><li>FALSE</li><li>FALSE</li><li>FALSE</li><li>FALSE</li><li>FALSE</li><li>FALSE</li><li>FALSE</li><li>FALSE</li><li>FALSE</li><li>FALSE</li><li>FALSE</li><li>FALSE</li><li>FALSE</li><li>FALSE</li><li>FALSE</li><li>FALSE</li><li>FALSE</li><li>FALSE</li><li>FALSE</li><li>FALSE</li><li>FALSE</li><li>FALSE</li><li>FALSE</li><li>FALSE</li><li>FALSE</li><li>FALSE</li><li>FALSE</li><li>FALSE</li><li>FALSE</li><li>FALSE</li><li>FALSE</li><li>FALSE</li><li>FALSE</li><li>FALSE</li><li>FALSE</li><li>FALSE</li><li>FALSE</li><li>FALSE</li><li>FALSE</li><li>FALSE</li><li>FALSE</li><li>FALSE</li><li>FALSE</li><li>FALSE</li><li>FALSE</li><li>FALSE</li><li>FALSE</li><li>FALSE</li><li>FALSE</li><li>FALSE</li><li>FALSE</li><li>FALSE</li><li>FALSE</li><li>FALSE</li><li>FALSE</li><li>FALSE</li><li>FALSE</li><li>FALSE</li><li>FALSE</li><li>FALSE</li><li>FALSE</li><li>FALSE</li><li>FALSE</li><li>FALSE</li><li>FALSE</li><li>FALSE</li><li>FALSE</li><li>FALSE</li><li>FALSE</li><li>FALSE</li><li>FALSE</li><li>FALSE</li><li>FALSE</li><li>FALSE</li><li>FALSE</li><li>FALSE</li><li>FALSE</li><li>FALSE</li><li>FALSE</li><li>FALSE</li><li>FALSE</li><li>FALSE</li></ol>\n"
            ]
          },
          "metadata": {
            "tags": []
          }
        },
        {
          "output_type": "display_data",
          "data": {
            "text/plain": [
              "[1]  105  253  453  807 1469 1493 1530 1751 2563"
            ],
            "text/latex": "\\begin{enumerate*}\n\\item 105\n\\item 253\n\\item 453\n\\item 807\n\\item 1469\n\\item 1493\n\\item 1530\n\\item 1751\n\\item 2563\n\\end{enumerate*}\n",
            "text/markdown": "1. 105\n2. 253\n3. 453\n4. 807\n5. 1469\n6. 1493\n7. 1530\n8. 1751\n9. 2563\n\n\n",
            "text/html": [
              "<style>\n",
              ".list-inline {list-style: none; margin:0; padding: 0}\n",
              ".list-inline>li {display: inline-block}\n",
              ".list-inline>li:not(:last-child)::after {content: \"\\00b7\"; padding: 0 .5ex}\n",
              "</style>\n",
              "<ol class=list-inline><li>105</li><li>253</li><li>453</li><li>807</li><li>1469</li><li>1493</li><li>1530</li><li>1751</li><li>2563</li></ol>\n"
            ]
          },
          "metadata": {
            "tags": []
          }
        }
      ]
    },
    {
      "cell_type": "code",
      "metadata": {
        "colab": {
          "base_uri": "https://localhost:8080/",
          "height": 1000
        },
        "id": "5OrDMYwELqin",
        "outputId": "e9c59c4b-8355-4acd-b8e2-d66bff8773fa"
      },
      "source": [
        "# Retirer les données manquantes\r\n",
        "\r\n",
        "bd2 <- na.omit(bd)\r\n",
        "bd2"
      ],
      "execution_count": 29,
      "outputs": [
        {
          "output_type": "display_data",
          "data": {
            "text/plain": [
              "     X1   X1_1 childs degree educ sei divorce pred     \n",
              "1     1    1   0      1      12   434 0       0.4136253\n",
              "2     2    2   0      3      17   389 0       0.4136253\n",
              "3     3    3   1      4      18   351 0       0.3280116\n",
              "4     4    4   1      0       6   625 1       0.3280116\n",
              "5     5    5   1      0       8   171 0       0.3280116\n",
              "6     6    6   1      3      17   692 1       0.3280116\n",
              "7     7    7   1      1      12   298 1       0.3280116\n",
              "8     8    8   1      1      13   377 1       0.3280116\n",
              "9     9    9   0      1      13   377 0       0.4136253\n",
              "10   11   11   0      4      19   923 0       0.4136253\n",
              "11   12   12   0      4      16   809 1       0.4136253\n",
              "12   13   13   0      3      16   764 1       0.4136253\n",
              "13   14   14   0      1      13   374 1       0.4136253\n",
              "14   15   15   1      3      16   384 1       0.3280116\n",
              "15   16   16   0      3      16   389 0       0.4136253\n",
              "16   17   17   0      1      15   625 0       0.4136253\n",
              "17   18   18   0      4      19   839 1       0.4136253\n",
              "18   19   19   0      1      13   171 1       0.4136253\n",
              "19   20   20   1      1      12   377 0       0.3280116\n",
              "20   21   21   1      1      12   394 1       0.3280116\n",
              "21   22   22   1      0       4   275 0       0.3280116\n",
              "22   23   23   1      1      15   499 1       0.3280116\n",
              "23   24   24   0      1      12   293 0       0.4136253\n",
              "24   25   25   1      0      11   293 0       0.3280116\n",
              "25   26   26   0      1      16   525 1       0.4136253\n",
              "26   27   27   1      3      20   537 0       0.3280116\n",
              "27   28   28   0      3      17   763 1       0.4136253\n",
              "28   29   29   0      3      16   725 0       0.4136253\n",
              "29   30   30   0      3      16   339 0       0.4136253\n",
              "30   31   31   1      4      20   787 0       0.3280116\n",
              "⋮    ⋮    ⋮    ⋮      ⋮      ⋮    ⋮   ⋮       ⋮        \n",
              "2725 2859 2874 1      1      13   293 1       0.3280116\n",
              "2726 2860 2875 1      4      20   879 0       0.3280116\n",
              "2727 2861 2876 0      4      18   625 0       0.4136253\n",
              "2728 2862 2877 1      1      13   331 0       0.3280116\n",
              "2729 2863 2878 1      0      10   397 0       0.3280116\n",
              "2730 2864 2879 1      1      12   697 1       0.3280116\n",
              "2731 2865 2880 1      1      12   499 0       0.3280116\n",
              "2732 2866 2881 0      1      13   389 1       0.4136253\n",
              "2733 2867 2882 0      2      14   394 0       0.4136253\n",
              "2734 2868 2883 0      1      16   764 1       0.4136253\n",
              "2735 2869 2884 1      1      12   485 0       0.3280116\n",
              "2736 2870 2885 0      1      14   264 0       0.4136253\n",
              "2737 2871 2886 0      3      16   422 1       0.4136253\n",
              "2738 2872 2887 1      1      12   507 0       0.3280116\n",
              "2739 2873 2888 1      1      13   545 0       0.3280116\n",
              "2740 2874 2889 1      1      12   525 0       0.3280116\n",
              "2741 2875 2890 1      3      16   622 1       0.3280116\n",
              "2742 2876 2891 1      1      12   505 0       0.3280116\n",
              "2743 2877 2892 1      1      12   331 1       0.3280116\n",
              "2744 2878 2893 1      1      12   381 0       0.3280116\n",
              "2745 2879 2894 1      1      14   744 0       0.3280116\n",
              "2746 2881 2896 1      1      12   284 1       0.3280116\n",
              "2747 2882 2897 0      3      16   324 0       0.4136253\n",
              "2748 2883 2898 0      2      14   286 1       0.4136253\n",
              "2749 2884 2899 1      1      11   389 1       0.3280116\n",
              "2750 2885 2900 0      0      11   381 0       0.4136253\n",
              "2751 2886 2901 1      1      12   384 0       0.3280116\n",
              "2752 2887 2902 1      1      12   284 0       0.3280116\n",
              "2753 2888 2903 1      1       9   681 0       0.3280116\n",
              "2754 2889 2904 1      1      12   324 0       0.3280116"
            ],
            "text/latex": "A tibble: 2754 × 8\n\\begin{tabular}{llllllll}\n X1 & X1\\_1 & childs & degree & educ & sei & divorce & pred\\\\\n <dbl> & <dbl> & <dbl> & <dbl> & <dbl> & <dbl> & <dbl> & <dbl>\\\\\n\\hline\n\t  1 &  1 & 0 & 1 & 12 & 434 & 0 & 0.4136253\\\\\n\t  2 &  2 & 0 & 3 & 17 & 389 & 0 & 0.4136253\\\\\n\t  3 &  3 & 1 & 4 & 18 & 351 & 0 & 0.3280116\\\\\n\t  4 &  4 & 1 & 0 &  6 & 625 & 1 & 0.3280116\\\\\n\t  5 &  5 & 1 & 0 &  8 & 171 & 0 & 0.3280116\\\\\n\t  6 &  6 & 1 & 3 & 17 & 692 & 1 & 0.3280116\\\\\n\t  7 &  7 & 1 & 1 & 12 & 298 & 1 & 0.3280116\\\\\n\t  8 &  8 & 1 & 1 & 13 & 377 & 1 & 0.3280116\\\\\n\t  9 &  9 & 0 & 1 & 13 & 377 & 0 & 0.4136253\\\\\n\t 11 & 11 & 0 & 4 & 19 & 923 & 0 & 0.4136253\\\\\n\t 12 & 12 & 0 & 4 & 16 & 809 & 1 & 0.4136253\\\\\n\t 13 & 13 & 0 & 3 & 16 & 764 & 1 & 0.4136253\\\\\n\t 14 & 14 & 0 & 1 & 13 & 374 & 1 & 0.4136253\\\\\n\t 15 & 15 & 1 & 3 & 16 & 384 & 1 & 0.3280116\\\\\n\t 16 & 16 & 0 & 3 & 16 & 389 & 0 & 0.4136253\\\\\n\t 17 & 17 & 0 & 1 & 15 & 625 & 0 & 0.4136253\\\\\n\t 18 & 18 & 0 & 4 & 19 & 839 & 1 & 0.4136253\\\\\n\t 19 & 19 & 0 & 1 & 13 & 171 & 1 & 0.4136253\\\\\n\t 20 & 20 & 1 & 1 & 12 & 377 & 0 & 0.3280116\\\\\n\t 21 & 21 & 1 & 1 & 12 & 394 & 1 & 0.3280116\\\\\n\t 22 & 22 & 1 & 0 &  4 & 275 & 0 & 0.3280116\\\\\n\t 23 & 23 & 1 & 1 & 15 & 499 & 1 & 0.3280116\\\\\n\t 24 & 24 & 0 & 1 & 12 & 293 & 0 & 0.4136253\\\\\n\t 25 & 25 & 1 & 0 & 11 & 293 & 0 & 0.3280116\\\\\n\t 26 & 26 & 0 & 1 & 16 & 525 & 1 & 0.4136253\\\\\n\t 27 & 27 & 1 & 3 & 20 & 537 & 0 & 0.3280116\\\\\n\t 28 & 28 & 0 & 3 & 17 & 763 & 1 & 0.4136253\\\\\n\t 29 & 29 & 0 & 3 & 16 & 725 & 0 & 0.4136253\\\\\n\t 30 & 30 & 0 & 3 & 16 & 339 & 0 & 0.4136253\\\\\n\t 31 & 31 & 1 & 4 & 20 & 787 & 0 & 0.3280116\\\\\n\t ⋮ & ⋮ & ⋮ & ⋮ & ⋮ & ⋮ & ⋮ & ⋮\\\\\n\t 2859 & 2874 & 1 & 1 & 13 & 293 & 1 & 0.3280116\\\\\n\t 2860 & 2875 & 1 & 4 & 20 & 879 & 0 & 0.3280116\\\\\n\t 2861 & 2876 & 0 & 4 & 18 & 625 & 0 & 0.4136253\\\\\n\t 2862 & 2877 & 1 & 1 & 13 & 331 & 0 & 0.3280116\\\\\n\t 2863 & 2878 & 1 & 0 & 10 & 397 & 0 & 0.3280116\\\\\n\t 2864 & 2879 & 1 & 1 & 12 & 697 & 1 & 0.3280116\\\\\n\t 2865 & 2880 & 1 & 1 & 12 & 499 & 0 & 0.3280116\\\\\n\t 2866 & 2881 & 0 & 1 & 13 & 389 & 1 & 0.4136253\\\\\n\t 2867 & 2882 & 0 & 2 & 14 & 394 & 0 & 0.4136253\\\\\n\t 2868 & 2883 & 0 & 1 & 16 & 764 & 1 & 0.4136253\\\\\n\t 2869 & 2884 & 1 & 1 & 12 & 485 & 0 & 0.3280116\\\\\n\t 2870 & 2885 & 0 & 1 & 14 & 264 & 0 & 0.4136253\\\\\n\t 2871 & 2886 & 0 & 3 & 16 & 422 & 1 & 0.4136253\\\\\n\t 2872 & 2887 & 1 & 1 & 12 & 507 & 0 & 0.3280116\\\\\n\t 2873 & 2888 & 1 & 1 & 13 & 545 & 0 & 0.3280116\\\\\n\t 2874 & 2889 & 1 & 1 & 12 & 525 & 0 & 0.3280116\\\\\n\t 2875 & 2890 & 1 & 3 & 16 & 622 & 1 & 0.3280116\\\\\n\t 2876 & 2891 & 1 & 1 & 12 & 505 & 0 & 0.3280116\\\\\n\t 2877 & 2892 & 1 & 1 & 12 & 331 & 1 & 0.3280116\\\\\n\t 2878 & 2893 & 1 & 1 & 12 & 381 & 0 & 0.3280116\\\\\n\t 2879 & 2894 & 1 & 1 & 14 & 744 & 0 & 0.3280116\\\\\n\t 2881 & 2896 & 1 & 1 & 12 & 284 & 1 & 0.3280116\\\\\n\t 2882 & 2897 & 0 & 3 & 16 & 324 & 0 & 0.4136253\\\\\n\t 2883 & 2898 & 0 & 2 & 14 & 286 & 1 & 0.4136253\\\\\n\t 2884 & 2899 & 1 & 1 & 11 & 389 & 1 & 0.3280116\\\\\n\t 2885 & 2900 & 0 & 0 & 11 & 381 & 0 & 0.4136253\\\\\n\t 2886 & 2901 & 1 & 1 & 12 & 384 & 0 & 0.3280116\\\\\n\t 2887 & 2902 & 1 & 1 & 12 & 284 & 0 & 0.3280116\\\\\n\t 2888 & 2903 & 1 & 1 &  9 & 681 & 0 & 0.3280116\\\\\n\t 2889 & 2904 & 1 & 1 & 12 & 324 & 0 & 0.3280116\\\\\n\\end{tabular}\n",
            "text/markdown": "\nA tibble: 2754 × 8\n\n| X1 &lt;dbl&gt; | X1_1 &lt;dbl&gt; | childs &lt;dbl&gt; | degree &lt;dbl&gt; | educ &lt;dbl&gt; | sei &lt;dbl&gt; | divorce &lt;dbl&gt; | pred &lt;dbl&gt; |\n|---|---|---|---|---|---|---|---|\n|  1 |  1 | 0 | 1 | 12 | 434 | 0 | 0.4136253 |\n|  2 |  2 | 0 | 3 | 17 | 389 | 0 | 0.4136253 |\n|  3 |  3 | 1 | 4 | 18 | 351 | 0 | 0.3280116 |\n|  4 |  4 | 1 | 0 |  6 | 625 | 1 | 0.3280116 |\n|  5 |  5 | 1 | 0 |  8 | 171 | 0 | 0.3280116 |\n|  6 |  6 | 1 | 3 | 17 | 692 | 1 | 0.3280116 |\n|  7 |  7 | 1 | 1 | 12 | 298 | 1 | 0.3280116 |\n|  8 |  8 | 1 | 1 | 13 | 377 | 1 | 0.3280116 |\n|  9 |  9 | 0 | 1 | 13 | 377 | 0 | 0.4136253 |\n| 11 | 11 | 0 | 4 | 19 | 923 | 0 | 0.4136253 |\n| 12 | 12 | 0 | 4 | 16 | 809 | 1 | 0.4136253 |\n| 13 | 13 | 0 | 3 | 16 | 764 | 1 | 0.4136253 |\n| 14 | 14 | 0 | 1 | 13 | 374 | 1 | 0.4136253 |\n| 15 | 15 | 1 | 3 | 16 | 384 | 1 | 0.3280116 |\n| 16 | 16 | 0 | 3 | 16 | 389 | 0 | 0.4136253 |\n| 17 | 17 | 0 | 1 | 15 | 625 | 0 | 0.4136253 |\n| 18 | 18 | 0 | 4 | 19 | 839 | 1 | 0.4136253 |\n| 19 | 19 | 0 | 1 | 13 | 171 | 1 | 0.4136253 |\n| 20 | 20 | 1 | 1 | 12 | 377 | 0 | 0.3280116 |\n| 21 | 21 | 1 | 1 | 12 | 394 | 1 | 0.3280116 |\n| 22 | 22 | 1 | 0 |  4 | 275 | 0 | 0.3280116 |\n| 23 | 23 | 1 | 1 | 15 | 499 | 1 | 0.3280116 |\n| 24 | 24 | 0 | 1 | 12 | 293 | 0 | 0.4136253 |\n| 25 | 25 | 1 | 0 | 11 | 293 | 0 | 0.3280116 |\n| 26 | 26 | 0 | 1 | 16 | 525 | 1 | 0.4136253 |\n| 27 | 27 | 1 | 3 | 20 | 537 | 0 | 0.3280116 |\n| 28 | 28 | 0 | 3 | 17 | 763 | 1 | 0.4136253 |\n| 29 | 29 | 0 | 3 | 16 | 725 | 0 | 0.4136253 |\n| 30 | 30 | 0 | 3 | 16 | 339 | 0 | 0.4136253 |\n| 31 | 31 | 1 | 4 | 20 | 787 | 0 | 0.3280116 |\n| ⋮ | ⋮ | ⋮ | ⋮ | ⋮ | ⋮ | ⋮ | ⋮ |\n| 2859 | 2874 | 1 | 1 | 13 | 293 | 1 | 0.3280116 |\n| 2860 | 2875 | 1 | 4 | 20 | 879 | 0 | 0.3280116 |\n| 2861 | 2876 | 0 | 4 | 18 | 625 | 0 | 0.4136253 |\n| 2862 | 2877 | 1 | 1 | 13 | 331 | 0 | 0.3280116 |\n| 2863 | 2878 | 1 | 0 | 10 | 397 | 0 | 0.3280116 |\n| 2864 | 2879 | 1 | 1 | 12 | 697 | 1 | 0.3280116 |\n| 2865 | 2880 | 1 | 1 | 12 | 499 | 0 | 0.3280116 |\n| 2866 | 2881 | 0 | 1 | 13 | 389 | 1 | 0.4136253 |\n| 2867 | 2882 | 0 | 2 | 14 | 394 | 0 | 0.4136253 |\n| 2868 | 2883 | 0 | 1 | 16 | 764 | 1 | 0.4136253 |\n| 2869 | 2884 | 1 | 1 | 12 | 485 | 0 | 0.3280116 |\n| 2870 | 2885 | 0 | 1 | 14 | 264 | 0 | 0.4136253 |\n| 2871 | 2886 | 0 | 3 | 16 | 422 | 1 | 0.4136253 |\n| 2872 | 2887 | 1 | 1 | 12 | 507 | 0 | 0.3280116 |\n| 2873 | 2888 | 1 | 1 | 13 | 545 | 0 | 0.3280116 |\n| 2874 | 2889 | 1 | 1 | 12 | 525 | 0 | 0.3280116 |\n| 2875 | 2890 | 1 | 3 | 16 | 622 | 1 | 0.3280116 |\n| 2876 | 2891 | 1 | 1 | 12 | 505 | 0 | 0.3280116 |\n| 2877 | 2892 | 1 | 1 | 12 | 331 | 1 | 0.3280116 |\n| 2878 | 2893 | 1 | 1 | 12 | 381 | 0 | 0.3280116 |\n| 2879 | 2894 | 1 | 1 | 14 | 744 | 0 | 0.3280116 |\n| 2881 | 2896 | 1 | 1 | 12 | 284 | 1 | 0.3280116 |\n| 2882 | 2897 | 0 | 3 | 16 | 324 | 0 | 0.4136253 |\n| 2883 | 2898 | 0 | 2 | 14 | 286 | 1 | 0.4136253 |\n| 2884 | 2899 | 1 | 1 | 11 | 389 | 1 | 0.3280116 |\n| 2885 | 2900 | 0 | 0 | 11 | 381 | 0 | 0.4136253 |\n| 2886 | 2901 | 1 | 1 | 12 | 384 | 0 | 0.3280116 |\n| 2887 | 2902 | 1 | 1 | 12 | 284 | 0 | 0.3280116 |\n| 2888 | 2903 | 1 | 1 |  9 | 681 | 0 | 0.3280116 |\n| 2889 | 2904 | 1 | 1 | 12 | 324 | 0 | 0.3280116 |\n\n",
            "text/html": [
              "<table class=\"dataframe\">\n",
              "<caption>A tibble: 2754 × 8</caption>\n",
              "<thead>\n",
              "\t<tr><th scope=col>X1</th><th scope=col>X1_1</th><th scope=col>childs</th><th scope=col>degree</th><th scope=col>educ</th><th scope=col>sei</th><th scope=col>divorce</th><th scope=col>pred</th></tr>\n",
              "\t<tr><th scope=col>&lt;dbl&gt;</th><th scope=col>&lt;dbl&gt;</th><th scope=col>&lt;dbl&gt;</th><th scope=col>&lt;dbl&gt;</th><th scope=col>&lt;dbl&gt;</th><th scope=col>&lt;dbl&gt;</th><th scope=col>&lt;dbl&gt;</th><th scope=col>&lt;dbl&gt;</th></tr>\n",
              "</thead>\n",
              "<tbody>\n",
              "\t<tr><td> 1</td><td> 1</td><td>0</td><td>1</td><td>12</td><td>434</td><td>0</td><td>0.4136253</td></tr>\n",
              "\t<tr><td> 2</td><td> 2</td><td>0</td><td>3</td><td>17</td><td>389</td><td>0</td><td>0.4136253</td></tr>\n",
              "\t<tr><td> 3</td><td> 3</td><td>1</td><td>4</td><td>18</td><td>351</td><td>0</td><td>0.3280116</td></tr>\n",
              "\t<tr><td> 4</td><td> 4</td><td>1</td><td>0</td><td> 6</td><td>625</td><td>1</td><td>0.3280116</td></tr>\n",
              "\t<tr><td> 5</td><td> 5</td><td>1</td><td>0</td><td> 8</td><td>171</td><td>0</td><td>0.3280116</td></tr>\n",
              "\t<tr><td> 6</td><td> 6</td><td>1</td><td>3</td><td>17</td><td>692</td><td>1</td><td>0.3280116</td></tr>\n",
              "\t<tr><td> 7</td><td> 7</td><td>1</td><td>1</td><td>12</td><td>298</td><td>1</td><td>0.3280116</td></tr>\n",
              "\t<tr><td> 8</td><td> 8</td><td>1</td><td>1</td><td>13</td><td>377</td><td>1</td><td>0.3280116</td></tr>\n",
              "\t<tr><td> 9</td><td> 9</td><td>0</td><td>1</td><td>13</td><td>377</td><td>0</td><td>0.4136253</td></tr>\n",
              "\t<tr><td>11</td><td>11</td><td>0</td><td>4</td><td>19</td><td>923</td><td>0</td><td>0.4136253</td></tr>\n",
              "\t<tr><td>12</td><td>12</td><td>0</td><td>4</td><td>16</td><td>809</td><td>1</td><td>0.4136253</td></tr>\n",
              "\t<tr><td>13</td><td>13</td><td>0</td><td>3</td><td>16</td><td>764</td><td>1</td><td>0.4136253</td></tr>\n",
              "\t<tr><td>14</td><td>14</td><td>0</td><td>1</td><td>13</td><td>374</td><td>1</td><td>0.4136253</td></tr>\n",
              "\t<tr><td>15</td><td>15</td><td>1</td><td>3</td><td>16</td><td>384</td><td>1</td><td>0.3280116</td></tr>\n",
              "\t<tr><td>16</td><td>16</td><td>0</td><td>3</td><td>16</td><td>389</td><td>0</td><td>0.4136253</td></tr>\n",
              "\t<tr><td>17</td><td>17</td><td>0</td><td>1</td><td>15</td><td>625</td><td>0</td><td>0.4136253</td></tr>\n",
              "\t<tr><td>18</td><td>18</td><td>0</td><td>4</td><td>19</td><td>839</td><td>1</td><td>0.4136253</td></tr>\n",
              "\t<tr><td>19</td><td>19</td><td>0</td><td>1</td><td>13</td><td>171</td><td>1</td><td>0.4136253</td></tr>\n",
              "\t<tr><td>20</td><td>20</td><td>1</td><td>1</td><td>12</td><td>377</td><td>0</td><td>0.3280116</td></tr>\n",
              "\t<tr><td>21</td><td>21</td><td>1</td><td>1</td><td>12</td><td>394</td><td>1</td><td>0.3280116</td></tr>\n",
              "\t<tr><td>22</td><td>22</td><td>1</td><td>0</td><td> 4</td><td>275</td><td>0</td><td>0.3280116</td></tr>\n",
              "\t<tr><td>23</td><td>23</td><td>1</td><td>1</td><td>15</td><td>499</td><td>1</td><td>0.3280116</td></tr>\n",
              "\t<tr><td>24</td><td>24</td><td>0</td><td>1</td><td>12</td><td>293</td><td>0</td><td>0.4136253</td></tr>\n",
              "\t<tr><td>25</td><td>25</td><td>1</td><td>0</td><td>11</td><td>293</td><td>0</td><td>0.3280116</td></tr>\n",
              "\t<tr><td>26</td><td>26</td><td>0</td><td>1</td><td>16</td><td>525</td><td>1</td><td>0.4136253</td></tr>\n",
              "\t<tr><td>27</td><td>27</td><td>1</td><td>3</td><td>20</td><td>537</td><td>0</td><td>0.3280116</td></tr>\n",
              "\t<tr><td>28</td><td>28</td><td>0</td><td>3</td><td>17</td><td>763</td><td>1</td><td>0.4136253</td></tr>\n",
              "\t<tr><td>29</td><td>29</td><td>0</td><td>3</td><td>16</td><td>725</td><td>0</td><td>0.4136253</td></tr>\n",
              "\t<tr><td>30</td><td>30</td><td>0</td><td>3</td><td>16</td><td>339</td><td>0</td><td>0.4136253</td></tr>\n",
              "\t<tr><td>31</td><td>31</td><td>1</td><td>4</td><td>20</td><td>787</td><td>0</td><td>0.3280116</td></tr>\n",
              "\t<tr><td>⋮</td><td>⋮</td><td>⋮</td><td>⋮</td><td>⋮</td><td>⋮</td><td>⋮</td><td>⋮</td></tr>\n",
              "\t<tr><td>2859</td><td>2874</td><td>1</td><td>1</td><td>13</td><td>293</td><td>1</td><td>0.3280116</td></tr>\n",
              "\t<tr><td>2860</td><td>2875</td><td>1</td><td>4</td><td>20</td><td>879</td><td>0</td><td>0.3280116</td></tr>\n",
              "\t<tr><td>2861</td><td>2876</td><td>0</td><td>4</td><td>18</td><td>625</td><td>0</td><td>0.4136253</td></tr>\n",
              "\t<tr><td>2862</td><td>2877</td><td>1</td><td>1</td><td>13</td><td>331</td><td>0</td><td>0.3280116</td></tr>\n",
              "\t<tr><td>2863</td><td>2878</td><td>1</td><td>0</td><td>10</td><td>397</td><td>0</td><td>0.3280116</td></tr>\n",
              "\t<tr><td>2864</td><td>2879</td><td>1</td><td>1</td><td>12</td><td>697</td><td>1</td><td>0.3280116</td></tr>\n",
              "\t<tr><td>2865</td><td>2880</td><td>1</td><td>1</td><td>12</td><td>499</td><td>0</td><td>0.3280116</td></tr>\n",
              "\t<tr><td>2866</td><td>2881</td><td>0</td><td>1</td><td>13</td><td>389</td><td>1</td><td>0.4136253</td></tr>\n",
              "\t<tr><td>2867</td><td>2882</td><td>0</td><td>2</td><td>14</td><td>394</td><td>0</td><td>0.4136253</td></tr>\n",
              "\t<tr><td>2868</td><td>2883</td><td>0</td><td>1</td><td>16</td><td>764</td><td>1</td><td>0.4136253</td></tr>\n",
              "\t<tr><td>2869</td><td>2884</td><td>1</td><td>1</td><td>12</td><td>485</td><td>0</td><td>0.3280116</td></tr>\n",
              "\t<tr><td>2870</td><td>2885</td><td>0</td><td>1</td><td>14</td><td>264</td><td>0</td><td>0.4136253</td></tr>\n",
              "\t<tr><td>2871</td><td>2886</td><td>0</td><td>3</td><td>16</td><td>422</td><td>1</td><td>0.4136253</td></tr>\n",
              "\t<tr><td>2872</td><td>2887</td><td>1</td><td>1</td><td>12</td><td>507</td><td>0</td><td>0.3280116</td></tr>\n",
              "\t<tr><td>2873</td><td>2888</td><td>1</td><td>1</td><td>13</td><td>545</td><td>0</td><td>0.3280116</td></tr>\n",
              "\t<tr><td>2874</td><td>2889</td><td>1</td><td>1</td><td>12</td><td>525</td><td>0</td><td>0.3280116</td></tr>\n",
              "\t<tr><td>2875</td><td>2890</td><td>1</td><td>3</td><td>16</td><td>622</td><td>1</td><td>0.3280116</td></tr>\n",
              "\t<tr><td>2876</td><td>2891</td><td>1</td><td>1</td><td>12</td><td>505</td><td>0</td><td>0.3280116</td></tr>\n",
              "\t<tr><td>2877</td><td>2892</td><td>1</td><td>1</td><td>12</td><td>331</td><td>1</td><td>0.3280116</td></tr>\n",
              "\t<tr><td>2878</td><td>2893</td><td>1</td><td>1</td><td>12</td><td>381</td><td>0</td><td>0.3280116</td></tr>\n",
              "\t<tr><td>2879</td><td>2894</td><td>1</td><td>1</td><td>14</td><td>744</td><td>0</td><td>0.3280116</td></tr>\n",
              "\t<tr><td>2881</td><td>2896</td><td>1</td><td>1</td><td>12</td><td>284</td><td>1</td><td>0.3280116</td></tr>\n",
              "\t<tr><td>2882</td><td>2897</td><td>0</td><td>3</td><td>16</td><td>324</td><td>0</td><td>0.4136253</td></tr>\n",
              "\t<tr><td>2883</td><td>2898</td><td>0</td><td>2</td><td>14</td><td>286</td><td>1</td><td>0.4136253</td></tr>\n",
              "\t<tr><td>2884</td><td>2899</td><td>1</td><td>1</td><td>11</td><td>389</td><td>1</td><td>0.3280116</td></tr>\n",
              "\t<tr><td>2885</td><td>2900</td><td>0</td><td>0</td><td>11</td><td>381</td><td>0</td><td>0.4136253</td></tr>\n",
              "\t<tr><td>2886</td><td>2901</td><td>1</td><td>1</td><td>12</td><td>384</td><td>0</td><td>0.3280116</td></tr>\n",
              "\t<tr><td>2887</td><td>2902</td><td>1</td><td>1</td><td>12</td><td>284</td><td>0</td><td>0.3280116</td></tr>\n",
              "\t<tr><td>2888</td><td>2903</td><td>1</td><td>1</td><td> 9</td><td>681</td><td>0</td><td>0.3280116</td></tr>\n",
              "\t<tr><td>2889</td><td>2904</td><td>1</td><td>1</td><td>12</td><td>324</td><td>0</td><td>0.3280116</td></tr>\n",
              "</tbody>\n",
              "</table>\n"
            ]
          },
          "metadata": {
            "tags": []
          }
        }
      ]
    },
    {
      "cell_type": "code",
      "metadata": {
        "colab": {
          "base_uri": "https://localhost:8080/",
          "height": 67
        },
        "id": "2xMRii3XDLXh",
        "outputId": "366dba5f-255f-4c98-aa6b-5f1ea0990f67"
      },
      "source": [
        "# descriptif de la variable educ\r\n",
        "\r\n",
        "summary(bd2$educ)\r\n",
        "sd(bd2$educ, na.rm=TRUE)"
      ],
      "execution_count": 30,
      "outputs": [
        {
          "output_type": "display_data",
          "data": {
            "text/plain": [
              "   Min. 1st Qu.  Median    Mean 3rd Qu.    Max. \n",
              "   0.00   12.00   13.00   13.46   16.00   20.00 "
            ]
          },
          "metadata": {
            "tags": []
          }
        },
        {
          "output_type": "display_data",
          "data": {
            "text/plain": [
              "[1] 2.898765"
            ],
            "text/latex": "2.8987645035276",
            "text/markdown": "2.8987645035276",
            "text/html": [
              "2.8987645035276"
            ]
          },
          "metadata": {
            "tags": []
          }
        }
      ]
    },
    {
      "cell_type": "code",
      "metadata": {
        "colab": {
          "base_uri": "https://localhost:8080/",
          "height": 437
        },
        "id": "aXCmYlNXJW1j",
        "outputId": "b2d64a44-8d01-4703-8a15-c2900e4e30a8"
      },
      "source": [
        "#Histogramme distribution variable educ \r\n",
        "\r\n",
        "ggplot(bd2, aes(x=educ)) +\r\n",
        "  geom_histogram(binwidth=1, fill=\"#69b3a2\", color=\"#e9ecef\", alpha=0.9) +\r\n",
        "    ggtitle(\"Distribution: années d'éducation\") +\r\n",
        "    theme(\r\n",
        "      plot.title = element_text(size=20)\r\n",
        "    )"
      ],
      "execution_count": 31,
      "outputs": [
        {
          "output_type": "display_data",
          "data": {
            "image/png": "[encoded data removed]",
            "text/plain": [
              "plot without title"
            ]
          },
          "metadata": {
            "tags": [],
            "image/png": {
              "width": 420,
              "height": 420
            }
          }
        }
      ]
    },
    {
      "cell_type": "code",
      "metadata": {
        "colab": {
          "base_uri": "https://localhost:8080/",
          "height": 420
        },
        "id": "MtU1I0AfJGUQ",
        "outputId": "d7b0090a-417a-4365-be0d-b49a6d4b7cab"
      },
      "source": [
        "# Regression logistique educ et divorce\r\n",
        "\r\n",
        "reglog2 <- glm(divorce ~ educ, data = bd2, family=\"binomial\")\r\n",
        "summary(rstandard(reglog2))\r\n",
        "summary(reglog2)"
      ],
      "execution_count": 32,
      "outputs": [
        {
          "output_type": "display_data",
          "data": {
            "text/plain": [
              "    Min.  1st Qu.   Median     Mean  3rd Qu.     Max. \n",
              "-1.01703 -0.94433 -0.92217 -0.09328  1.43053  1.48460 "
            ]
          },
          "metadata": {
            "tags": []
          }
        },
        {
          "output_type": "display_data",
          "data": {
            "text/plain": [
              "\n",
              "Call:\n",
              "glm(formula = divorce ~ educ, family = \"binomial\", data = bd2)\n",
              "\n",
              "Deviance Residuals: \n",
              "    Min       1Q   Median       3Q      Max  \n",
              "-1.0127  -0.9441  -0.9219   1.4302   1.4830  \n",
              "\n",
              "Coefficients:\n",
              "            Estimate Std. Error z value Pr(>|z|)  \n",
              "(Intercept) -0.40066    0.18866  -2.124   0.0337 *\n",
              "educ        -0.01470    0.01374  -1.070   0.2847  \n",
              "---\n",
              "Signif. codes:  0 ‘***’ 0.001 ‘**’ 0.01 ‘*’ 0.05 ‘.’ 0.1 ‘ ’ 1\n",
              "\n",
              "(Dispersion parameter for binomial family taken to be 1)\n",
              "\n",
              "    Null deviance: 3582.1  on 2753  degrees of freedom\n",
              "Residual deviance: 3580.9  on 2752  degrees of freedom\n",
              "AIC: 3584.9\n",
              "\n",
              "Number of Fisher Scoring iterations: 4\n"
            ]
          },
          "metadata": {
            "tags": []
          }
        }
      ]
    },
    {
      "cell_type": "code",
      "metadata": {
        "colab": {
          "base_uri": "https://localhost:8080/",
          "height": 50
        },
        "id": "o8wLitz8LBYh",
        "outputId": "6bf85b07-d899-4c60-fb86-9dbb65c09011"
      },
      "source": [
        "# Calcule de la probabilité prédite\r\n",
        "\r\n",
        "bd2$pred2 <- predict(reglog2, type = \"response\")\r\n",
        "summary(bd2$pred2)"
      ],
      "execution_count": 33,
      "outputs": [
        {
          "output_type": "display_data",
          "data": {
            "text/plain": [
              "   Min. 1st Qu.  Median    Mean 3rd Qu.    Max. \n",
              " 0.3330  0.3462  0.3562  0.3548  0.3596  0.4012 "
            ]
          },
          "metadata": {
            "tags": []
          }
        }
      ]
    },
    {
      "cell_type": "code",
      "metadata": {
        "colab": {
          "base_uri": "https://localhost:8080/",
          "height": 437
        },
        "id": "zV7OEuETLGNy",
        "outputId": "d6eaa7ad-36c4-45b1-808f-e3557e520b32"
      },
      "source": [
        "# Nuage de points (à la recherche de la valeur pour x=12)\r\n",
        "\r\n",
        "ggplot(bd2, aes(x = educ, y = pred2)) +\r\n",
        "  geom_point()"
      ],
      "execution_count": 34,
      "outputs": [
        {
          "output_type": "display_data",
          "data": {
            "image/png": "[encoded data removed]",
            "text/plain": [
              "plot without title"
            ]
          },
          "metadata": {
            "tags": [],
            "image/png": {
              "width": 420,
              "height": 420
            }
          }
        }
      ]
    },
    {
      "cell_type": "code",
      "metadata": {
        "id": "EmRv9KEztMGM"
      },
      "source": [
        ""
      ],
      "execution_count": null,
      "outputs": []
    }
  ]
}