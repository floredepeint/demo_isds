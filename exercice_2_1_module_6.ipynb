{
  "nbformat": 4,
  "nbformat_minor": 0,
  "metadata": {
    "colab": {
      "name": "exercice 2-1 module 6.ipynb",
      "provenance": [],
      "authorship_tag": "ABX9TyOAu2XWOJeQIe26YqD/p+lK",
      "include_colab_link": true
    },
    "kernelspec": {
      "name": "ir",
      "display_name": "R"
    }
  },
  "cells": [
    {
      "cell_type": "markdown",
      "metadata": {
        "id": "view-in-github",
        "colab_type": "text"
      },
      "source": [
        "<a href=\"https://colab.research.google.com/github/floredepeint/demo_isds/blob/main/exercice_2_1_module_6.ipynb\" target=\"_parent\"><img src=\"https://colab.research.google.com/assets/colab-badge.svg\" alt=\"Open In Colab\"/></a>"
      ]
    },
    {
      "cell_type": "code",
      "metadata": {
        "id": "qRHhPXS9pTvi"
      },
      "source": [
        "#Téléchargement des packages nécessaires\r\n",
        "\r\n",
        "library (tidyverse)\r\n",
        "install.packages(\"rsq\")\r\n",
        "require(rsq)\r\n",
        "library(ggplot2)"
      ],
      "execution_count": null,
      "outputs": []
    },
    {
      "cell_type": "code",
      "metadata": {
        "id": "34pbah6FrE4K"
      },
      "source": [
        "#Ouvrir le fichier\r\n",
        "\r\n",
        "path_to_csv = 'https://github.com/Cours-EDUlib/FAS-ISDS/blob/main/module-6/Exercices/6-1-2_donnees.csv?raw=true'\r\n",
        "\r\n",
        "df <- read_csv(path_to_csv)\r\n",
        "df"
      ],
      "execution_count": null,
      "outputs": []
    },
    {
      "cell_type": "code",
      "metadata": {
        "id": "8Qb_9Sz7rFFU"
      },
      "source": [
        "#Statistiques descriptives\r\n",
        "\r\n",
        "summary(bd$ses)\r\n",
        "summary(bd$experience)\r\n",
        "\r\n",
        "sd(bd$ses)\r\n",
        "sd(bd$experience)"
      ],
      "execution_count": null,
      "outputs": []
    },
    {
      "cell_type": "code",
      "metadata": {
        "id": "D-G3rsHVrbDz"
      },
      "source": [
        "#Histogramme pour vérification du postulat de normalité\r\n",
        "\r\n",
        "ggplot(bd, aes(x=experience)) +\r\n",
        "  geom_histogram(binwidth=2, fill=\"#69b3a2\", color=\"#e9ecef\", alpha=0.9) +\r\n",
        "    ggtitle(\"Distribution: expérience\") +\r\n",
        "    theme(\r\n",
        "      plot.title = element_text(size=20)\r\n",
        "    )\r\n",
        "\r\n",
        "ggplot(bd, aes(x=ses)) +\r\n",
        "  geom_histogram(binwidth=5, fill=\"#69b3a2\", color=\"#e9ecef\", alpha=0.9) +\r\n",
        "    ggtitle(\"Distribution: statut socioéconomique\") +\r\n",
        "    theme(\r\n",
        "      plot.title = element_text(size=20)\r\n",
        "    )"
      ],
      "execution_count": null,
      "outputs": []
    },
    {
      "cell_type": "code",
      "metadata": {
        "id": "ntiwP4iirnJy"
      },
      "source": [
        "#Nuage de points\r\n",
        "\r\n",
        "ggplot(bd, aes(x=experience, y=ses)) + \r\n",
        "    geom_point()"
      ],
      "execution_count": null,
      "outputs": []
    },
    {
      "cell_type": "code",
      "metadata": {
        "id": "Px5b12S-99n1"
      },
      "source": [
        "#Faire la régression linéaire\r\n",
        "\r\n",
        "reglineaire <- glm(experience ~ ses, data = bd, family=\"gaussian\")\r\n",
        "summary(rstandard(reglineaire))\r\n",
        "summary(reglineaire)\r\n"
      ],
      "execution_count": null,
      "outputs": []
    },
    {
      "cell_type": "code",
      "metadata": {
        "id": "nU4sa62B9_8B"
      },
      "source": [
        "#Calcul du r-carré\r\n",
        "\r\n",
        "rsq(reglineaire)"
      ],
      "execution_count": null,
      "outputs": []
    }
  ]
}